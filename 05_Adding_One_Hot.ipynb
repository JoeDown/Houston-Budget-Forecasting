{
 "cells": [
  {
   "cell_type": "code",
   "execution_count": 32,
   "metadata": {},
   "outputs": [
    {
     "name": "stdout",
     "output_type": "stream",
     "text": [
      "The autoreload extension is already loaded. To reload it, use:\n",
      "  %reload_ext autoreload\n"
     ]
    }
   ],
   "source": [
    "import pandas as pd\n",
    "import numpy as np\n",
    "import matplotlib.pyplot as plt\n",
    "import seaborn as sns\n",
    "import pandas_profiling\n",
    "import datetime\n",
    "from IPython.display import clear_output\n",
    "from datetime import timedelta\n",
    "from scipy.stats import skewnorm\n",
    "import inspect, re\n",
    "import h2o\n",
    "from h2o.automl import H2OAutoML\n",
    "import xgboost as xgb\n",
    "               \n",
    "%load_ext autoreload\n",
    "%autoreload 2\n",
    "\n",
    "%matplotlib inline\n",
    "plt.style.use('ggplot')\n",
    "\n",
    "pd.set_option('display.max_rows', None)\n",
    "pd.set_option('display.max_columns', None)"
   ]
  },
  {
   "cell_type": "code",
   "execution_count": 2,
   "metadata": {},
   "outputs": [
    {
     "name": "stdout",
     "output_type": "stream",
     "text": [
      "Checking whether there is an H2O instance running at http://localhost:54321 ..... not found.\n",
      "Attempting to start a local H2O server...\n",
      "  Java Version: Picked up _JAVA_OPTIONS: -Xverify:none; java version \"12.0.1\" 2019-04-16; Java(TM) SE Runtime Environment (build 12.0.1+12); Java HotSpot(TM) 64-Bit Server VM (build 12.0.1+12, mixed mode, sharing)\n",
      "  Starting server from /anaconda3/lib/python3.6/site-packages/h2o/backend/bin/h2o.jar\n",
      "  Ice root: /var/folders/0y/vcjmh6651517f16c4qtnxyg00000gq/T/tmpazt8qb7h\n",
      "  JVM stdout: /var/folders/0y/vcjmh6651517f16c4qtnxyg00000gq/T/tmpazt8qb7h/h2o_josephdown_started_from_python.out\n",
      "  JVM stderr: /var/folders/0y/vcjmh6651517f16c4qtnxyg00000gq/T/tmpazt8qb7h/h2o_josephdown_started_from_python.err\n",
      "  Server is running at http://127.0.0.1:54321\n",
      "Connecting to H2O server at http://127.0.0.1:54321 ... successful.\n"
     ]
    },
    {
     "data": {
      "text/html": [
       "<div style=\"overflow:auto\"><table style=\"width:50%\"><tr><td>H2O cluster uptime:</td>\n",
       "<td>02 secs</td></tr>\n",
       "<tr><td>H2O cluster timezone:</td>\n",
       "<td>America/Chicago</td></tr>\n",
       "<tr><td>H2O data parsing timezone:</td>\n",
       "<td>UTC</td></tr>\n",
       "<tr><td>H2O cluster version:</td>\n",
       "<td>3.26.0.2</td></tr>\n",
       "<tr><td>H2O cluster version age:</td>\n",
       "<td>1 month and 3 days </td></tr>\n",
       "<tr><td>H2O cluster name:</td>\n",
       "<td>H2O_from_python_josephdown_bis3r7</td></tr>\n",
       "<tr><td>H2O cluster total nodes:</td>\n",
       "<td>1</td></tr>\n",
       "<tr><td>H2O cluster free memory:</td>\n",
       "<td>4 Gb</td></tr>\n",
       "<tr><td>H2O cluster total cores:</td>\n",
       "<td>8</td></tr>\n",
       "<tr><td>H2O cluster allowed cores:</td>\n",
       "<td>8</td></tr>\n",
       "<tr><td>H2O cluster status:</td>\n",
       "<td>accepting new members, healthy</td></tr>\n",
       "<tr><td>H2O connection url:</td>\n",
       "<td>http://127.0.0.1:54321</td></tr>\n",
       "<tr><td>H2O connection proxy:</td>\n",
       "<td>None</td></tr>\n",
       "<tr><td>H2O internal security:</td>\n",
       "<td>False</td></tr>\n",
       "<tr><td>H2O API Extensions:</td>\n",
       "<td>Amazon S3, XGBoost, Algos, AutoML, Core V3, Core V4</td></tr>\n",
       "<tr><td>Python version:</td>\n",
       "<td>3.6.8 final</td></tr></table></div>"
      ],
      "text/plain": [
       "--------------------------  ---------------------------------------------------\n",
       "H2O cluster uptime:         02 secs\n",
       "H2O cluster timezone:       America/Chicago\n",
       "H2O data parsing timezone:  UTC\n",
       "H2O cluster version:        3.26.0.2\n",
       "H2O cluster version age:    1 month and 3 days\n",
       "H2O cluster name:           H2O_from_python_josephdown_bis3r7\n",
       "H2O cluster total nodes:    1\n",
       "H2O cluster free memory:    4 Gb\n",
       "H2O cluster total cores:    8\n",
       "H2O cluster allowed cores:  8\n",
       "H2O cluster status:         accepting new members, healthy\n",
       "H2O connection url:         http://127.0.0.1:54321\n",
       "H2O connection proxy:\n",
       "H2O internal security:      False\n",
       "H2O API Extensions:         Amazon S3, XGBoost, Algos, AutoML, Core V3, Core V4\n",
       "Python version:             3.6.8 final\n",
       "--------------------------  ---------------------------------------------------"
      ]
     },
     "metadata": {},
     "output_type": "display_data"
    }
   ],
   "source": [
    "h2o.init()"
   ]
  },
  {
   "cell_type": "code",
   "execution_count": 3,
   "metadata": {},
   "outputs": [],
   "source": [
    "fy_10 = pd.read_excel(\"budget-vs-actuals-revenue-and-expenses-fy10-operating-budget.xlsx\")\n",
    "fy_11 = pd.read_excel(\"budget-vs-actuals-revenue-and-expenses-fy11-operating-budget.xlsx\")\n",
    "fy_12 = pd.read_excel(\"budget-vs-actuals-revenue-and-expenses-fy12-operating-budget.xlsx\")\n",
    "fy_13 = pd.read_excel(\"budget-vs-actuals-revenue-and-expenses-fy13-operating-budget.xlsx\")\n",
    "fy_14 = pd.read_excel(\"budget-vs-actuals-revenue-and-expenses-fy14-operating-budget.xlsx\")\n",
    "fy_15 = pd.read_excel(\"budget-vs-actuals-revenue-and-expenses-fy15-operating-budget.xlsx\")\n",
    "fy_16 = pd.read_excel(\"fy16-budget-vs-actuals-revenue-and-expenses.xls\")\n",
    "\n",
    "#Clean up the formating of FY16\n",
    "fy_16.columns = fy_16.loc[0].values\n",
    "fy_16 = fy_16.loc[1:]"
   ]
  },
  {
   "cell_type": "code",
   "execution_count": 4,
   "metadata": {},
   "outputs": [
    {
     "name": "stderr",
     "output_type": "stream",
     "text": [
      "/anaconda3/lib/python3.6/site-packages/ipykernel_launcher.py:6: SettingWithCopyWarning: \n",
      "A value is trying to be set on a copy of a slice from a DataFrame\n",
      "\n",
      "See the caveats in the documentation: http://pandas.pydata.org/pandas-docs/stable/indexing.html#indexing-view-versus-copy\n",
      "  \n"
     ]
    }
   ],
   "source": [
    "fy_list = [fy_10, fy_11, fy_12, fy_13, fy_14, fy_15, fy_16]\n",
    "\n",
    "for year in fy_list:\n",
    "    year['OA_Difference'] = year['Actuals']-year['Original Budget']\n",
    "    year = year.loc[year['Revenue or Expenditure']==\"Expenditures\"]\n",
    "    year.dropna(inplace=True)"
   ]
  },
  {
   "cell_type": "markdown",
   "metadata": {},
   "source": []
  },
  {
   "cell_type": "code",
   "execution_count": 5,
   "metadata": {},
   "outputs": [],
   "source": [
    "df = pd.concat(fy_list)\n",
    "df.dropna(inplace=True)\n",
    "\n",
    "houston_data = pd.read_csv(\"Houston Yearly Data - Sheet1 (1).csv\")\n",
    "houston_data_columns = houston_data.iloc[1,1:].values\n",
    "houston_data_index = houston_data.iloc[2:,0].values\n",
    "houston_data  = houston_data.iloc[2:,1:]\n"
   ]
  },
  {
   "cell_type": "code",
   "execution_count": 6,
   "metadata": {},
   "outputs": [],
   "source": [
    "houston_data.index= houston_data_index\n",
    "houston_data.columns = houston_data_columns\n",
    "houston_data.columns = ['2009', '2010', '2011', '2012', '2013', '2014', '2015', '2016', '2017',\n",
    "       '2018', '2019']\n",
    "houston_data.fillna(0, inplace=True)\n",
    "houston_data['2019'] = houston_data['2019'].astype(int)\n",
    "\n",
    "\n",
    "\n",
    "# sum_ = 0\n",
    "# for column in categorical_variables:\n",
    "#     print(column, len(df[column].value_counts()))\n",
    "#     sum_ += len(df[column].value_counts())\n",
    "# print(sum_)"
   ]
  },
  {
   "cell_type": "code",
   "execution_count": 7,
   "metadata": {},
   "outputs": [],
   "source": [
    "categorical_variables = ['Fund Name', \n",
    "                         'Fund Type Descr', \n",
    "                         'Business Area Name', \n",
    "                        'Commitment Set Description']\n",
    "\n",
    "dummies = pd.get_dummies(df[categorical_variables]) # One-hot encoding of categorical variables\n",
    "df = pd.concat([dummies, df.drop(categorical_variables, axis=1)], axis=1)\n"
   ]
  },
  {
   "cell_type": "code",
   "execution_count": 15,
   "metadata": {},
   "outputs": [
    {
     "data": {
      "text/html": [
       "<div>\n",
       "<style scoped>\n",
       "    .dataframe tbody tr th:only-of-type {\n",
       "        vertical-align: middle;\n",
       "    }\n",
       "\n",
       "    .dataframe tbody tr th {\n",
       "        vertical-align: top;\n",
       "    }\n",
       "\n",
       "    .dataframe thead th {\n",
       "        text-align: right;\n",
       "    }\n",
       "</style>\n",
       "<table border=\"1\" class=\"dataframe\">\n",
       "  <thead>\n",
       "    <tr style=\"text-align: right;\">\n",
       "      <th></th>\n",
       "      <th>Fiscal Year</th>\n",
       "      <th>Fund Id</th>\n",
       "      <th>Fund Name</th>\n",
       "      <th>Fund Type Descr</th>\n",
       "      <th>Business Area</th>\n",
       "      <th>Business Area Name</th>\n",
       "      <th>Fund Center Id</th>\n",
       "      <th>Fund Center Name</th>\n",
       "      <th>GL Account</th>\n",
       "      <th>GL Description</th>\n",
       "      <th>GL Category</th>\n",
       "      <th>GL Category Description</th>\n",
       "      <th>Commitment Set Description</th>\n",
       "      <th>Revenue or Expenditure</th>\n",
       "      <th>Original Budget</th>\n",
       "      <th>Current Budget</th>\n",
       "      <th>Actuals</th>\n",
       "      <th>OA_Difference</th>\n",
       "    </tr>\n",
       "  </thead>\n",
       "  <tbody>\n",
       "    <tr>\n",
       "      <th>0</th>\n",
       "      <td>2010</td>\n",
       "      <td>1000</td>\n",
       "      <td>General Fund</td>\n",
       "      <td>General Funds</td>\n",
       "      <td>1000</td>\n",
       "      <td>Houston Police Department</td>\n",
       "      <td>1000009999</td>\n",
       "      <td>HPD - Unmapped Cost</td>\n",
       "      <td>503040</td>\n",
       "      <td>503040 - Health  Insurance - Retiree Classified</td>\n",
       "      <td>500</td>\n",
       "      <td>500 - Personnel Services</td>\n",
       "      <td>50 - Total Expenditures</td>\n",
       "      <td>Expenditures</td>\n",
       "      <td>0.0</td>\n",
       "      <td>0.0</td>\n",
       "      <td>0.00</td>\n",
       "      <td>0.00</td>\n",
       "    </tr>\n",
       "    <tr>\n",
       "      <th>1</th>\n",
       "      <td>2010</td>\n",
       "      <td>1000</td>\n",
       "      <td>General Fund</td>\n",
       "      <td>General Funds</td>\n",
       "      <td>1000</td>\n",
       "      <td>Houston Police Department</td>\n",
       "      <td>1000010001</td>\n",
       "      <td>HPD-Chief of Police</td>\n",
       "      <td>500010</td>\n",
       "      <td>500010 - Salary Base Pay - Civilian</td>\n",
       "      <td>500</td>\n",
       "      <td>500 - Personnel Services</td>\n",
       "      <td>50 - Total Expenditures</td>\n",
       "      <td>Expenditures</td>\n",
       "      <td>997461.0</td>\n",
       "      <td>1831618.0</td>\n",
       "      <td>960305.36</td>\n",
       "      <td>-37155.64</td>\n",
       "    </tr>\n",
       "    <tr>\n",
       "      <th>2</th>\n",
       "      <td>2010</td>\n",
       "      <td>1000</td>\n",
       "      <td>General Fund</td>\n",
       "      <td>General Funds</td>\n",
       "      <td>1000</td>\n",
       "      <td>Houston Police Department</td>\n",
       "      <td>1000010001</td>\n",
       "      <td>HPD-Chief of Police</td>\n",
       "      <td>500020</td>\n",
       "      <td>500020 - Salary Base Pay - Classified</td>\n",
       "      <td>500</td>\n",
       "      <td>500 - Personnel Services</td>\n",
       "      <td>50 - Total Expenditures</td>\n",
       "      <td>Expenditures</td>\n",
       "      <td>1320119.0</td>\n",
       "      <td>1320119.0</td>\n",
       "      <td>1258680.84</td>\n",
       "      <td>-61438.16</td>\n",
       "    </tr>\n",
       "    <tr>\n",
       "      <th>3</th>\n",
       "      <td>2010</td>\n",
       "      <td>1000</td>\n",
       "      <td>General Fund</td>\n",
       "      <td>General Funds</td>\n",
       "      <td>1000</td>\n",
       "      <td>Houston Police Department</td>\n",
       "      <td>1000010001</td>\n",
       "      <td>HPD-Chief of Police</td>\n",
       "      <td>500040</td>\n",
       "      <td>500040 - Salary Assignment Pay - Classified</td>\n",
       "      <td>500</td>\n",
       "      <td>500 - Personnel Services</td>\n",
       "      <td>50 - Total Expenditures</td>\n",
       "      <td>Expenditures</td>\n",
       "      <td>0.0</td>\n",
       "      <td>0.0</td>\n",
       "      <td>0.00</td>\n",
       "      <td>0.00</td>\n",
       "    </tr>\n",
       "    <tr>\n",
       "      <th>4</th>\n",
       "      <td>2010</td>\n",
       "      <td>1000</td>\n",
       "      <td>General Fund</td>\n",
       "      <td>General Funds</td>\n",
       "      <td>1000</td>\n",
       "      <td>Houston Police Department</td>\n",
       "      <td>1000010001</td>\n",
       "      <td>HPD-Chief of Police</td>\n",
       "      <td>500050</td>\n",
       "      <td>500050 - Salary-Education/Incentive Pay - Classif</td>\n",
       "      <td>500</td>\n",
       "      <td>500 - Personnel Services</td>\n",
       "      <td>50 - Total Expenditures</td>\n",
       "      <td>Expenditures</td>\n",
       "      <td>75000.0</td>\n",
       "      <td>75000.0</td>\n",
       "      <td>70887.50</td>\n",
       "      <td>-4112.50</td>\n",
       "    </tr>\n",
       "  </tbody>\n",
       "</table>\n",
       "</div>"
      ],
      "text/plain": [
       "   Fiscal Year  Fund Id     Fund Name Fund Type Descr  Business Area  \\\n",
       "0         2010     1000  General Fund   General Funds           1000   \n",
       "1         2010     1000  General Fund   General Funds           1000   \n",
       "2         2010     1000  General Fund   General Funds           1000   \n",
       "3         2010     1000  General Fund   General Funds           1000   \n",
       "4         2010     1000  General Fund   General Funds           1000   \n",
       "\n",
       "          Business Area Name  Fund Center Id     Fund Center Name  GL Account  \\\n",
       "0  Houston Police Department      1000009999  HPD - Unmapped Cost      503040   \n",
       "1  Houston Police Department      1000010001  HPD-Chief of Police      500010   \n",
       "2  Houston Police Department      1000010001  HPD-Chief of Police      500020   \n",
       "3  Houston Police Department      1000010001  HPD-Chief of Police      500040   \n",
       "4  Houston Police Department      1000010001  HPD-Chief of Police      500050   \n",
       "\n",
       "                                      GL Description  GL Category  \\\n",
       "0    503040 - Health  Insurance - Retiree Classified          500   \n",
       "1                500010 - Salary Base Pay - Civilian          500   \n",
       "2              500020 - Salary Base Pay - Classified          500   \n",
       "3        500040 - Salary Assignment Pay - Classified          500   \n",
       "4  500050 - Salary-Education/Incentive Pay - Classif          500   \n",
       "\n",
       "    GL Category Description Commitment Set Description Revenue or Expenditure  \\\n",
       "0  500 - Personnel Services    50 - Total Expenditures           Expenditures   \n",
       "1  500 - Personnel Services    50 - Total Expenditures           Expenditures   \n",
       "2  500 - Personnel Services    50 - Total Expenditures           Expenditures   \n",
       "3  500 - Personnel Services    50 - Total Expenditures           Expenditures   \n",
       "4  500 - Personnel Services    50 - Total Expenditures           Expenditures   \n",
       "\n",
       "   Original Budget  Current Budget     Actuals  OA_Difference  \n",
       "0              0.0             0.0        0.00           0.00  \n",
       "1         997461.0       1831618.0   960305.36      -37155.64  \n",
       "2        1320119.0       1320119.0  1258680.84      -61438.16  \n",
       "3              0.0             0.0        0.00           0.00  \n",
       "4          75000.0         75000.0    70887.50       -4112.50  "
      ]
     },
     "execution_count": 15,
     "metadata": {},
     "output_type": "execute_result"
    }
   ],
   "source": [
    "fy_10.head()"
   ]
  },
  {
   "cell_type": "code",
   "execution_count": 25,
   "metadata": {},
   "outputs": [],
   "source": [
    "def add_houston_data(year_df, houston_data, houston_data_index):\n",
    "    \n",
    "    for col in houston_data_index:\n",
    "        year_df[col] = 0\n",
    "    \n",
    "    year_df\n",
    "    for index, row in year_df.iterrows():\n",
    "        budget_year = row['Fiscal Year']\n",
    "        previous_year =  row['Fiscal Year'] - 1\n",
    "        year_df.loc[index, 'Rockets Playoff Rounds'] = houston_data[str(previous_year)]['Rockets Playoff Rounds']\n",
    "        year_df.loc[index, 'Rockets Total Attendance'] = houston_data[str(previous_year)]['Rockets Total Attendance']\n",
    "        year_df.loc[index, 'Texans Average Attendance'] = houston_data[str(budget_year)]['Texans Average Attendance']\n",
    "        year_df.loc[index, 'Texans Playoff Rounds'] = houston_data[str(budget_year)]['Texans Playoff Rounds']\n",
    "        year_df.loc[index, 'Astros Yearly Attendance'] = houston_data[str(previous_year)]['Astros Yearly Attendance']\n",
    "        year_df.loc[index, 'Astros Playoff Rounds'] = houston_data[str(previous_year)]['Astros Playoff Rounds']\n",
    "        \n",
    "        year_df.loc[index, 'Yearly Crime Index'] = houston_data[str(previous_year)]['Yearly Crime Index']\n",
    "        year_df.loc[index, 'Yearly Avg High Temp'] = houston_data[str(previous_year)]['Yearly Avg High Temp']\n",
    "        year_df.loc[index, 'Yearly Avg Low Temp'] = houston_data[str(previous_year)]['Yearly Avg Low Temp']\n",
    "        year_df.loc[index, 'Yearly Rain Fall'] = houston_data[str(previous_year)]['Yearly Rain Fall']\n",
    "        \n",
    "        "
   ]
  },
  {
   "cell_type": "code",
   "execution_count": 35,
   "metadata": {},
   "outputs": [],
   "source": [
    "for year in fy_list:\n",
    "    dummies = pd.get_dummies(year[categorical_variables]) # One-hot encoding of categorical variables\n",
    "    year = pd.concat([dummies, year.drop(categorical_variables, axis=1)], axis=1)\n",
    "    year.drop('Fund Center Name', axis=1, inplace=True)\n",
    "    add_houston_data(year, houston_data, houston_data_index)"
   ]
  },
  {
   "cell_type": "code",
   "execution_count": 36,
   "metadata": {},
   "outputs": [],
   "source": [
    "train_list = [fy_10, fy_11, fy_12, fy_13, fy_14]\n",
    "test_list = [fy_15, fy_16]"
   ]
  },
  {
   "cell_type": "code",
   "execution_count": 37,
   "metadata": {},
   "outputs": [],
   "source": [
    "X_train = pd.concat(train_list).drop(['OA_Difference','Actuals','Current Budget'], axis=1)\n",
    "X_test = pd.concat(test_list).drop(['OA_Difference', 'Actuals', 'Current Budget'], axis = 1)\n",
    "y_train = pd.concat(train_list)['OA_Difference']\n",
    "y_test = pd.concat(test_list)['OA_Difference']\n"
   ]
  },
  {
   "cell_type": "code",
   "execution_count": 38,
   "metadata": {},
   "outputs": [
    {
     "data": {
      "text/plain": [
       "Fiscal Year                     int64\n",
       "Fund Id                         int64\n",
       "Fund Name                      object\n",
       "Fund Type Descr                object\n",
       "Business Area                   int64\n",
       "Business Area Name             object\n",
       "Fund Center Id                  int64\n",
       "Fund Center Name               object\n",
       "GL Account                      int64\n",
       "GL Description                 object\n",
       "GL Category                     int64\n",
       "GL Category Description        object\n",
       "Commitment Set Description     object\n",
       "Revenue or Expenditure         object\n",
       "Original Budget               float64\n",
       "dtype: object"
      ]
     },
     "execution_count": 38,
     "metadata": {},
     "output_type": "execute_result"
    }
   ],
   "source": [
    "X_train.dtypes"
   ]
  },
  {
   "cell_type": "code",
   "execution_count": 33,
   "metadata": {},
   "outputs": [
    {
     "ename": "ValueError",
     "evalue": "DataFrame.dtypes for data must be int, float or bool.\n                Did not expect the data types in fields Fund Name, Fund Type Descr, Business Area Name, Fund Center Name, GL Description, GL Category Description, Commitment Set Description, Revenue or Expenditure",
     "output_type": "error",
     "traceback": [
      "\u001b[0;31m---------------------------------------------------------------------------\u001b[0m",
      "\u001b[0;31mValueError\u001b[0m                                Traceback (most recent call last)",
      "\u001b[0;32m<ipython-input-33-654f17887957>\u001b[0m in \u001b[0;36m<module>\u001b[0;34m\u001b[0m\n\u001b[1;32m      1\u001b[0m \u001b[0mmodel\u001b[0m \u001b[0;34m=\u001b[0m \u001b[0mxgb\u001b[0m\u001b[0;34m.\u001b[0m\u001b[0mXGBRegressor\u001b[0m\u001b[0;34m(\u001b[0m\u001b[0;34m)\u001b[0m\u001b[0;34m\u001b[0m\u001b[0;34m\u001b[0m\u001b[0m\n\u001b[0;32m----> 2\u001b[0;31m \u001b[0mmodel\u001b[0m\u001b[0;34m.\u001b[0m\u001b[0mfit\u001b[0m\u001b[0;34m(\u001b[0m\u001b[0mX_train\u001b[0m\u001b[0;34m,\u001b[0m\u001b[0my_train\u001b[0m\u001b[0;34m)\u001b[0m\u001b[0;34m\u001b[0m\u001b[0;34m\u001b[0m\u001b[0m\n\u001b[0m\u001b[1;32m      3\u001b[0m \u001b[0mprint\u001b[0m \u001b[0;34m(\u001b[0m\u001b[0mmodel\u001b[0m\u001b[0;34m)\u001b[0m\u001b[0;34m\u001b[0m\u001b[0;34m\u001b[0m\u001b[0m\n",
      "\u001b[0;32m/anaconda3/lib/python3.6/site-packages/xgboost/sklearn.py\u001b[0m in \u001b[0;36mfit\u001b[0;34m(self, X, y, sample_weight, eval_set, eval_metric, early_stopping_rounds, verbose, xgb_model, sample_weight_eval_set, callbacks)\u001b[0m\n\u001b[1;32m    358\u001b[0m                                    missing=self.missing, nthread=self.n_jobs)\n\u001b[1;32m    359\u001b[0m         \u001b[0;32melse\u001b[0m\u001b[0;34m:\u001b[0m\u001b[0;34m\u001b[0m\u001b[0;34m\u001b[0m\u001b[0m\n\u001b[0;32m--> 360\u001b[0;31m             \u001b[0mtrainDmatrix\u001b[0m \u001b[0;34m=\u001b[0m \u001b[0mDMatrix\u001b[0m\u001b[0;34m(\u001b[0m\u001b[0mX\u001b[0m\u001b[0;34m,\u001b[0m \u001b[0mlabel\u001b[0m\u001b[0;34m=\u001b[0m\u001b[0my\u001b[0m\u001b[0;34m,\u001b[0m \u001b[0mmissing\u001b[0m\u001b[0;34m=\u001b[0m\u001b[0mself\u001b[0m\u001b[0;34m.\u001b[0m\u001b[0mmissing\u001b[0m\u001b[0;34m,\u001b[0m \u001b[0mnthread\u001b[0m\u001b[0;34m=\u001b[0m\u001b[0mself\u001b[0m\u001b[0;34m.\u001b[0m\u001b[0mn_jobs\u001b[0m\u001b[0;34m)\u001b[0m\u001b[0;34m\u001b[0m\u001b[0;34m\u001b[0m\u001b[0m\n\u001b[0m\u001b[1;32m    361\u001b[0m \u001b[0;34m\u001b[0m\u001b[0m\n\u001b[1;32m    362\u001b[0m         \u001b[0mevals_result\u001b[0m \u001b[0;34m=\u001b[0m \u001b[0;34m{\u001b[0m\u001b[0;34m}\u001b[0m\u001b[0;34m\u001b[0m\u001b[0;34m\u001b[0m\u001b[0m\n",
      "\u001b[0;32m/anaconda3/lib/python3.6/site-packages/xgboost/core.py\u001b[0m in \u001b[0;36m__init__\u001b[0;34m(self, data, label, missing, weight, silent, feature_names, feature_types, nthread)\u001b[0m\n\u001b[1;32m    378\u001b[0m         data, feature_names, feature_types = _maybe_pandas_data(data,\n\u001b[1;32m    379\u001b[0m                                                                 \u001b[0mfeature_names\u001b[0m\u001b[0;34m,\u001b[0m\u001b[0;34m\u001b[0m\u001b[0;34m\u001b[0m\u001b[0m\n\u001b[0;32m--> 380\u001b[0;31m                                                                 feature_types)\n\u001b[0m\u001b[1;32m    381\u001b[0m \u001b[0;34m\u001b[0m\u001b[0m\n\u001b[1;32m    382\u001b[0m         data, feature_names, feature_types = _maybe_dt_data(data,\n",
      "\u001b[0;32m/anaconda3/lib/python3.6/site-packages/xgboost/core.py\u001b[0m in \u001b[0;36m_maybe_pandas_data\u001b[0;34m(data, feature_names, feature_types)\u001b[0m\n\u001b[1;32m    237\u001b[0m         msg = \"\"\"DataFrame.dtypes for data must be int, float or bool.\n\u001b[1;32m    238\u001b[0m                 Did not expect the data types in fields \"\"\"\n\u001b[0;32m--> 239\u001b[0;31m         \u001b[0;32mraise\u001b[0m \u001b[0mValueError\u001b[0m\u001b[0;34m(\u001b[0m\u001b[0mmsg\u001b[0m \u001b[0;34m+\u001b[0m \u001b[0;34m', '\u001b[0m\u001b[0;34m.\u001b[0m\u001b[0mjoin\u001b[0m\u001b[0;34m(\u001b[0m\u001b[0mbad_fields\u001b[0m\u001b[0;34m)\u001b[0m\u001b[0;34m)\u001b[0m\u001b[0;34m\u001b[0m\u001b[0;34m\u001b[0m\u001b[0m\n\u001b[0m\u001b[1;32m    240\u001b[0m \u001b[0;34m\u001b[0m\u001b[0m\n\u001b[1;32m    241\u001b[0m     \u001b[0;32mif\u001b[0m \u001b[0mfeature_names\u001b[0m \u001b[0;32mis\u001b[0m \u001b[0;32mNone\u001b[0m\u001b[0;34m:\u001b[0m\u001b[0;34m\u001b[0m\u001b[0;34m\u001b[0m\u001b[0m\n",
      "\u001b[0;31mValueError\u001b[0m: DataFrame.dtypes for data must be int, float or bool.\n                Did not expect the data types in fields Fund Name, Fund Type Descr, Business Area Name, Fund Center Name, GL Description, GL Category Description, Commitment Set Description, Revenue or Expenditure"
     ]
    }
   ],
   "source": [
    "model = xgb.XGBRegressor()\n",
    "model.fit(X_train,y_train)\n",
    "print (model)"
   ]
  },
  {
   "cell_type": "code",
   "execution_count": 31,
   "metadata": {},
   "outputs": [
    {
     "ename": "AttributeError",
     "evalue": "module 'xgboost' has no attribute 'fit'",
     "output_type": "error",
     "traceback": [
      "\u001b[0;31m---------------------------------------------------------------------------\u001b[0m",
      "\u001b[0;31mAttributeError\u001b[0m                            Traceback (most recent call last)",
      "\u001b[0;32m<ipython-input-31-5e1a7f2d4f0c>\u001b[0m in \u001b[0;36m<module>\u001b[0;34m\u001b[0m\n\u001b[0;32m----> 1\u001b[0;31m \u001b[0mxgb\u001b[0m\u001b[0;34m.\u001b[0m\u001b[0mfit\u001b[0m\u001b[0;34m(\u001b[0m\u001b[0mX_train\u001b[0m\u001b[0;34m,\u001b[0m\u001b[0my_train\u001b[0m\u001b[0;34m)\u001b[0m\u001b[0;34m\u001b[0m\u001b[0;34m\u001b[0m\u001b[0m\n\u001b[0m",
      "\u001b[0;31mAttributeError\u001b[0m: module 'xgboost' has no attribute 'fit'"
     ]
    }
   ],
   "source": []
  },
  {
   "cell_type": "code",
   "execution_count": null,
   "metadata": {},
   "outputs": [],
   "source": [
    "xgb_test_predictions = xgb.predict(X_test)\n",
    "xgb_train_predictions = xgb.predict(X_train)"
   ]
  },
  {
   "cell_type": "code",
   "execution_count": null,
   "metadata": {},
   "outputs": [],
   "source": [
    "np.sqrt(np.mean((xgb_test_predictions-y_test)**2))\n"
   ]
  },
  {
   "cell_type": "code",
   "execution_count": null,
   "metadata": {},
   "outputs": [],
   "source": [
    "x = np.linspace(-100000000,100000000,100000000)\n",
    "plt.figure(figsize=(12,12))\n",
    "plt.scatter(y_train, xgb_train_predictions, c='red')\n",
    "plt.scatter(y_test, xgb_test_predictions, c='blue')\n",
    "#plt.scatter(train_df['voyage_duration'], train_df['eta_diff'], c='green')\n",
    "plt.plot(x,x,c='black')\n",
    "plt.xlim([-5,100000000])\n",
    "plt.ylim([-5,100000000])\n",
    "plt.xlabel('observations')\n",
    "plt.ylabel('predictions')"
   ]
  },
  {
   "cell_type": "code",
   "execution_count": null,
   "metadata": {},
   "outputs": [],
   "source": []
  },
  {
   "cell_type": "code",
   "execution_count": null,
   "metadata": {},
   "outputs": [],
   "source": [
    "fy_name_list = ['fy_10', 'fy_11', 'fy_12', 'fy_13', 'fy_14', 'fy_15', 'fy_16']\n",
    "\n",
    "for index, year in enmerate(fy_list):\n",
    "    pd.to_csv(year, (fy_name_list[index] + fy_name_list[index]))"
   ]
  },
  {
   "cell_type": "code",
   "execution_count": null,
   "metadata": {},
   "outputs": [],
   "source": []
  },
  {
   "cell_type": "code",
   "execution_count": null,
   "metadata": {},
   "outputs": [],
   "source": []
  },
  {
   "cell_type": "code",
   "execution_count": null,
   "metadata": {},
   "outputs": [],
   "source": []
  },
  {
   "cell_type": "code",
   "execution_count": 14,
   "metadata": {},
   "outputs": [
    {
     "name": "stdout",
     "output_type": "stream",
     "text": [
      "Parse progress: |█████████████████████████████████████████████████████████| 100%\n"
     ]
    }
   ],
   "source": [
    "# create h2o frame for training data\n",
    "training_frame = pd.concat([X_train,y_train], axis=1)\n",
    "training_frame.columns = list(training_frame.columns[:-1]) + ['OA_Difference']\n",
    "training_frame = h2o.H2OFrame(training_frame)"
   ]
  },
  {
   "cell_type": "code",
   "execution_count": 15,
   "metadata": {},
   "outputs": [
    {
     "name": "stdout",
     "output_type": "stream",
     "text": [
      "Parse progress: |█████████████████████████████████████████████████████████| 100%\n"
     ]
    }
   ],
   "source": [
    "# create h2o frame for testing data\n",
    "testing_frame = pd.concat([X_test,y_test], axis=1)\n",
    "testing_frame.columns = list(testing_frame.columns[:-1]) + ['OA_Difference']\n",
    "testing_frame = h2o.H2OFrame(testing_frame)"
   ]
  },
  {
   "cell_type": "code",
   "execution_count": null,
   "metadata": {},
   "outputs": [],
   "source": []
  },
  {
   "cell_type": "code",
   "execution_count": null,
   "metadata": {},
   "outputs": [],
   "source": []
  },
  {
   "cell_type": "code",
   "execution_count": null,
   "metadata": {},
   "outputs": [],
   "source": []
  },
  {
   "cell_type": "code",
   "execution_count": null,
   "metadata": {},
   "outputs": [],
   "source": [
    "aml = H2OAutoML(max_models=20, seed=1)\n",
    "aml.train(None, 'OA_Difference', training_frame)"
   ]
  },
  {
   "cell_type": "code",
   "execution_count": null,
   "metadata": {},
   "outputs": [],
   "source": []
  },
  {
   "cell_type": "code",
   "execution_count": null,
   "metadata": {},
   "outputs": [],
   "source": [
    "predicted_actuals = aml.predict(h2o.H2OFrame(pd.concat([X_test, y_test], axis=1)))\n",
    "np.sqrt(np.mean((predicted_actuals['predict'].as_data_frame()['predict'].values-y_test)**2))\n"
   ]
  },
  {
   "cell_type": "code",
   "execution_count": null,
   "metadata": {},
   "outputs": [],
   "source": [
    "x = np.linspace(-100000000,100000000,100000000)\n",
    "plt.figure(figsize=(12,12))\n",
    "plt.scatter(y_train, aml.predict(training_frame).as_data_frame()['predict'].values, c='red')\n",
    "plt.scatter(y_test, aml.predict(testing_frame).as_data_frame()['predict'].values, c='blue')\n",
    "#plt.scatter(train_df['voyage_duration'], train_df['eta_diff'], c='green')\n",
    "plt.plot(x,x,c='black')\n",
    "plt.xlim([-5,100000000])\n",
    "plt.ylim([-5,100000000])\n",
    "plt.xlabel('observations')\n",
    "plt.ylabel('predictions')\n"
   ]
  },
  {
   "cell_type": "code",
   "execution_count": 22,
   "metadata": {},
   "outputs": [],
   "source": [
    "aml.leader"
   ]
  },
  {
   "cell_type": "code",
   "execution_count": null,
   "metadata": {},
   "outputs": [],
   "source": [
    "#2:10pm 8/30"
   ]
  },
  {
   "cell_type": "code",
   "execution_count": 19,
   "metadata": {},
   "outputs": [
    {
     "name": "stdout",
     "output_type": "stream",
     "text": [
      "H2O session _sid_9752 closed.\n"
     ]
    }
   ],
   "source": [
    "h2o.cluster().shutdown()"
   ]
  },
  {
   "cell_type": "code",
   "execution_count": null,
   "metadata": {},
   "outputs": [],
   "source": []
  },
  {
   "cell_type": "code",
   "execution_count": null,
   "metadata": {},
   "outputs": [],
   "source": []
  },
  {
   "cell_type": "code",
   "execution_count": null,
   "metadata": {},
   "outputs": [],
   "source": [
    "a = np.random.random(50)\n",
    "print(a)\n",
    "print(a[::3])"
   ]
  },
  {
   "cell_type": "code",
   "execution_count": null,
   "metadata": {},
   "outputs": [],
   "source": [
    "df['OA_Difference'].describe()"
   ]
  },
  {
   "cell_type": "code",
   "execution_count": null,
   "metadata": {},
   "outputs": [],
   "source": [
    "sns.distplot(a)"
   ]
  },
  {
   "cell_type": "code",
   "execution_count": null,
   "metadata": {},
   "outputs": [],
   "source": [
    "df['OA_Difference'].shape"
   ]
  },
  {
   "cell_type": "code",
   "execution_count": null,
   "metadata": {},
   "outputs": [],
   "source": [
    "len(df.loc[(df['OA_Difference']<=1.0) & (df['OA_Difference']>=-1.0)]['OA_Difference'])"
   ]
  },
  {
   "cell_type": "code",
   "execution_count": null,
   "metadata": {},
   "outputs": [],
   "source": [
    "df['OA_Difference'].value_counts()"
   ]
  },
  {
   "cell_type": "code",
   "execution_count": null,
   "metadata": {},
   "outputs": [],
   "source": [
    "OA_Diff = df['OA_Difference']"
   ]
  },
  {
   "cell_type": "code",
   "execution_count": null,
   "metadata": {},
   "outputs": [],
   "source": [
    "#Seaborn distplot of room 2170 Intro to Finance\n",
    "sns.set_style('darkgrid')\n",
    "sns.set(font_scale=2.5)\n",
    "\n",
    "fig, ax = plt.subplots(figsize=(20,15))\n",
    "sns.distplot(list(OA_Diff),bins=10, ax=ax)\n",
    "\n",
    "ax.set_xlim(-8e7,8e7)\n",
    "#ax.set(xticks=[-40000000, -20000000,0, 20000000, 40000000])\n",
    "\n",
    "# ax.set_title(\"32 Different Teachers - Intro to Financing \\n Grade Distriubtions Room 2170\")\n",
    "# ax.set_ylabel(\"Frequency\")\n",
    "# ax.set_xlabel(\"Percent A's Given\")"
   ]
  },
  {
   "cell_type": "code",
   "execution_count": null,
   "metadata": {},
   "outputs": [],
   "source": [
    "sns.distplot(list(OA_Diff))"
   ]
  },
  {
   "cell_type": "code",
   "execution_count": null,
   "metadata": {},
   "outputs": [],
   "source": [
    "df['OA_Difference'].max()"
   ]
  },
  {
   "cell_type": "code",
   "execution_count": null,
   "metadata": {},
   "outputs": [],
   "source": [
    "df['OA_Difference'].std()"
   ]
  },
  {
   "cell_type": "code",
   "execution_count": null,
   "metadata": {},
   "outputs": [],
   "source": [
    "df['OA_Difference'].min()"
   ]
  },
  {
   "cell_type": "code",
   "execution_count": null,
   "metadata": {},
   "outputs": [],
   "source": [
    "df['Original Budget'].std()"
   ]
  },
  {
   "cell_type": "code",
   "execution_count": null,
   "metadata": {},
   "outputs": [],
   "source": [
    "df['Original Budget'].min()"
   ]
  },
  {
   "cell_type": "code",
   "execution_count": null,
   "metadata": {},
   "outputs": [],
   "source": [
    "df.loc[df['Original Budget']==df['Original Budget'].min()]"
   ]
  },
  {
   "cell_type": "code",
   "execution_count": null,
   "metadata": {},
   "outputs": [],
   "source": [
    "(df.loc[df['Original Budget']>0]['OA_Difference'].values).std()"
   ]
  },
  {
   "cell_type": "code",
   "execution_count": null,
   "metadata": {},
   "outputs": [],
   "source": [
    "original_df = df.copy(deep=True)"
   ]
  },
  {
   "cell_type": "code",
   "execution_count": null,
   "metadata": {},
   "outputs": [],
   "source": [
    "df = df.loc[df['Original Budget']>0]"
   ]
  },
  {
   "cell_type": "code",
   "execution_count": null,
   "metadata": {},
   "outputs": [],
   "source": [
    "#plt.hist(df['OA_Difference'].values)"
   ]
  },
  {
   "cell_type": "code",
   "execution_count": null,
   "metadata": {},
   "outputs": [],
   "source": [
    "%%capture --no-display\n",
    "pandas_profiling.ProfileReport(df)"
   ]
  },
  {
   "cell_type": "code",
   "execution_count": null,
   "metadata": {},
   "outputs": [],
   "source": [
    "plt.hist(df['OA_Difference'].values)"
   ]
  },
  {
   "cell_type": "code",
   "execution_count": null,
   "metadata": {},
   "outputs": [],
   "source": []
  }
 ],
 "metadata": {
  "kernelspec": {
   "display_name": "Python 3",
   "language": "python",
   "name": "python3"
  },
  "language_info": {
   "codemirror_mode": {
    "name": "ipython",
    "version": 3
   },
   "file_extension": ".py",
   "mimetype": "text/x-python",
   "name": "python",
   "nbconvert_exporter": "python",
   "pygments_lexer": "ipython3",
   "version": "3.6.8"
  }
 },
 "nbformat": 4,
 "nbformat_minor": 2
}

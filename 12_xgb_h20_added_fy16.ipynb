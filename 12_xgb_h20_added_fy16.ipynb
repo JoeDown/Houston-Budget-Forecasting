{
 "cells": [
  {
   "cell_type": "code",
   "execution_count": 1,
   "metadata": {},
   "outputs": [],
   "source": [
    "import pandas as pd\n",
    "import numpy as np\n",
    "import matplotlib.pyplot as plt\n",
    "import seaborn as sns\n",
    "import pandas_profiling\n",
    "import datetime\n",
    "from IPython.display import clear_output\n",
    "from datetime import timedelta\n",
    "from scipy.stats import skewnorm\n",
    "import inspect, re\n",
    "import h2o\n",
    "from h2o.automl import H2OAutoML\n",
    "import xgboost as xgb\n",
    "import random\n",
    "import gc\n",
    "               \n",
    "%load_ext autoreload\n",
    "%autoreload 2\n",
    "%matplotlib inline\n",
    "plt.style.use('ggplot')\n",
    "\n",
    "pd.set_option('display.max_rows', None)\n",
    "pd.set_option('display.max_columns', None)\n",
    "\n"
   ]
  },
  {
   "cell_type": "code",
   "execution_count": 2,
   "metadata": {},
   "outputs": [],
   "source": [
    "fy_10 = pd.read_csv('fy_10_augmented.csv')\n",
    "fy_11 = pd.read_csv('fy_11_augmented.csv')\n",
    "fy_12 = pd.read_csv('fy_12_augmented.csv')\n",
    "fy_13 = pd.read_csv('fy_13_augmented.csv')\n",
    "fy_14 = pd.read_csv('fy_14_augmented.csv')\n",
    "fy_15 = pd.read_csv('fy_15_augmented.csv')\n",
    "fy_16 = pd.read_csv('fy_16_augmented.csv')\n"
   ]
  },
  {
   "cell_type": "code",
   "execution_count": 3,
   "metadata": {},
   "outputs": [],
   "source": [
    "essentials = ['Unnamed: 0',\n",
    " 'Fund Id',\n",
    " 'Business Area',\n",
    " 'Fund Center Id',\n",
    " 'GL Account',\n",
    " 'GL Description',\n",
    " 'GL Category',\n",
    " 'GL Category Description',\n",
    " 'Revenue or Expenditure',\n",
    " 'Fiscal Year',\n",
    " 'Fund Name',\n",
    " 'Fund Type Descr',\n",
    " 'Business Area Name',\n",
    " 'Fund Center Name',\n",
    " 'Commitment Set Description',\n",
    " 'Original Budget',\n",
    " 'Current Budget',\n",
    " 'Actuals',\n",
    " '3Y_Past_Actuals',\n",
    " '2Y_Past_Actuals',\n",
    " '1Y_Past_Actuals',\n",
    " '2Y_1Y_Actuals_Mean',\n",
    " '3Y_2Y_1Y_Actuals_Mean',\n",
    " '3Y_Past_Original_Budget',\n",
    " '2Y_Past_Original_Budget',\n",
    " '1Y_Past_Original_Budget',\n",
    " '2Y_1Y_Original_Budget_Mean',\n",
    " '3Y_2Y_1Y_Original_Budget_Mean',\n",
    " '3Y_Past_OA_Difference',\n",
    " '2Y_Past_OA_Difference',\n",
    " '1Y_Past_OA_Difference',\n",
    " '2Y_1Y_OA_Difference_Mean',\n",
    " '3Y_2Y_1Y_OA_Difference_Mean',\n",
    " 'OA_Difference',\n",
    " 'Yearly Crime Index',\n",
    " 'Yearly Avg High Temp',\n",
    " 'Yearly Avg Low Temp',\n",
    " 'Yearly Rain Fall',\n",
    " 'Astros Playoff Rounds',\n",
    " 'Astros Yearly Attendance',\n",
    " 'Rockets Playoff Rounds',\n",
    " 'Texans Playoff Rounds',\n",
    " 'Texans Average Attendance',\n",
    " 'Rockets Total Attendance']\n",
    "\n",
    "dummies = ['Fund Name_Asset Forfeiture Fund - Justice',\n",
    " 'Fund Name_Asset Forfeiture Fund - State',\n",
    " 'Fund Name_Auto Dealers Fund',\n",
    " 'Fund Name_Building Inspection Fund',\n",
    " 'Fund Name_C&E-Civic Center Facility Revenue Fund',\n",
    " 'Fund Name_Cable Television Fund',\n",
    " 'Fund Name_Child Safety Fund',\n",
    " 'Fund Name_Digital Houston Special Revenue',\n",
    " 'Fund Name_Expansion of Recycling Program',\n",
    " 'Fund Name_Fleet Management Fund',\n",
    " 'Fund Name_GSD - In-House Renovation Revolving Fund',\n",
    " 'Fund Name_General Fund',\n",
    " 'Fund Name_Greater Houston Trans & Emer Center',\n",
    " 'Fund Name_HAS-Revenue Fund',\n",
    " 'Fund Name_Health Benefits Fund',\n",
    " 'Fund Name_Historic Preservation Fund',\n",
    " 'Fund Name_Houston Emergeny Center',\n",
    " 'Fund Name_Long-Term Disablility Plan Fund',\n",
    " 'Fund Name_Municipal Court Technology Fund',\n",
    " 'Fund Name_PWE-Combined Utility System Gen Pur Fund',\n",
    " 'Fund Name_PWE-Combined Utility System Oper Fund',\n",
    " 'Fund Name_PWE-W & S System Operating Fund',\n",
    " 'Fund Name_Park Special Revenue Fund',\n",
    " 'Fund Name_Parking Mangement Operating Fund',\n",
    " 'Fund Name_Police Special Services',\n",
    " 'Fund Name_Project Cost Recovery',\n",
    " 'Fund Name_Property & Casualty Fund',\n",
    " 'Fund Name_Stormwater Fund',\n",
    " 'Fund Name_Supplemental Environmental Proj',\n",
    " 'Fund Name_Workers Compensation Admin Fund',\n",
    " 'Fund Type Descr_Enterprise Funds',\n",
    " 'Fund Type Descr_General Funds',\n",
    " 'Fund Type Descr_Internal Services Funds',\n",
    " 'Fund Type Descr_Special Revenue Funds',\n",
    " 'Business Area Name_Admn. & Regulatory Affairs',\n",
    " 'Business Area Name_Business Opportunity',\n",
    " \"Business Area Name_City Controller's Office\",\n",
    " 'Business Area Name_City Council',\n",
    " 'Business Area Name_City Secretary',\n",
    " 'Business Area Name_Citywide General Government',\n",
    " 'Business Area Name_Convention and Entertainment',\n",
    " 'Business Area Name_Finance',\n",
    " 'Business Area Name_General Debt Services',\n",
    " 'Business Area Name_General Services Department',\n",
    " 'Business Area Name_Health & Human Services',\n",
    " 'Business Area Name_Housing and Community Devp.',\n",
    " 'Business Area Name_Houston Airport System (HAS)',\n",
    " 'Business Area Name_Houston Emergency Center (HEC)',\n",
    " 'Business Area Name_Houston Fire Department (HFD)',\n",
    " 'Business Area Name_Houston Police Department',\n",
    " 'Business Area Name_Human Resources Dept.',\n",
    " 'Business Area Name_Information Technology (IT)',\n",
    " 'Business Area Name_Legal Department',\n",
    " 'Business Area Name_Library',\n",
    " \"Business Area Name_Mayor's Office\",\n",
    " 'Business Area Name_Municipal Court Judicial',\n",
    " 'Business Area Name_Municipal Courts Department',\n",
    " 'Business Area Name_Parks & Recreation',\n",
    " 'Business Area Name_Planning & Development',\n",
    " 'Business Area Name_Public Works & Engineering-PWE',\n",
    " 'Business Area Name_Solid Waste Management',\n",
    " 'Commitment Set Description_50 - Total Expenditures',\n",
    " 'Business Area Name_Houston Police Department-HPD',\n",
    " 'Business Area Name_Houston Information Tech Svcs'\n",
    "]\n",
    "\n",
    "drop_list = [\n",
    "    \n",
    "    'Fund Name', \n",
    "    'Fund Type Descr', \n",
    "    'Business Area Name',\n",
    "    'Commitment Set Description',\n",
    "    'GL Description',\n",
    "    'GL Category Description',\n",
    "    'Revenue or Expenditure',\n",
    "    'Fund Type Descr',\n",
    "    'Fund Center Name'\n",
    "]\n",
    "\n",
    "\n"
   ]
  },
  {
   "cell_type": "code",
   "execution_count": 4,
   "metadata": {},
   "outputs": [
    {
     "name": "stderr",
     "output_type": "stream",
     "text": [
      "/anaconda3/lib/python3.6/site-packages/xgboost/core.py:587: FutureWarning: Series.base is deprecated and will be removed in a future version\n",
      "  if getattr(data, 'base', None) is not None and \\\n",
      "/anaconda3/lib/python3.6/site-packages/xgboost/core.py:588: FutureWarning: Series.base is deprecated and will be removed in a future version\n",
      "  data.base is not None and isinstance(data, np.ndarray) \\\n"
     ]
    },
    {
     "name": "stdout",
     "output_type": "stream",
     "text": [
      "[15:54:59] WARNING: src/objective/regression_obj.cu:152: reg:linear is now deprecated in favor of reg:squarederror.\n",
      "XGBRegressor(base_score=0.5, booster='gbtree', colsample_bylevel=1,\n",
      "       colsample_bynode=1, colsample_bytree=1, gamma=0,\n",
      "       importance_type='gain', learning_rate=0.1, max_delta_step=0,\n",
      "       max_depth=3, min_child_weight=1, missing=None, n_estimators=100,\n",
      "       n_jobs=1, nthread=None, objective='reg:linear', random_state=0,\n",
      "       reg_alpha=0, reg_lambda=1, scale_pos_weight=1, seed=None,\n",
      "       silent=None, subsample=1, verbosity=1)\n"
     ]
    }
   ],
   "source": [
    "fy_list = [fy_10, fy_11, fy_12, fy_13, fy_14, fy_15, fy_16]\n",
    "del fy_10\n",
    "del fy_11\n",
    "del fy_12\n",
    "del fy_13\n",
    "del fy_14\n",
    "del fy_15\n",
    "del fy_16\n",
    "gc.collect()\n",
    "\n",
    "for i, y in enumerate(fy_list):\n",
    "    fy_list[i] = pd.concat([y[essentials], y[dummies]], axis=1)\n",
    "    \n",
    "train_list = [fy_list[2], fy_list[3], fy_list[4]]\n",
    "test_list = [fy_list[5], fy_list[6]]\n",
    "\n",
    "X_train = pd.concat(train_list).drop(['OA_Difference','Actuals','Current Budget']+drop_list, axis=1)\n",
    "X_test = pd.concat(test_list).drop(['OA_Difference', 'Actuals', 'Current Budget']+drop_list, axis = 1)\n",
    "y_train = pd.concat(train_list)['Actuals']\n",
    "y_test = pd.concat(test_list)['Actuals']\n",
    "y_original_budget =  pd.concat(test_list)['Original Budget']\n",
    "\n",
    "model = xgb.XGBRegressor()\n",
    "model.fit(X_train,y_train)\n",
    "print (model)"
   ]
  },
  {
   "cell_type": "code",
   "execution_count": 5,
   "metadata": {},
   "outputs": [
    {
     "data": {
      "text/plain": [
       "84"
      ]
     },
     "execution_count": 5,
     "metadata": {},
     "output_type": "execute_result"
    }
   ],
   "source": [
    "xgb_test_predictions = model.predict(X_test)\n",
    "xgb_train_predictions = model.predict(X_train)\n",
    "gc.collect()"
   ]
  },
  {
   "cell_type": "code",
   "execution_count": 6,
   "metadata": {},
   "outputs": [
    {
     "data": {
      "text/plain": [
       "632477.0391946669"
      ]
     },
     "execution_count": 6,
     "metadata": {},
     "output_type": "execute_result"
    }
   ],
   "source": [
    "np.sqrt(np.mean((xgb_test_predictions-y_test)**2))"
   ]
  },
  {
   "cell_type": "code",
   "execution_count": 7,
   "metadata": {},
   "outputs": [
    {
     "data": {
      "text/plain": [
       "1099110371.7345705"
      ]
     },
     "execution_count": 7,
     "metadata": {},
     "output_type": "execute_result"
    }
   ],
   "source": [
    "model_sum_error = np.sum(abs(xgb_test_predictions-y_test))\n",
    "model_sum_error"
   ]
  },
  {
   "cell_type": "code",
   "execution_count": 8,
   "metadata": {},
   "outputs": [
    {
     "data": {
      "text/plain": [
       "993475373.2600001"
      ]
     },
     "execution_count": 8,
     "metadata": {},
     "output_type": "execute_result"
    }
   ],
   "source": [
    "budget_sum_error = np.sum(abs(y_original_budget-y_test))\n",
    "budget_sum_error"
   ]
  },
  {
   "cell_type": "markdown",
   "metadata": {},
   "source": [
    "### Model precision over budget"
   ]
  },
  {
   "cell_type": "code",
   "execution_count": 9,
   "metadata": {},
   "outputs": [
    {
     "name": "stdout",
     "output_type": "stream",
     "text": [
      "$ -105634998.47\n"
     ]
    }
   ],
   "source": [
    "print('$',round(budget_sum_error-model_sum_error,2))"
   ]
  },
  {
   "cell_type": "code",
   "execution_count": 10,
   "metadata": {},
   "outputs": [
    {
     "data": {
      "text/plain": [
       "519179.9135619907"
      ]
     },
     "execution_count": 10,
     "metadata": {},
     "output_type": "execute_result"
    }
   ],
   "source": [
    "np.sqrt(np.mean((y_original_budget-y_test)**2))"
   ]
  },
  {
   "cell_type": "code",
   "execution_count": 11,
   "metadata": {},
   "outputs": [
    {
     "data": {
      "text/plain": [
       "6257843.454195455"
      ]
     },
     "execution_count": 11,
     "metadata": {},
     "output_type": "execute_result"
    }
   ],
   "source": [
    "y_test.std()"
   ]
  },
  {
   "cell_type": "code",
   "execution_count": null,
   "metadata": {},
   "outputs": [],
   "source": [
    "sns.set_style('whitegrid')\n",
    "\n",
    "x = np.linspace(-1000000000,1000000000,1000000000)\n",
    "plt.figure(figsize=(12,12))\n",
    "plt.scatter(y_train, xgb_train_predictions, c='red', alpha=.95)\n",
    "plt.scatter(y_test, xgb_test_predictions, c='blue', alpha=.95)\n",
    "plt.scatter(y_test, y_original_budget, c='green', alpha=.95)\n",
    "plt.plot(x,x,c='black')\n",
    "plt.xlim([-5,1000000000])\n",
    "plt.ylim([-5,1000000000])\n",
    "plt.xlabel('observations')\n",
    "plt.ylabel('predictions')\n"
   ]
  },
  {
   "cell_type": "code",
   "execution_count": null,
   "metadata": {},
   "outputs": [],
   "source": [
    "weight_dict = model.get_booster().get_score(importance_type=\"weight\")\n",
    "weight_df = pd.DataFrame(weight_dict, index=range(len(weight_dict)))\n",
    "weight_df.T[0].sort_values(ascending=False)"
   ]
  },
  {
   "cell_type": "code",
   "execution_count": null,
   "metadata": {},
   "outputs": [],
   "source": [
    "from sklearn.metrics import r2_score\n",
    "r2_score(y_test , xgb_test_predictions)"
   ]
  },
  {
   "cell_type": "code",
   "execution_count": null,
   "metadata": {},
   "outputs": [],
   "source": [
    "\n",
    "sns.set_style('darkgrid')\n",
    "sns.set(font_scale=2.5)\n",
    "bins = np.arange(0,90000,90000/50)\n",
    " \n",
    "fig, ax = plt.subplots(figsize=(20,15))\n",
    "\n",
    "sns.distplot(y_test, label='2015 Actuals',color='green', norm_hist=True, bins=bins, kde=False,  ax = ax)\n",
    "sns.distplot(xgb_test_predictions, label='XGB_test_predictions 2015',color='black', norm_hist=True, bins=bins, kde=True,  ax = ax)\n",
    "sns.distplot(y_original_budget, label='2015_original_budget',color='blue',norm_hist=True, bins=bins, kde=True,  ax = ax)\n",
    "    \n",
    "ax.set_title(\" \")\n",
    "ax.set_ylabel(\" \")\n",
    "ax.set_xlabel(\" \")\n",
    "ax.set_xlim(0,90000)\n",
    "ax.legend()"
   ]
  },
  {
   "cell_type": "code",
   "execution_count": null,
   "metadata": {},
   "outputs": [],
   "source": [
    "original_budget_residuals = fy_15['Original Budget']-fy_15['Actuals']\n",
    "model_residuals = xgb_test_predictions-y_test\n",
    "hold_df = pd.DataFrame()\n",
    "hold_df['Original Budget Residuals'] = original_budget_residuals\n",
    "hold_df['Model Residuals'] = model_residuals\n"
   ]
  },
  {
   "cell_type": "code",
   "execution_count": null,
   "metadata": {},
   "outputs": [],
   "source": [
    "np.sqrt(np.mean(model_residuals**2))"
   ]
  },
  {
   "cell_type": "code",
   "execution_count": null,
   "metadata": {},
   "outputs": [],
   "source": [
    "np.sqrt(np.mean(original_budget_residuals**2))"
   ]
  },
  {
   "cell_type": "code",
   "execution_count": null,
   "metadata": {},
   "outputs": [],
   "source": [
    "model_residuals_series = pd.Series(model_residuals)"
   ]
  },
  {
   "cell_type": "code",
   "execution_count": null,
   "metadata": {},
   "outputs": [],
   "source": [
    "original_budget_residuals_series =pd.Series(original_budget_residuals)"
   ]
  },
  {
   "cell_type": "code",
   "execution_count": null,
   "metadata": {},
   "outputs": [],
   "source": [
    "residuals_df = pd.DataFrame()\n",
    "residuals_df['Model_Residuals'] = model_residuals_series\n",
    "residuals_df['Original_Budget_Residuals'] = original_budget_residuals_series\n",
    "\n",
    "extreme_residuals = residuals_df.loc[(residuals_df['Model_Residuals']>=80000) | (residuals_df['Model_Residuals']<=-80000) | (residuals_df['Original_Budget_Residuals']>=80000) | (residuals_df['Original_Budget_Residuals']<=-80000) ] \n",
    "residuals_under_80K = residuals_df.loc[(residuals_df['Model_Residuals']<80000) & (residuals_df['Model_Residuals']>-80000) & (residuals_df['Original_Budget_Residuals']<=80000) & (residuals_df['Original_Budget_Residuals']>=-80000) ] \n"
   ]
  },
  {
   "cell_type": "code",
   "execution_count": null,
   "metadata": {},
   "outputs": [],
   "source": [
    "print('Model Extreme Resisduals:           ',int(np.sqrt(np.mean(extreme_residuals['Model_Residuals']**2))), '\\nOriginal Budget Extreme Resisduals: ',  int(np.sqrt(np.mean(extreme_residuals['Original_Budget_Residuals']**2))))\n",
    "print(' ')\n",
    "print('Model Under 80K Resisduals:           ',int(np.sqrt(np.mean(residuals_under_80K['Model_Residuals']**2))), '\\nOriginal Budget Under 80K Resisduals: ',  int(np.sqrt(np.mean(residuals_under_80K['Original_Budget_Residuals']**2))))\n"
   ]
  },
  {
   "cell_type": "code",
   "execution_count": null,
   "metadata": {},
   "outputs": [],
   "source": []
  },
  {
   "cell_type": "code",
   "execution_count": null,
   "metadata": {},
   "outputs": [],
   "source": [
    "sns.set_style('darkgrid')\n",
    "sns.set(font_scale=2.5)\n",
    " \n",
    "fig, ax = plt.subplots(figsize=(20,15))\n",
    "bins_ = np.arange(-80000,80000,80000/50)\n",
    "\n",
    "sns.distplot(model_residuals, label='Model Residuals', norm_hist=True, bins = bins_, color='green',   ax = ax)\n",
    "sns.distplot(original_budget_residuals, label='Original Budget Residuals',bins=bins_, color='black',  ax = ax)\n",
    "    \n",
    "ax.set_title(\" \")\n",
    "ax.set_ylabel(\" \")\n",
    "ax.set_xlabel(\" \")\n",
    "ax.set_xlim(-80000,80000)\n",
    "ax.legend()"
   ]
  },
  {
   "cell_type": "code",
   "execution_count": null,
   "metadata": {},
   "outputs": [],
   "source": []
  },
  {
   "cell_type": "code",
   "execution_count": null,
   "metadata": {},
   "outputs": [],
   "source": []
  },
  {
   "cell_type": "code",
   "execution_count": null,
   "metadata": {},
   "outputs": [],
   "source": []
  },
  {
   "cell_type": "code",
   "execution_count": null,
   "metadata": {},
   "outputs": [],
   "source": []
  },
  {
   "cell_type": "code",
   "execution_count": null,
   "metadata": {},
   "outputs": [],
   "source": []
  },
  {
   "cell_type": "code",
   "execution_count": null,
   "metadata": {},
   "outputs": [],
   "source": []
  },
  {
   "cell_type": "code",
   "execution_count": null,
   "metadata": {},
   "outputs": [],
   "source": []
  },
  {
   "cell_type": "code",
   "execution_count": null,
   "metadata": {},
   "outputs": [],
   "source": []
  },
  {
   "cell_type": "markdown",
   "metadata": {},
   "source": [
    "# H2o"
   ]
  },
  {
   "cell_type": "code",
   "execution_count": 12,
   "metadata": {},
   "outputs": [
    {
     "name": "stdout",
     "output_type": "stream",
     "text": [
      "Checking whether there is an H2O instance running at http://localhost:54321 ..... not found.\n",
      "Attempting to start a local H2O server...\n",
      "  Java Version: Picked up _JAVA_OPTIONS: -Xverify:none; java version \"12.0.1\" 2019-04-16; Java(TM) SE Runtime Environment (build 12.0.1+12); Java HotSpot(TM) 64-Bit Server VM (build 12.0.1+12, mixed mode, sharing)\n",
      "  Starting server from /anaconda3/lib/python3.6/site-packages/h2o/backend/bin/h2o.jar\n",
      "  Ice root: /var/folders/0y/vcjmh6651517f16c4qtnxyg00000gq/T/tmppisi9qtu\n",
      "  JVM stdout: /var/folders/0y/vcjmh6651517f16c4qtnxyg00000gq/T/tmppisi9qtu/h2o_josephdown_started_from_python.out\n",
      "  JVM stderr: /var/folders/0y/vcjmh6651517f16c4qtnxyg00000gq/T/tmppisi9qtu/h2o_josephdown_started_from_python.err\n",
      "  Server is running at http://127.0.0.1:54321\n",
      "Connecting to H2O server at http://127.0.0.1:54321 ... successful.\n"
     ]
    },
    {
     "data": {
      "text/html": [
       "<div style=\"overflow:auto\"><table style=\"width:50%\"><tr><td>H2O cluster uptime:</td>\n",
       "<td>02 secs</td></tr>\n",
       "<tr><td>H2O cluster timezone:</td>\n",
       "<td>America/Chicago</td></tr>\n",
       "<tr><td>H2O data parsing timezone:</td>\n",
       "<td>UTC</td></tr>\n",
       "<tr><td>H2O cluster version:</td>\n",
       "<td>3.26.0.2</td></tr>\n",
       "<tr><td>H2O cluster version age:</td>\n",
       "<td>1 month and 10 days </td></tr>\n",
       "<tr><td>H2O cluster name:</td>\n",
       "<td>H2O_from_python_josephdown_97mll2</td></tr>\n",
       "<tr><td>H2O cluster total nodes:</td>\n",
       "<td>1</td></tr>\n",
       "<tr><td>H2O cluster free memory:</td>\n",
       "<td>4 Gb</td></tr>\n",
       "<tr><td>H2O cluster total cores:</td>\n",
       "<td>8</td></tr>\n",
       "<tr><td>H2O cluster allowed cores:</td>\n",
       "<td>8</td></tr>\n",
       "<tr><td>H2O cluster status:</td>\n",
       "<td>accepting new members, healthy</td></tr>\n",
       "<tr><td>H2O connection url:</td>\n",
       "<td>http://127.0.0.1:54321</td></tr>\n",
       "<tr><td>H2O connection proxy:</td>\n",
       "<td>None</td></tr>\n",
       "<tr><td>H2O internal security:</td>\n",
       "<td>False</td></tr>\n",
       "<tr><td>H2O API Extensions:</td>\n",
       "<td>Amazon S3, XGBoost, Algos, AutoML, Core V3, Core V4</td></tr>\n",
       "<tr><td>Python version:</td>\n",
       "<td>3.6.8 final</td></tr></table></div>"
      ],
      "text/plain": [
       "--------------------------  ---------------------------------------------------\n",
       "H2O cluster uptime:         02 secs\n",
       "H2O cluster timezone:       America/Chicago\n",
       "H2O data parsing timezone:  UTC\n",
       "H2O cluster version:        3.26.0.2\n",
       "H2O cluster version age:    1 month and 10 days\n",
       "H2O cluster name:           H2O_from_python_josephdown_97mll2\n",
       "H2O cluster total nodes:    1\n",
       "H2O cluster free memory:    4 Gb\n",
       "H2O cluster total cores:    8\n",
       "H2O cluster allowed cores:  8\n",
       "H2O cluster status:         accepting new members, healthy\n",
       "H2O connection url:         http://127.0.0.1:54321\n",
       "H2O connection proxy:\n",
       "H2O internal security:      False\n",
       "H2O API Extensions:         Amazon S3, XGBoost, Algos, AutoML, Core V3, Core V4\n",
       "Python version:             3.6.8 final\n",
       "--------------------------  ---------------------------------------------------"
      ]
     },
     "metadata": {},
     "output_type": "display_data"
    }
   ],
   "source": [
    "h2o.init()"
   ]
  },
  {
   "cell_type": "code",
   "execution_count": 13,
   "metadata": {},
   "outputs": [
    {
     "name": "stdout",
     "output_type": "stream",
     "text": [
      "Parse progress: |█████████████████████████████████████████████████████████| 100%\n"
     ]
    }
   ],
   "source": [
    "# create h2o frame for training data\n",
    "training_frame = pd.concat([X_train,y_train], axis=1)\n",
    "training_frame.columns = list(training_frame.columns[:-1]) + ['Actuals']\n",
    "training_frame = h2o.H2OFrame(training_frame)"
   ]
  },
  {
   "cell_type": "code",
   "execution_count": 14,
   "metadata": {},
   "outputs": [
    {
     "name": "stdout",
     "output_type": "stream",
     "text": [
      "Parse progress: |█████████████████████████████████████████████████████████| 100%\n"
     ]
    }
   ],
   "source": [
    "# create h2o frame for testing data\n",
    "testing_frame = pd.concat([X_test,y_test], axis=1)\n",
    "testing_frame.columns = list(testing_frame.columns[:-1]) + ['Actuals']\n",
    "testing_frame = h2o.H2OFrame(testing_frame)"
   ]
  },
  {
   "cell_type": "code",
   "execution_count": 15,
   "metadata": {},
   "outputs": [
    {
     "name": "stdout",
     "output_type": "stream",
     "text": [
      "AutoML progress: |████████████████████████████████████████████████████████| 100%\n"
     ]
    }
   ],
   "source": [
    "aml = H2OAutoML(max_models=20, seed=1)\n",
    "aml.train(None, 'Actuals', training_frame)"
   ]
  },
  {
   "cell_type": "code",
   "execution_count": 16,
   "metadata": {},
   "outputs": [
    {
     "data": {
      "text/plain": [
       "6257843.454195455"
      ]
     },
     "execution_count": 16,
     "metadata": {},
     "output_type": "execute_result"
    }
   ],
   "source": [
    "y_test.std()"
   ]
  },
  {
   "cell_type": "code",
   "execution_count": 17,
   "metadata": {},
   "outputs": [
    {
     "name": "stdout",
     "output_type": "stream",
     "text": [
      "Parse progress: |█████████████████████████████████████████████████████████| 100%\n",
      "xgboost prediction progress: |████████████████████████████████████████████| 100%\n"
     ]
    },
    {
     "data": {
      "text/plain": [
       "815259.9455494743"
      ]
     },
     "execution_count": 17,
     "metadata": {},
     "output_type": "execute_result"
    }
   ],
   "source": [
    "predicted_actuals = aml.predict(h2o.H2OFrame(pd.concat([X_test, y_test], axis=1)))\n",
    "np.sqrt(np.mean((predicted_actuals['predict'].as_data_frame()['predict'].values-y_test)**2))"
   ]
  },
  {
   "cell_type": "code",
   "execution_count": 18,
   "metadata": {},
   "outputs": [
    {
     "name": "stdout",
     "output_type": "stream",
     "text": [
      "Model Details\n",
      "=============\n",
      "H2OXGBoostEstimator :  XGBoost\n",
      "Model Key:  XGBoost_3_AutoML_20190906_155527\n",
      "\n",
      "Model Summary: \n"
     ]
    },
    {
     "data": {
      "text/html": [
       "<div style=\"overflow:auto\"><table style=\"width:50%\"><tr><td><b></b></td>\n",
       "<td><b>number_of_trees</b></td></tr>\n",
       "<tr><td></td>\n",
       "<td>278.0</td></tr></table></div>"
      ],
      "text/plain": [
       "    number_of_trees\n",
       "--  -----------------\n",
       "    278"
      ]
     },
     "metadata": {},
     "output_type": "display_data"
    },
    {
     "name": "stdout",
     "output_type": "stream",
     "text": [
      "\n",
      "\n",
      "ModelMetricsRegression: xgboost\n",
      "** Reported on train data. **\n",
      "\n",
      "MSE: 16954271300.2768\n",
      "RMSE: 130208.5684595173\n",
      "MAE: 26417.423744033338\n",
      "RMSLE: NaN\n",
      "Mean Residual Deviance: 16954271300.2768\n",
      "\n",
      "ModelMetricsRegression: xgboost\n",
      "** Reported on cross-validation data. **\n",
      "\n",
      "MSE: 197714153324.65686\n",
      "RMSE: 444650.5969012713\n",
      "MAE: 41725.41228690334\n",
      "RMSLE: NaN\n",
      "Mean Residual Deviance: 197714153324.65686\n",
      "Cross-Validation Metrics Summary: \n"
     ]
    },
    {
     "data": {
      "text/html": [
       "<div style=\"overflow:auto\"><table style=\"width:50%\"><tr><td><b></b></td>\n",
       "<td><b>mean</b></td>\n",
       "<td><b>sd</b></td>\n",
       "<td><b>cv_1_valid</b></td>\n",
       "<td><b>cv_2_valid</b></td>\n",
       "<td><b>cv_3_valid</b></td>\n",
       "<td><b>cv_4_valid</b></td>\n",
       "<td><b>cv_5_valid</b></td></tr>\n",
       "<tr><td>mae</td>\n",
       "<td>41725.293</td>\n",
       "<td>2326.7915</td>\n",
       "<td>41477.582</td>\n",
       "<td>46152.848</td>\n",
       "<td>42405.65</td>\n",
       "<td>42626.953</td>\n",
       "<td>35963.426</td></tr>\n",
       "<tr><td>mean_residual_deviance</td>\n",
       "<td>197708268000.0000000</td>\n",
       "<td>75391877000.0000000</td>\n",
       "<td>403575472000.0000000</td>\n",
       "<td>195121709000.0000000</td>\n",
       "<td>150940484000.0000000</td>\n",
       "<td>122279051000.0000000</td>\n",
       "<td>116624597000.0000000</td></tr>\n",
       "<tr><td>mse</td>\n",
       "<td>197708268000.0000000</td>\n",
       "<td>75391877000.0000000</td>\n",
       "<td>403575472000.0000000</td>\n",
       "<td>195121709000.0000000</td>\n",
       "<td>150940484000.0000000</td>\n",
       "<td>122279051000.0000000</td>\n",
       "<td>116624597000.0000000</td></tr>\n",
       "<tr><td>r2</td>\n",
       "<td>0.9911066</td>\n",
       "<td>0.0041124</td>\n",
       "<td>0.9912182</td>\n",
       "<td>0.9947072</td>\n",
       "<td>0.9942754</td>\n",
       "<td>0.9798421</td>\n",
       "<td>0.9954899</td></tr>\n",
       "<tr><td>residual_deviance</td>\n",
       "<td>197708268000.0000000</td>\n",
       "<td>75391877000.0000000</td>\n",
       "<td>403575472000.0000000</td>\n",
       "<td>195121709000.0000000</td>\n",
       "<td>150940484000.0000000</td>\n",
       "<td>122279051000.0000000</td>\n",
       "<td>116624597000.0000000</td></tr>\n",
       "<tr><td>rmse</td>\n",
       "<td>431340.0</td>\n",
       "<td>76335.016</td>\n",
       "<td>635275.9</td>\n",
       "<td>441725.8</td>\n",
       "<td>388510.6</td>\n",
       "<td>349684.22</td>\n",
       "<td>341503.44</td></tr>\n",
       "<tr><td>rmsle</td>\n",
       "<td>0.0</td>\n",
       "<td>NaN</td>\n",
       "<td>NaN</td>\n",
       "<td>NaN</td>\n",
       "<td>NaN</td>\n",
       "<td>NaN</td>\n",
       "<td>NaN</td></tr></table></div>"
      ],
      "text/plain": [
       "                        mean         sd           cv_1_valid    cv_2_valid    cv_3_valid    cv_4_valid    cv_5_valid\n",
       "----------------------  -----------  -----------  ------------  ------------  ------------  ------------  ------------\n",
       "mae                     41725.3      2326.79      41477.6       46152.8       42405.7       42627         35963.4\n",
       "mean_residual_deviance  1.97708e+11  7.53919e+10  4.03575e+11   1.95122e+11   1.5094e+11    1.22279e+11   1.16625e+11\n",
       "mse                     1.97708e+11  7.53919e+10  4.03575e+11   1.95122e+11   1.5094e+11    1.22279e+11   1.16625e+11\n",
       "r2                      0.991107     0.00411243   0.991218      0.994707      0.994275      0.979842      0.99549\n",
       "residual_deviance       1.97708e+11  7.53919e+10  4.03575e+11   1.95122e+11   1.5094e+11    1.22279e+11   1.16625e+11\n",
       "rmse                    431340       76335        635276        441726        388511        349684        341503\n",
       "rmsle                   0            nan          nan           nan           nan           nan           nan"
      ]
     },
     "metadata": {},
     "output_type": "display_data"
    },
    {
     "name": "stdout",
     "output_type": "stream",
     "text": [
      "Scoring History: \n"
     ]
    },
    {
     "data": {
      "text/html": [
       "<div style=\"overflow:auto\"><table style=\"width:50%\"><tr><td><b></b></td>\n",
       "<td><b>timestamp</b></td>\n",
       "<td><b>duration</b></td>\n",
       "<td><b>number_of_trees</b></td>\n",
       "<td><b>training_rmse</b></td>\n",
       "<td><b>training_mae</b></td>\n",
       "<td><b>training_deviance</b></td></tr>\n",
       "<tr><td></td>\n",
       "<td>2019-09-06 16:45:54</td>\n",
       "<td> 3 min  5.355 sec</td>\n",
       "<td>0.0</td>\n",
       "<td>5319990.4984809</td>\n",
       "<td>280706.2928452</td>\n",
       "<td>28302298903927.3867188</td></tr>\n",
       "<tr><td></td>\n",
       "<td>2019-09-06 16:45:55</td>\n",
       "<td> 3 min  6.256 sec</td>\n",
       "<td>5.0</td>\n",
       "<td>4269006.4529369</td>\n",
       "<td>224565.8797355</td>\n",
       "<td>18224416095216.9648438</td></tr>\n",
       "<tr><td></td>\n",
       "<td>2019-09-06 16:45:55</td>\n",
       "<td> 3 min  6.979 sec</td>\n",
       "<td>10.0</td>\n",
       "<td>3445233.1936825</td>\n",
       "<td>183559.9911434</td>\n",
       "<td>11869631758851.9257812</td></tr>\n",
       "<tr><td></td>\n",
       "<td>2019-09-06 16:45:56</td>\n",
       "<td> 3 min  7.696 sec</td>\n",
       "<td>15.0</td>\n",
       "<td>2809080.1565374</td>\n",
       "<td>151453.5779227</td>\n",
       "<td>7890931325852.0302734</td></tr>\n",
       "<tr><td></td>\n",
       "<td>2019-09-06 16:45:57</td>\n",
       "<td> 3 min  8.400 sec</td>\n",
       "<td>20.0</td>\n",
       "<td>2307466.3120864</td>\n",
       "<td>126529.7658443</td>\n",
       "<td>5324400781413.4589844</td></tr>\n",
       "<tr><td>---</td>\n",
       "<td>---</td>\n",
       "<td>---</td>\n",
       "<td>---</td>\n",
       "<td>---</td>\n",
       "<td>---</td>\n",
       "<td>---</td></tr>\n",
       "<tr><td></td>\n",
       "<td>2019-09-06 16:46:33</td>\n",
       "<td> 3 min 44.106 sec</td>\n",
       "<td>260.0</td>\n",
       "<td>137829.1955636</td>\n",
       "<td>26933.4002410</td>\n",
       "<td>18996887149.7030678</td></tr>\n",
       "<tr><td></td>\n",
       "<td>2019-09-06 16:46:33</td>\n",
       "<td> 3 min 44.874 sec</td>\n",
       "<td>265.0</td>\n",
       "<td>135946.9444943</td>\n",
       "<td>26809.7110067</td>\n",
       "<td>18481571717.3258171</td></tr>\n",
       "<tr><td></td>\n",
       "<td>2019-09-06 16:46:34</td>\n",
       "<td> 3 min 45.642 sec</td>\n",
       "<td>270.0</td>\n",
       "<td>133658.7375267</td>\n",
       "<td>26657.3802170</td>\n",
       "<td>17864658117.2327003</td></tr>\n",
       "<tr><td></td>\n",
       "<td>2019-09-06 16:46:35</td>\n",
       "<td> 3 min 46.397 sec</td>\n",
       "<td>275.0</td>\n",
       "<td>131248.1381193</td>\n",
       "<td>26512.7053369</td>\n",
       "<td>17226073759.7767258</td></tr>\n",
       "<tr><td></td>\n",
       "<td>2019-09-06 16:46:35</td>\n",
       "<td> 3 min 46.895 sec</td>\n",
       "<td>278.0</td>\n",
       "<td>130208.5684595</td>\n",
       "<td>26417.4237440</td>\n",
       "<td>16954271300.2768002</td></tr></table></div>"
      ],
      "text/plain": [
       "     timestamp            duration          number_of_trees    training_rmse       training_mae        training_deviance\n",
       "---  -------------------  ----------------  -----------------  ------------------  ------------------  -------------------\n",
       "     2019-09-06 16:45:54  3 min  5.355 sec  0.0                5319990.498480931   280706.29284521437  28302298903927.387\n",
       "     2019-09-06 16:45:55  3 min  6.256 sec  5.0                4269006.452936908   224565.87973548277  18224416095216.965\n",
       "     2019-09-06 16:45:55  3 min  6.979 sec  10.0               3445233.19368253    183559.99114335317  11869631758851.926\n",
       "     2019-09-06 16:45:56  3 min  7.696 sec  15.0               2809080.1565373726  151453.57792266662  7890931325852.03\n",
       "     2019-09-06 16:45:57  3 min  8.400 sec  20.0               2307466.312086367   126529.76584432353  5324400781413.459\n",
       "---  ---                  ---               ---                ---                 ---                 ---\n",
       "     2019-09-06 16:46:33  3 min 44.106 sec  260.0              137829.19556357813  26933.400240985295  18996887149.703068\n",
       "     2019-09-06 16:46:33  3 min 44.874 sec  265.0              135946.9444942615   26809.711006745525  18481571717.325817\n",
       "     2019-09-06 16:46:34  3 min 45.642 sec  270.0              133658.7375267053   26657.380216959482  17864658117.2327\n",
       "     2019-09-06 16:46:35  3 min 46.397 sec  275.0              131248.13811927667  26512.70533687254   17226073759.776726\n",
       "     2019-09-06 16:46:35  3 min 46.895 sec  278.0              130208.5684595173   26417.423744033338  16954271300.2768"
      ]
     },
     "metadata": {},
     "output_type": "display_data"
    },
    {
     "name": "stdout",
     "output_type": "stream",
     "text": [
      "\n",
      "See the whole table with table.as_data_frame()\n",
      "Variable Importances: \n"
     ]
    },
    {
     "data": {
      "text/html": [
       "<div style=\"overflow:auto\"><table style=\"width:50%\"><tr><td><b>variable</b></td>\n",
       "<td><b>relative_importance</b></td>\n",
       "<td><b>scaled_importance</b></td>\n",
       "<td><b>percentage</b></td></tr>\n",
       "<tr><td>OriginalBudget</td>\n",
       "<td>4115259817021407232.0000000</td>\n",
       "<td>1.0</td>\n",
       "<td>0.5226151</td></tr>\n",
       "<tr><td>2Y_Past_Actuals</td>\n",
       "<td>2300734678191046656.0000000</td>\n",
       "<td>0.5590740</td>\n",
       "<td>0.2921805</td></tr>\n",
       "<tr><td>2Y_1Y_Actuals_Mean</td>\n",
       "<td>769119997220880384.0000000</td>\n",
       "<td>0.1868946</td>\n",
       "<td>0.0976740</td></tr>\n",
       "<tr><td>1Y_Past_Actuals</td>\n",
       "<td>506744808795013120.0000000</td>\n",
       "<td>0.1231380</td>\n",
       "<td>0.0643538</td></tr>\n",
       "<tr><td>2Y_1Y_Original_Budget_Mean</td>\n",
       "<td>59524011884806144.0000000</td>\n",
       "<td>0.0144642</td>\n",
       "<td>0.0075592</td></tr>\n",
       "<tr><td>---</td>\n",
       "<td>---</td>\n",
       "<td>---</td>\n",
       "<td>---</td></tr>\n",
       "<tr><td>FundTypeDescr_EnterpriseFunds</td>\n",
       "<td>6427578466304.0000000</td>\n",
       "<td>0.0000016</td>\n",
       "<td>0.0000008</td></tr>\n",
       "<tr><td>BusinessAreaName_HoustonAirportSystem(HAS)</td>\n",
       "<td>6407783448576.0000000</td>\n",
       "<td>0.0000016</td>\n",
       "<td>0.0000008</td></tr>\n",
       "<tr><td>FundName_Property&CasualtyFund</td>\n",
       "<td>4878243463168.0000000</td>\n",
       "<td>0.0000012</td>\n",
       "<td>0.0000006</td></tr>\n",
       "<tr><td>YearlyRainFall</td>\n",
       "<td>2076443672576.0000000</td>\n",
       "<td>0.0000005</td>\n",
       "<td>0.0000003</td></tr>\n",
       "<tr><td>YearlyAvgHighTemp</td>\n",
       "<td>1448196177920.0000000</td>\n",
       "<td>0.0000004</td>\n",
       "<td>0.0000002</td></tr></table></div>"
      ],
      "text/plain": [
       "variable                                    relative_importance     scaled_importance       percentage\n",
       "------------------------------------------  ----------------------  ----------------------  ----------------------\n",
       "OriginalBudget                              4.115259817021407e+18   1.0                     0.5226151433715049\n",
       "2Y_Past_Actuals                             2.3007346781910467e+18  0.5590739784338332      0.2921805273944754\n",
       "2Y_1Y_Actuals_Mean                          7.691199972208804e+17   0.18689463883657373     0.09767396847094162\n",
       "1Y_Past_Actuals                             5.067448087950131e+17   0.1231379867436392      0.06435377659650547\n",
       "2Y_1Y_Original_Budget_Mean                  5.952401188480614e+16   0.014464217213845117    0.007559218952970255\n",
       "---                                         ---                     ---                     ---\n",
       "FundTypeDescr_EnterpriseFunds               6427578466304.0         1.5618888605085038e-06  8.162667707650083e-07\n",
       "BusinessAreaName_HoustonAirportSystem(HAS)  6407783448576.0         1.5570787103337508e-06  8.137529134417911e-07\n",
       "FundName_Property&CasualtyFund              4878243463168.0         1.1854035176565923e-06  6.195098293331862e-07\n",
       "YearlyRainFall                              2076443672576.0         5.045717074745754e-07   2.6369681524303027e-07\n",
       "YearlyAvgHighTemp                           1448196177920.0         3.5190880826771053e-07  1.83912872286525e-07"
      ]
     },
     "metadata": {},
     "output_type": "display_data"
    },
    {
     "name": "stdout",
     "output_type": "stream",
     "text": [
      "\n",
      "See the whole table with table.as_data_frame()\n"
     ]
    },
    {
     "data": {
      "text/plain": []
     },
     "execution_count": 18,
     "metadata": {},
     "output_type": "execute_result"
    }
   ],
   "source": [
    "aml.leader"
   ]
  },
  {
   "cell_type": "code",
   "execution_count": null,
   "metadata": {},
   "outputs": [],
   "source": [
    "#3:55 pm"
   ]
  },
  {
   "cell_type": "code",
   "execution_count": null,
   "metadata": {},
   "outputs": [],
   "source": []
  },
  {
   "cell_type": "code",
   "execution_count": null,
   "metadata": {},
   "outputs": [],
   "source": [
    "plt.figure(figsize=(12,12))\n",
    "plt.scatter(y_train, aml.predict(training_frame).as_data_frame()['predict'].values, c='red')\n",
    "plt.scatter(y_test, aml.predict(testing_frame).as_data_frame()['predict'].values, c='blue')\n",
    "#plt.scatter(train_df['voyage_duration'], train_df['eta_diff'], c='green')\n",
    "plt.plot(x,x,c='black')\n",
    "plt.xlim([-5,100000000])\n",
    "plt.ylim([-5,100000000])\n",
    "plt.xlabel('observations')\n",
    "plt.ylabel('predictions')"
   ]
  },
  {
   "cell_type": "code",
   "execution_count": null,
   "metadata": {},
   "outputs": [],
   "source": [
    "#9/4 4:42pm"
   ]
  },
  {
   "cell_type": "code",
   "execution_count": null,
   "metadata": {},
   "outputs": [],
   "source": []
  },
  {
   "cell_type": "code",
   "execution_count": null,
   "metadata": {},
   "outputs": [],
   "source": []
  },
  {
   "cell_type": "code",
   "execution_count": null,
   "metadata": {},
   "outputs": [],
   "source": []
  },
  {
   "cell_type": "code",
   "execution_count": null,
   "metadata": {},
   "outputs": [],
   "source": []
  }
 ],
 "metadata": {
  "kernelspec": {
   "display_name": "Python 3",
   "language": "python",
   "name": "python3"
  },
  "language_info": {
   "codemirror_mode": {
    "name": "ipython",
    "version": 3
   },
   "file_extension": ".py",
   "mimetype": "text/x-python",
   "name": "python",
   "nbconvert_exporter": "python",
   "pygments_lexer": "ipython3",
   "version": "3.6.8"
  }
 },
 "nbformat": 4,
 "nbformat_minor": 2
}

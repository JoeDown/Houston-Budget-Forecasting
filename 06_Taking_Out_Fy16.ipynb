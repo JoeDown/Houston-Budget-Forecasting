{
 "cells": [
  {
   "cell_type": "code",
   "execution_count": 18,
   "metadata": {},
   "outputs": [
    {
     "name": "stdout",
     "output_type": "stream",
     "text": [
      "The autoreload extension is already loaded. To reload it, use:\n",
      "  %reload_ext autoreload\n"
     ]
    }
   ],
   "source": [
    "import pandas as pd\n",
    "import numpy as np\n",
    "import matplotlib.pyplot as plt\n",
    "import seaborn as sns\n",
    "import pandas_profiling\n",
    "import datetime\n",
    "from IPython.display import clear_output\n",
    "from datetime import timedelta\n",
    "from scipy.stats import skewnorm\n",
    "import inspect, re\n",
    "import h2o\n",
    "from h2o.automl import H2OAutoML\n",
    "import xgboost as xgb\n",
    "               \n",
    "%load_ext autoreload\n",
    "%autoreload 2\n",
    "\n",
    "%matplotlib inline\n",
    "plt.style.use('ggplot')\n",
    "\n",
    "pd.set_option('display.max_rows', None)\n",
    "pd.set_option('display.max_columns', None)"
   ]
  },
  {
   "cell_type": "code",
   "execution_count": 19,
   "metadata": {},
   "outputs": [
    {
     "name": "stdout",
     "output_type": "stream",
     "text": [
      "Checking whether there is an H2O instance running at http://localhost:54321 . connected.\n"
     ]
    },
    {
     "data": {
      "text/html": [
       "<div style=\"overflow:auto\"><table style=\"width:50%\"><tr><td>H2O cluster uptime:</td>\n",
       "<td>16 hours 50 mins</td></tr>\n",
       "<tr><td>H2O cluster timezone:</td>\n",
       "<td>America/Chicago</td></tr>\n",
       "<tr><td>H2O data parsing timezone:</td>\n",
       "<td>UTC</td></tr>\n",
       "<tr><td>H2O cluster version:</td>\n",
       "<td>3.26.0.2</td></tr>\n",
       "<tr><td>H2O cluster version age:</td>\n",
       "<td>1 month and 4 days </td></tr>\n",
       "<tr><td>H2O cluster name:</td>\n",
       "<td>H2O_from_python_josephdown_bis3r7</td></tr>\n",
       "<tr><td>H2O cluster total nodes:</td>\n",
       "<td>1</td></tr>\n",
       "<tr><td>H2O cluster free memory:</td>\n",
       "<td>3.446 Gb</td></tr>\n",
       "<tr><td>H2O cluster total cores:</td>\n",
       "<td>8</td></tr>\n",
       "<tr><td>H2O cluster allowed cores:</td>\n",
       "<td>8</td></tr>\n",
       "<tr><td>H2O cluster status:</td>\n",
       "<td>locked, healthy</td></tr>\n",
       "<tr><td>H2O connection url:</td>\n",
       "<td>http://localhost:54321</td></tr>\n",
       "<tr><td>H2O connection proxy:</td>\n",
       "<td>None</td></tr>\n",
       "<tr><td>H2O internal security:</td>\n",
       "<td>False</td></tr>\n",
       "<tr><td>H2O API Extensions:</td>\n",
       "<td>Amazon S3, XGBoost, Algos, AutoML, Core V3, Core V4</td></tr>\n",
       "<tr><td>Python version:</td>\n",
       "<td>3.6.8 final</td></tr></table></div>"
      ],
      "text/plain": [
       "--------------------------  ---------------------------------------------------\n",
       "H2O cluster uptime:         16 hours 50 mins\n",
       "H2O cluster timezone:       America/Chicago\n",
       "H2O data parsing timezone:  UTC\n",
       "H2O cluster version:        3.26.0.2\n",
       "H2O cluster version age:    1 month and 4 days\n",
       "H2O cluster name:           H2O_from_python_josephdown_bis3r7\n",
       "H2O cluster total nodes:    1\n",
       "H2O cluster free memory:    3.446 Gb\n",
       "H2O cluster total cores:    8\n",
       "H2O cluster allowed cores:  8\n",
       "H2O cluster status:         locked, healthy\n",
       "H2O connection url:         http://localhost:54321\n",
       "H2O connection proxy:\n",
       "H2O internal security:      False\n",
       "H2O API Extensions:         Amazon S3, XGBoost, Algos, AutoML, Core V3, Core V4\n",
       "Python version:             3.6.8 final\n",
       "--------------------------  ---------------------------------------------------"
      ]
     },
     "metadata": {},
     "output_type": "display_data"
    }
   ],
   "source": [
    "h2o.init()"
   ]
  },
  {
   "cell_type": "code",
   "execution_count": 20,
   "metadata": {},
   "outputs": [],
   "source": [
    "fy_10 = pd.read_excel(\"budget-vs-actuals-revenue-and-expenses-fy10-operating-budget.xlsx\")\n",
    "fy_11 = pd.read_excel(\"budget-vs-actuals-revenue-and-expenses-fy11-operating-budget.xlsx\")\n",
    "fy_12 = pd.read_excel(\"budget-vs-actuals-revenue-and-expenses-fy12-operating-budget.xlsx\")\n",
    "fy_13 = pd.read_excel(\"budget-vs-actuals-revenue-and-expenses-fy13-operating-budget.xlsx\")\n",
    "fy_14 = pd.read_excel(\"budget-vs-actuals-revenue-and-expenses-fy14-operating-budget.xlsx\")\n",
    "#fy_15 = pd.read_excel(\"budget-vs-actuals-revenue-and-expenses-fy15-operating-budget.xlsx\")\n",
    "#fy_16 = pd.read_excel(\"fy16-budget-vs-actuals-revenue-and-expenses.xls\")\n",
    "\n",
    "#Clean up the formating of FY16\n",
    "#fy_16.columns = fy_16.loc[0].values\n",
    "#fy_16 = fy_16.loc[1:]"
   ]
  },
  {
   "cell_type": "code",
   "execution_count": 21,
   "metadata": {},
   "outputs": [
    {
     "ename": "NameError",
     "evalue": "name 'fy_16' is not defined",
     "output_type": "error",
     "traceback": [
      "\u001b[0;31m---------------------------------------------------------------------------\u001b[0m",
      "\u001b[0;31mNameError\u001b[0m                                 Traceback (most recent call last)",
      "\u001b[0;32m<ipython-input-21-4b3d2ff85542>\u001b[0m in \u001b[0;36m<module>\u001b[0;34m\u001b[0m\n\u001b[0;32m----> 1\u001b[0;31m \u001b[0mfy_list\u001b[0m \u001b[0;34m=\u001b[0m \u001b[0;34m[\u001b[0m\u001b[0mfy_10\u001b[0m\u001b[0;34m,\u001b[0m \u001b[0mfy_11\u001b[0m\u001b[0;34m,\u001b[0m \u001b[0mfy_12\u001b[0m\u001b[0;34m,\u001b[0m \u001b[0mfy_13\u001b[0m\u001b[0;34m,\u001b[0m \u001b[0mfy_14\u001b[0m\u001b[0;34m,\u001b[0m \u001b[0mfy_16\u001b[0m\u001b[0;34m]\u001b[0m\u001b[0;34m\u001b[0m\u001b[0;34m\u001b[0m\u001b[0m\n\u001b[0m\u001b[1;32m      2\u001b[0m \u001b[0;34m\u001b[0m\u001b[0m\n\u001b[1;32m      3\u001b[0m \u001b[0;32mfor\u001b[0m \u001b[0myear\u001b[0m \u001b[0;32min\u001b[0m \u001b[0mfy_list\u001b[0m\u001b[0;34m:\u001b[0m\u001b[0;34m\u001b[0m\u001b[0;34m\u001b[0m\u001b[0m\n\u001b[1;32m      4\u001b[0m     \u001b[0myear\u001b[0m\u001b[0;34m[\u001b[0m\u001b[0;34m'OA_Difference'\u001b[0m\u001b[0;34m]\u001b[0m \u001b[0;34m=\u001b[0m \u001b[0myear\u001b[0m\u001b[0;34m[\u001b[0m\u001b[0;34m'Actuals'\u001b[0m\u001b[0;34m]\u001b[0m\u001b[0;34m-\u001b[0m\u001b[0myear\u001b[0m\u001b[0;34m[\u001b[0m\u001b[0;34m'Original Budget'\u001b[0m\u001b[0;34m]\u001b[0m\u001b[0;34m\u001b[0m\u001b[0;34m\u001b[0m\u001b[0m\n\u001b[1;32m      5\u001b[0m     \u001b[0myear\u001b[0m \u001b[0;34m=\u001b[0m \u001b[0myear\u001b[0m\u001b[0;34m.\u001b[0m\u001b[0mloc\u001b[0m\u001b[0;34m[\u001b[0m\u001b[0myear\u001b[0m\u001b[0;34m[\u001b[0m\u001b[0;34m'Revenue or Expenditure'\u001b[0m\u001b[0;34m]\u001b[0m\u001b[0;34m==\u001b[0m\u001b[0;34m\"Expenditures\"\u001b[0m\u001b[0;34m]\u001b[0m\u001b[0;34m\u001b[0m\u001b[0;34m\u001b[0m\u001b[0m\n",
      "\u001b[0;31mNameError\u001b[0m: name 'fy_16' is not defined"
     ]
    }
   ],
   "source": [
    "fy_list = [fy_10, fy_11, fy_12, fy_13, fy_14, fy_16] \n",
    "\n",
    "for year in fy_list:\n",
    "    year['OA_Difference'] = year['Actuals']-year['Original Budget']\n",
    "    year = year.loc[year['Revenue or Expenditure']==\"Expenditures\"]\n",
    "    year.dropna(inplace=True)"
   ]
  },
  {
   "cell_type": "code",
   "execution_count": null,
   "metadata": {},
   "outputs": [],
   "source": [
    "df = pd.concat(fy_list)\n",
    "df.dropna(inplace=True)\n",
    "\n",
    "houston_data = pd.read_csv(\"Houston Yearly Data - Sheet1 (1).csv\")\n",
    "houston_data_columns = houston_data.iloc[1,1:].values\n",
    "houston_data_index = houston_data.iloc[2:,0].values\n",
    "houston_data  = houston_data.iloc[2:,1:]\n"
   ]
  },
  {
   "cell_type": "code",
   "execution_count": null,
   "metadata": {},
   "outputs": [],
   "source": [
    "houston_data.index= houston_data_index\n",
    "houston_data.columns = houston_data_columns\n",
    "houston_data.columns = ['2009', '2010', '2011', '2012', '2013', '2014', '2015', '2016', '2017',\n",
    "       '2018', '2019']\n",
    "houston_data.fillna(0, inplace=True)\n",
    "houston_data['2019'] = houston_data['2019'].astype(int)\n",
    "\n",
    "\n",
    "\n",
    "# sum_ = 0\n",
    "# for column in categorical_variables:\n",
    "#     print(column, len(df[column].value_counts()))\n",
    "#     sum_ += len(df[column].value_counts())\n",
    "# print(sum_)"
   ]
  },
  {
   "cell_type": "code",
   "execution_count": null,
   "metadata": {},
   "outputs": [],
   "source": [
    "categorical_variables = ['Fund Name', 'Fund Type Descr', 'Business Area Name','Commitment Set Description']\n",
    "\n",
    "dummies = pd.get_dummies(df[categorical_variables]) # One-hot encoding of categorical variables\n",
    "df = pd.concat([dummies, df.drop(categorical_variables, axis=1)], axis=1)\n"
   ]
  },
  {
   "cell_type": "code",
   "execution_count": null,
   "metadata": {},
   "outputs": [],
   "source": [
    "def add_houston_data(year_df, houston_data, houston_data_index):\n",
    "    for col in houston_data_index:\n",
    "        year_df[col] = 0\n",
    "    \n",
    "    budget_year = year_df.iloc[0]['Fiscal Year']\n",
    "    previous_year =  year_df.iloc[0]['Fiscal Year'] - 1\n",
    "    \n",
    "    year_df['Rockets Playoff Rounds'] = float(houston_data[str(previous_year)]['Rockets Playoff Rounds'].replace(',',''))\n",
    "    year_df['Rockets Total Attendance'] = float(houston_data[str(previous_year)]['Rockets Total Attendance'].replace(',',''))\n",
    "    year_df['Texans Average Attendance'] = float(houston_data[str(budget_year)]['Texans Average Attendance'].replace(',',''))\n",
    "    year_df['Texans Playoff Rounds'] = float(houston_data[str(budget_year)]['Texans Playoff Rounds'].replace(',',''))\n",
    "    year_df['Astros Yearly Attendance'] = float(houston_data[str(previous_year)]['Astros Yearly Attendance'].replace(',',''))\n",
    "    year_df['Astros Playoff Rounds'] = float(houston_data[str(previous_year)]['Astros Playoff Rounds'].replace(',',''))\n",
    "\n",
    "    year_df['Yearly Crime Index'] = float(houston_data[str(previous_year)]['Yearly Crime Index'].replace(',',''))\n",
    "    year_df['Yearly Avg High Temp'] = float(houston_data[str(previous_year)]['Yearly Avg High Temp'].replace(',',''))\n",
    "    year_df['Yearly Avg Low Temp'] = float(houston_data[str(previous_year)]['Yearly Avg Low Temp'].replace(',',''))\n",
    "    year_df['Yearly Rain Fall'] = float(houston_data[str(previous_year)]['Yearly Rain Fall'].replace(',',''))\n",
    "    \n",
    "    return year_df"
   ]
  },
  {
   "cell_type": "code",
   "execution_count": null,
   "metadata": {},
   "outputs": [],
   "source": [
    "for year_index, year in enumerate(fy_list):\n",
    "    dummies = pd.get_dummies(year[categorical_variables]) # One-hot encoding of categorical variables\n",
    "    year = pd.concat([dummies, year.drop(categorical_variables, axis=1)], axis=1)\n",
    "    year.drop('Fund Center Name', axis=1, inplace=True)\n",
    "    #year.drop([categorical_variables, axis=1, inplace=True)\n",
    "    fy_list[year_index] = add_houston_data(year, houston_data, houston_data_index)"
   ]
  },
  {
   "cell_type": "code",
   "execution_count": null,
   "metadata": {},
   "outputs": [],
   "source": [
    "train_list = [fy_list[0], fy_list[1], fy_list[2]]\n",
    "test_list = [fy_list[3], fy_list[4]]"
   ]
  },
  {
   "cell_type": "code",
   "execution_count": null,
   "metadata": {},
   "outputs": [],
   "source": [
    "X_train = pd.concat(train_list).drop(['OA_Difference','Actuals','Current Budget'], axis=1)\n",
    "X_test = pd.concat(test_list).drop(['OA_Difference', 'Actuals', 'Current Budget'], axis = 1)\n",
    "y_train = pd.concat(train_list)['OA_Difference']\n",
    "y_test = pd.concat(test_list)['OA_Difference']\n"
   ]
  },
  {
   "cell_type": "code",
   "execution_count": null,
   "metadata": {},
   "outputs": [],
   "source": [
    "drop_list = ['Business Area','Fund Center Id','GL Category Description','GL Description','Revenue or Expenditure']\n",
    "numerical = ['GL Account', 'Fund Id','GL Category','Fiscal Year','Original Budget']"
   ]
  },
  {
   "cell_type": "code",
   "execution_count": null,
   "metadata": {},
   "outputs": [],
   "source": [
    "X_test.drop(drop_list, axis=1, inplace=True)\n",
    "X_train.drop(drop_list, axis=1, inplace=True)"
   ]
  },
  {
   "cell_type": "code",
   "execution_count": null,
   "metadata": {},
   "outputs": [],
   "source": [
    "# for col in numerical:\n",
    "#     X_test[col]=X_test[col].astype(float)"
   ]
  },
  {
   "cell_type": "code",
   "execution_count": 105,
   "metadata": {},
   "outputs": [],
   "source": [
    "# X_train.drop(object_list, axis=1, inplace= True)\n",
    "# X_test.drop(object_list, axis=1, inplace=True)\n",
    "\n",
    "#X_train.drop(['GL Description','Original Budget'], axis=1, inplace= True)\n",
    "#X_test.drop(['GL Description','Original Budget'], axis=1, inplace= True)"
   ]
  },
  {
   "cell_type": "code",
   "execution_count": 106,
   "metadata": {},
   "outputs": [
    {
     "name": "stderr",
     "output_type": "stream",
     "text": [
      "/anaconda3/lib/python3.6/site-packages/xgboost/core.py:587: FutureWarning: Series.base is deprecated and will be removed in a future version\n",
      "  if getattr(data, 'base', None) is not None and \\\n",
      "/anaconda3/lib/python3.6/site-packages/xgboost/core.py:588: FutureWarning: Series.base is deprecated and will be removed in a future version\n",
      "  data.base is not None and isinstance(data, np.ndarray) \\\n"
     ]
    },
    {
     "name": "stdout",
     "output_type": "stream",
     "text": [
      "[08:10:27] WARNING: src/objective/regression_obj.cu:152: reg:linear is now deprecated in favor of reg:squarederror.\n",
      "XGBRegressor(base_score=0.5, booster='gbtree', colsample_bylevel=1,\n",
      "       colsample_bynode=1, colsample_bytree=1, gamma=0,\n",
      "       importance_type='gain', learning_rate=0.1, max_delta_step=0,\n",
      "       max_depth=3, min_child_weight=1, missing=None, n_estimators=100,\n",
      "       n_jobs=1, nthread=None, objective='reg:linear', random_state=0,\n",
      "       reg_alpha=0, reg_lambda=1, scale_pos_weight=1, seed=None,\n",
      "       silent=None, subsample=1, verbosity=1)\n"
     ]
    }
   ],
   "source": [
    "model = xgb.XGBRegressor()\n",
    "model.fit(X_train,y_train)\n",
    "print (model)"
   ]
  },
  {
   "cell_type": "code",
   "execution_count": 55,
   "metadata": {},
   "outputs": [
    {
     "ename": "AttributeError",
     "evalue": "module 'xgboost' has no attribute 'fit'",
     "output_type": "error",
     "traceback": [
      "\u001b[0;31m---------------------------------------------------------------------------\u001b[0m",
      "\u001b[0;31mAttributeError\u001b[0m                            Traceback (most recent call last)",
      "\u001b[0;32m<ipython-input-55-5e1a7f2d4f0c>\u001b[0m in \u001b[0;36m<module>\u001b[0;34m\u001b[0m\n\u001b[0;32m----> 1\u001b[0;31m \u001b[0mxgb\u001b[0m\u001b[0;34m.\u001b[0m\u001b[0mfit\u001b[0m\u001b[0;34m(\u001b[0m\u001b[0mX_train\u001b[0m\u001b[0;34m,\u001b[0m\u001b[0my_train\u001b[0m\u001b[0;34m)\u001b[0m\u001b[0;34m\u001b[0m\u001b[0;34m\u001b[0m\u001b[0m\n\u001b[0m",
      "\u001b[0;31mAttributeError\u001b[0m: module 'xgboost' has no attribute 'fit'"
     ]
    }
   ],
   "source": [
    "xgb.fit(X_train,y_train)"
   ]
  },
  {
   "cell_type": "code",
   "execution_count": 57,
   "metadata": {},
   "outputs": [
    {
     "ename": "ValueError",
     "evalue": "feature_names mismatch: ['Astros Playoff Rounds', 'Astros Yearly Attendance', 'Business Area Name_Admn. & Regulatory Affairs', 'Business Area Name_Business Opportunity', \"Business Area Name_City Controller's Office\", 'Business Area Name_City Council', 'Business Area Name_City Secretary', 'Business Area Name_Citywide General Government', 'Business Area Name_Convention and Entertainment', 'Business Area Name_Dept of Neighborhoods (DON)', 'Business Area Name_Finance', 'Business Area Name_Fleet Management Department', 'Business Area Name_General Debt Services', 'Business Area Name_General Services Department', 'Business Area Name_Health & Human Services', 'Business Area Name_Housing and Community Devp.', 'Business Area Name_Houston Airport System (HAS)', 'Business Area Name_Houston Emergency Center (HEC)', 'Business Area Name_Houston Fire Department (HFD)', 'Business Area Name_Houston Police Department', 'Business Area Name_Human Resources Dept.', 'Business Area Name_Information Technology (IT)', 'Business Area Name_Investment Management', 'Business Area Name_Legal Department', 'Business Area Name_Library', \"Business Area Name_Mayor's Office\", 'Business Area Name_Municipal Court Judicial', 'Business Area Name_Municipal Courts Department', 'Business Area Name_Parks & Recreation', 'Business Area Name_Planning & Development', 'Business Area Name_Public Works & Engineering-PWE', 'Business Area Name_Solid Waste Management', 'Commitment Set Description_40 - Total Revenue', 'Commitment Set Description_50 - Total Expenditures', 'Fiscal Year', 'Fund Id', 'Fund Name_Asset Forfeiture Fund - Justice', 'Fund Name_Asset Forfeiture Fund - State', 'Fund Name_Asset Forfeiture Fund - Treasury', 'Fund Name_Auto Dealers Fund', 'Fund Name_BARC Special Revenue', 'Fund Name_Building Inspection Fund', 'Fund Name_C&E-Civic Center Facility Revenue Fund', 'Fund Name_Cable Television Fund', 'Fund Name_Central Service Revolving Fund', 'Fund Name_Child Safety Fund', 'Fund Name_Contractor Responsibility Fund', 'Fund Name_Dedicated Drainage & Street Renewal', 'Fund Name_Digital Automated Red Light Enforc Progr', 'Fund Name_Digital Houston Special Revenue', 'Fund Name_Essential Public Health Services', 'Fund Name_Expansion of Recycling Program', 'Fund Name_Fleet Management Fund', 'Fund Name_Fleet/Equipment Special Revenue', 'Fund Name_Forensic Transition Special Fund', 'Fund Name_GSD - In-House Renovation Revolving Fund', 'Fund Name_General Fund', 'Fund Name_Greater Houston Trans & Emer Center', 'Fund Name_HAS-AIF Capital Outlay', 'Fund Name_HAS-Revenue Fund', 'Fund Name_Health Benefits Fund', 'Fund Name_Health Special Revenue', 'Fund Name_Historic Preservation Fund', 'Fund Name_Houston Emergeny Center', 'Fund Name_Juvenile Case Manager Fee', 'Fund Name_Laboratory Services', 'Fund Name_Long-Term Disablility Plan Fund', 'Fund Name_Mobility Response Team', 'Fund Name_Municipal Court Bldg Security Fund', 'Fund Name_Municipal Court Technology Fund', 'Fund Name_PWE-Combined Utility System Gen Pur Fund', 'Fund Name_PWE-Combined Utility System Oper Fund', 'Fund Name_PWE-W & S System Operating Fund', 'Fund Name_Park Special Revenue Fund', 'Fund Name_Parking Mangement Operating Fund', 'Fund Name_Parks Golf Special', 'Fund Name_Police Special Services', 'Fund Name_Project Cost Recovery', 'Fund Name_Property & Casualty Fund', 'Fund Name_Special Waste Transportation & Inspect', 'Fund Name_State Cable TV Franchise Fee', 'Fund Name_Stormwater Fund', 'Fund Name_Supplemental Environmental Proj', 'Fund Name_Swimming Pool Safety', 'Fund Name_Workers Compensation Admin Fund', 'Fund Type Descr_Enterprise Funds', 'Fund Type Descr_General Funds', 'Fund Type Descr_Internal Services Funds', 'Fund Type Descr_Special Revenue Funds', 'GL Account', 'GL Category', 'Original Budget', 'Rockets Playoff Rounds', 'Rockets Total Attendance', 'Texans Average Attendance', 'Texans Playoff Rounds', 'Yearly Avg High Temp', 'Yearly Avg Low Temp', 'Yearly Crime Index', 'Yearly Rain Fall'] ['Astros Playoff Rounds', 'Astros Yearly Attendance', 'Business Area Name_Admn. & Regulatory Affairs', 'Business Area Name_Business Opportunity', \"Business Area Name_City Controller's Office\", 'Business Area Name_City Council', 'Business Area Name_City Secretary', 'Business Area Name_Citywide General Government', 'Business Area Name_Convention and Entertainment', 'Business Area Name_Dept of Neighborhoods (DON)', 'Business Area Name_Finance', 'Business Area Name_Fleet Management Department', 'Business Area Name_General Debt Services', 'Business Area Name_General Services Department', 'Business Area Name_Health & Human Services', 'Business Area Name_Housing and Community Devp.', 'Business Area Name_Houston Airport System (HAS)', 'Business Area Name_Houston Emergency Center (HEC)', 'Business Area Name_Houston Fire Department (HFD)', 'Business Area Name_Houston Information Tech Svcs', 'Business Area Name_Houston Police Department-HPD', 'Business Area Name_Human Resources Dept.', 'Business Area Name_Information Technology (IT)', 'Business Area Name_Investment Management', 'Business Area Name_Legal Department', 'Business Area Name_Library', \"Business Area Name_Mayor's Office\", 'Business Area Name_Municipal Court Judicial', 'Business Area Name_Municipal Courts Department', 'Business Area Name_Parks & Recreation', 'Business Area Name_Planning & Development', 'Business Area Name_Public Works & Engineering-PWE', 'Business Area Name_Solid Waste Management', 'Commitment Set Description_40 - Total Revenue', 'Commitment Set Description_50 - Total Expenditures', 'Fiscal Year', 'Fund Id', 'Fund Name_Asset Forfeiture Fund - Justice', 'Fund Name_Asset Forfeiture Fund - State', 'Fund Name_Asset Forfeiture Fund - Treasury', 'Fund Name_Auto Dealers Fund', 'Fund Name_BARC Special Revenue', 'Fund Name_Bayou Greenway 2020', 'Fund Name_Building Inspection Fund', 'Fund Name_C&E-Civic Center Facility Revenue Fund', 'Fund Name_Cable Television Fund', 'Fund Name_Central Service Revolving Fund', 'Fund Name_Child Safety Fund', 'Fund Name_Contractor Responsibility Fund', 'Fund Name_Dedicated Drainage & Street Renewal', 'Fund Name_Development related Services leb by P&DD', 'Fund Name_Digital Houston Special Revenue', 'Fund Name_Essential Public Health Services', 'Fund Name_Expansion of Recycling Program', 'Fund Name_Fleet Management Fund', 'Fund Name_Forensic Transition Special Fund', 'Fund Name_GSD - In-House Renovation Revolving Fund', 'Fund Name_General Fund', 'Fund Name_Greater Houston Trans & Emer Center', 'Fund Name_HAS-AIF Capital Outlay', 'Fund Name_HAS-Revenue Fund', 'Fund Name_Health Benefits Fund', 'Fund Name_Health Special Revenue', 'Fund Name_Historic Preservation Fund', 'Fund Name_Houston Civic Events Fund', 'Fund Name_Houston Emergeny Center', 'Fund Name_Juvenile Case Manager Fee', 'Fund Name_Laboratory Services', 'Fund Name_Long-Term Disablility Plan Fund', 'Fund Name_Maintenance Renewal and Replacement Fund', 'Fund Name_Municipal Court Bldg Security Fund', 'Fund Name_Municipal Court Technology Fund', 'Fund Name_PWE-Combined Utility System Gen Pur Fund', 'Fund Name_PWE-Combined Utility System Oper Fund', 'Fund Name_PWE-W & S System Operating Fund', 'Fund Name_Park Special Revenue Fund', 'Fund Name_Parking Mangement Operating Fund', 'Fund Name_Parks Golf Special', 'Fund Name_Police Special Services', 'Fund Name_Project Cost Recovery', 'Fund Name_Property & Casualty Fund', 'Fund Name_Special Waste Transportation & Inspect', 'Fund Name_State Cable TV Franchise Fee', 'Fund Name_Stormwater Fund', 'Fund Name_Supplemental Environmental Proj', 'Fund Name_Swimming Pool Safety', 'Fund Name_Tourisim Promotion', 'Fund Name_Workers Compensation Admin Fund', 'Fund Type Descr_Enterprise Funds', 'Fund Type Descr_General Funds', 'Fund Type Descr_Internal Services Funds', 'Fund Type Descr_Special Revenue Funds', 'GL Account', 'GL Category', 'Original Budget', 'Rockets Playoff Rounds', 'Rockets Total Attendance', 'Texans Average Attendance', 'Texans Playoff Rounds', 'Yearly Avg High Temp', 'Yearly Avg Low Temp', 'Yearly Crime Index', 'Yearly Rain Fall']\nexpected Fund Name_Fleet/Equipment Special Revenue, Fund Name_Digital Automated Red Light Enforc Progr, Fund Name_Mobility Response Team, Business Area Name_Houston Police Department in input data\ntraining data did not have the following fields: Fund Name_Maintenance Renewal and Replacement Fund, Business Area Name_Houston Information Tech Svcs, Fund Name_Bayou Greenway 2020, Fund Name_Development related Services leb by P&DD, Business Area Name_Houston Police Department-HPD, Fund Name_Houston Civic Events Fund, Fund Name_Tourisim Promotion",
     "output_type": "error",
     "traceback": [
      "\u001b[0;31m---------------------------------------------------------------------------\u001b[0m",
      "\u001b[0;31mValueError\u001b[0m                                Traceback (most recent call last)",
      "\u001b[0;32m<ipython-input-57-d412bfec87b3>\u001b[0m in \u001b[0;36m<module>\u001b[0;34m\u001b[0m\n\u001b[0;32m----> 1\u001b[0;31m \u001b[0mxgb_test_predictions\u001b[0m \u001b[0;34m=\u001b[0m \u001b[0mmodel\u001b[0m\u001b[0;34m.\u001b[0m\u001b[0mpredict\u001b[0m\u001b[0;34m(\u001b[0m\u001b[0mX_test\u001b[0m\u001b[0;34m)\u001b[0m\u001b[0;34m\u001b[0m\u001b[0;34m\u001b[0m\u001b[0m\n\u001b[0m\u001b[1;32m      2\u001b[0m \u001b[0mxgb_train_predictions\u001b[0m \u001b[0;34m=\u001b[0m \u001b[0mmodel\u001b[0m\u001b[0;34m.\u001b[0m\u001b[0mpredict\u001b[0m\u001b[0;34m(\u001b[0m\u001b[0mX_train\u001b[0m\u001b[0;34m)\u001b[0m\u001b[0;34m\u001b[0m\u001b[0;34m\u001b[0m\u001b[0m\n",
      "\u001b[0;32m/anaconda3/lib/python3.6/site-packages/xgboost/sklearn.py\u001b[0m in \u001b[0;36mpredict\u001b[0;34m(self, data, output_margin, ntree_limit, validate_features)\u001b[0m\n\u001b[1;32m    454\u001b[0m                                           \u001b[0moutput_margin\u001b[0m\u001b[0;34m=\u001b[0m\u001b[0moutput_margin\u001b[0m\u001b[0;34m,\u001b[0m\u001b[0;34m\u001b[0m\u001b[0;34m\u001b[0m\u001b[0m\n\u001b[1;32m    455\u001b[0m                                           \u001b[0mntree_limit\u001b[0m\u001b[0;34m=\u001b[0m\u001b[0mntree_limit\u001b[0m\u001b[0;34m,\u001b[0m\u001b[0;34m\u001b[0m\u001b[0;34m\u001b[0m\u001b[0m\n\u001b[0;32m--> 456\u001b[0;31m                                           validate_features=validate_features)\n\u001b[0m\u001b[1;32m    457\u001b[0m \u001b[0;34m\u001b[0m\u001b[0m\n\u001b[1;32m    458\u001b[0m     \u001b[0;32mdef\u001b[0m \u001b[0mapply\u001b[0m\u001b[0;34m(\u001b[0m\u001b[0mself\u001b[0m\u001b[0;34m,\u001b[0m \u001b[0mX\u001b[0m\u001b[0;34m,\u001b[0m \u001b[0mntree_limit\u001b[0m\u001b[0;34m=\u001b[0m\u001b[0;36m0\u001b[0m\u001b[0;34m)\u001b[0m\u001b[0;34m:\u001b[0m\u001b[0;34m\u001b[0m\u001b[0;34m\u001b[0m\u001b[0m\n",
      "\u001b[0;32m/anaconda3/lib/python3.6/site-packages/xgboost/core.py\u001b[0m in \u001b[0;36mpredict\u001b[0;34m(self, data, output_margin, ntree_limit, pred_leaf, pred_contribs, approx_contribs, pred_interactions, validate_features)\u001b[0m\n\u001b[1;32m   1282\u001b[0m \u001b[0;34m\u001b[0m\u001b[0m\n\u001b[1;32m   1283\u001b[0m         \u001b[0;32mif\u001b[0m \u001b[0mvalidate_features\u001b[0m\u001b[0;34m:\u001b[0m\u001b[0;34m\u001b[0m\u001b[0;34m\u001b[0m\u001b[0m\n\u001b[0;32m-> 1284\u001b[0;31m             \u001b[0mself\u001b[0m\u001b[0;34m.\u001b[0m\u001b[0m_validate_features\u001b[0m\u001b[0;34m(\u001b[0m\u001b[0mdata\u001b[0m\u001b[0;34m)\u001b[0m\u001b[0;34m\u001b[0m\u001b[0;34m\u001b[0m\u001b[0m\n\u001b[0m\u001b[1;32m   1285\u001b[0m \u001b[0;34m\u001b[0m\u001b[0m\n\u001b[1;32m   1286\u001b[0m         \u001b[0mlength\u001b[0m \u001b[0;34m=\u001b[0m \u001b[0mc_bst_ulong\u001b[0m\u001b[0;34m(\u001b[0m\u001b[0;34m)\u001b[0m\u001b[0;34m\u001b[0m\u001b[0;34m\u001b[0m\u001b[0m\n",
      "\u001b[0;32m/anaconda3/lib/python3.6/site-packages/xgboost/core.py\u001b[0m in \u001b[0;36m_validate_features\u001b[0;34m(self, data)\u001b[0m\n\u001b[1;32m   1688\u001b[0m \u001b[0;34m\u001b[0m\u001b[0m\n\u001b[1;32m   1689\u001b[0m                 raise ValueError(msg.format(self.feature_names,\n\u001b[0;32m-> 1690\u001b[0;31m                                             data.feature_names))\n\u001b[0m\u001b[1;32m   1691\u001b[0m \u001b[0;34m\u001b[0m\u001b[0m\n\u001b[1;32m   1692\u001b[0m     \u001b[0;32mdef\u001b[0m \u001b[0mget_split_value_histogram\u001b[0m\u001b[0;34m(\u001b[0m\u001b[0mself\u001b[0m\u001b[0;34m,\u001b[0m \u001b[0mfeature\u001b[0m\u001b[0;34m,\u001b[0m \u001b[0mfmap\u001b[0m\u001b[0;34m=\u001b[0m\u001b[0;34m''\u001b[0m\u001b[0;34m,\u001b[0m \u001b[0mbins\u001b[0m\u001b[0;34m=\u001b[0m\u001b[0;32mNone\u001b[0m\u001b[0;34m,\u001b[0m \u001b[0mas_pandas\u001b[0m\u001b[0;34m=\u001b[0m\u001b[0;32mTrue\u001b[0m\u001b[0;34m)\u001b[0m\u001b[0;34m:\u001b[0m\u001b[0;34m\u001b[0m\u001b[0;34m\u001b[0m\u001b[0m\n",
      "\u001b[0;31mValueError\u001b[0m: feature_names mismatch: ['Astros Playoff Rounds', 'Astros Yearly Attendance', 'Business Area Name_Admn. & Regulatory Affairs', 'Business Area Name_Business Opportunity', \"Business Area Name_City Controller's Office\", 'Business Area Name_City Council', 'Business Area Name_City Secretary', 'Business Area Name_Citywide General Government', 'Business Area Name_Convention and Entertainment', 'Business Area Name_Dept of Neighborhoods (DON)', 'Business Area Name_Finance', 'Business Area Name_Fleet Management Department', 'Business Area Name_General Debt Services', 'Business Area Name_General Services Department', 'Business Area Name_Health & Human Services', 'Business Area Name_Housing and Community Devp.', 'Business Area Name_Houston Airport System (HAS)', 'Business Area Name_Houston Emergency Center (HEC)', 'Business Area Name_Houston Fire Department (HFD)', 'Business Area Name_Houston Police Department', 'Business Area Name_Human Resources Dept.', 'Business Area Name_Information Technology (IT)', 'Business Area Name_Investment Management', 'Business Area Name_Legal Department', 'Business Area Name_Library', \"Business Area Name_Mayor's Office\", 'Business Area Name_Municipal Court Judicial', 'Business Area Name_Municipal Courts Department', 'Business Area Name_Parks & Recreation', 'Business Area Name_Planning & Development', 'Business Area Name_Public Works & Engineering-PWE', 'Business Area Name_Solid Waste Management', 'Commitment Set Description_40 - Total Revenue', 'Commitment Set Description_50 - Total Expenditures', 'Fiscal Year', 'Fund Id', 'Fund Name_Asset Forfeiture Fund - Justice', 'Fund Name_Asset Forfeiture Fund - State', 'Fund Name_Asset Forfeiture Fund - Treasury', 'Fund Name_Auto Dealers Fund', 'Fund Name_BARC Special Revenue', 'Fund Name_Building Inspection Fund', 'Fund Name_C&E-Civic Center Facility Revenue Fund', 'Fund Name_Cable Television Fund', 'Fund Name_Central Service Revolving Fund', 'Fund Name_Child Safety Fund', 'Fund Name_Contractor Responsibility Fund', 'Fund Name_Dedicated Drainage & Street Renewal', 'Fund Name_Digital Automated Red Light Enforc Progr', 'Fund Name_Digital Houston Special Revenue', 'Fund Name_Essential Public Health Services', 'Fund Name_Expansion of Recycling Program', 'Fund Name_Fleet Management Fund', 'Fund Name_Fleet/Equipment Special Revenue', 'Fund Name_Forensic Transition Special Fund', 'Fund Name_GSD - In-House Renovation Revolving Fund', 'Fund Name_General Fund', 'Fund Name_Greater Houston Trans & Emer Center', 'Fund Name_HAS-AIF Capital Outlay', 'Fund Name_HAS-Revenue Fund', 'Fund Name_Health Benefits Fund', 'Fund Name_Health Special Revenue', 'Fund Name_Historic Preservation Fund', 'Fund Name_Houston Emergeny Center', 'Fund Name_Juvenile Case Manager Fee', 'Fund Name_Laboratory Services', 'Fund Name_Long-Term Disablility Plan Fund', 'Fund Name_Mobility Response Team', 'Fund Name_Municipal Court Bldg Security Fund', 'Fund Name_Municipal Court Technology Fund', 'Fund Name_PWE-Combined Utility System Gen Pur Fund', 'Fund Name_PWE-Combined Utility System Oper Fund', 'Fund Name_PWE-W & S System Operating Fund', 'Fund Name_Park Special Revenue Fund', 'Fund Name_Parking Mangement Operating Fund', 'Fund Name_Parks Golf Special', 'Fund Name_Police Special Services', 'Fund Name_Project Cost Recovery', 'Fund Name_Property & Casualty Fund', 'Fund Name_Special Waste Transportation & Inspect', 'Fund Name_State Cable TV Franchise Fee', 'Fund Name_Stormwater Fund', 'Fund Name_Supplemental Environmental Proj', 'Fund Name_Swimming Pool Safety', 'Fund Name_Workers Compensation Admin Fund', 'Fund Type Descr_Enterprise Funds', 'Fund Type Descr_General Funds', 'Fund Type Descr_Internal Services Funds', 'Fund Type Descr_Special Revenue Funds', 'GL Account', 'GL Category', 'Original Budget', 'Rockets Playoff Rounds', 'Rockets Total Attendance', 'Texans Average Attendance', 'Texans Playoff Rounds', 'Yearly Avg High Temp', 'Yearly Avg Low Temp', 'Yearly Crime Index', 'Yearly Rain Fall'] ['Astros Playoff Rounds', 'Astros Yearly Attendance', 'Business Area Name_Admn. & Regulatory Affairs', 'Business Area Name_Business Opportunity', \"Business Area Name_City Controller's Office\", 'Business Area Name_City Council', 'Business Area Name_City Secretary', 'Business Area Name_Citywide General Government', 'Business Area Name_Convention and Entertainment', 'Business Area Name_Dept of Neighborhoods (DON)', 'Business Area Name_Finance', 'Business Area Name_Fleet Management Department', 'Business Area Name_General Debt Services', 'Business Area Name_General Services Department', 'Business Area Name_Health & Human Services', 'Business Area Name_Housing and Community Devp.', 'Business Area Name_Houston Airport System (HAS)', 'Business Area Name_Houston Emergency Center (HEC)', 'Business Area Name_Houston Fire Department (HFD)', 'Business Area Name_Houston Information Tech Svcs', 'Business Area Name_Houston Police Department-HPD', 'Business Area Name_Human Resources Dept.', 'Business Area Name_Information Technology (IT)', 'Business Area Name_Investment Management', 'Business Area Name_Legal Department', 'Business Area Name_Library', \"Business Area Name_Mayor's Office\", 'Business Area Name_Municipal Court Judicial', 'Business Area Name_Municipal Courts Department', 'Business Area Name_Parks & Recreation', 'Business Area Name_Planning & Development', 'Business Area Name_Public Works & Engineering-PWE', 'Business Area Name_Solid Waste Management', 'Commitment Set Description_40 - Total Revenue', 'Commitment Set Description_50 - Total Expenditures', 'Fiscal Year', 'Fund Id', 'Fund Name_Asset Forfeiture Fund - Justice', 'Fund Name_Asset Forfeiture Fund - State', 'Fund Name_Asset Forfeiture Fund - Treasury', 'Fund Name_Auto Dealers Fund', 'Fund Name_BARC Special Revenue', 'Fund Name_Bayou Greenway 2020', 'Fund Name_Building Inspection Fund', 'Fund Name_C&E-Civic Center Facility Revenue Fund', 'Fund Name_Cable Television Fund', 'Fund Name_Central Service Revolving Fund', 'Fund Name_Child Safety Fund', 'Fund Name_Contractor Responsibility Fund', 'Fund Name_Dedicated Drainage & Street Renewal', 'Fund Name_Development related Services leb by P&DD', 'Fund Name_Digital Houston Special Revenue', 'Fund Name_Essential Public Health Services', 'Fund Name_Expansion of Recycling Program', 'Fund Name_Fleet Management Fund', 'Fund Name_Forensic Transition Special Fund', 'Fund Name_GSD - In-House Renovation Revolving Fund', 'Fund Name_General Fund', 'Fund Name_Greater Houston Trans & Emer Center', 'Fund Name_HAS-AIF Capital Outlay', 'Fund Name_HAS-Revenue Fund', 'Fund Name_Health Benefits Fund', 'Fund Name_Health Special Revenue', 'Fund Name_Historic Preservation Fund', 'Fund Name_Houston Civic Events Fund', 'Fund Name_Houston Emergeny Center', 'Fund Name_Juvenile Case Manager Fee', 'Fund Name_Laboratory Services', 'Fund Name_Long-Term Disablility Plan Fund', 'Fund Name_Maintenance Renewal and Replacement Fund', 'Fund Name_Municipal Court Bldg Security Fund', 'Fund Name_Municipal Court Technology Fund', 'Fund Name_PWE-Combined Utility System Gen Pur Fund', 'Fund Name_PWE-Combined Utility System Oper Fund', 'Fund Name_PWE-W & S System Operating Fund', 'Fund Name_Park Special Revenue Fund', 'Fund Name_Parking Mangement Operating Fund', 'Fund Name_Parks Golf Special', 'Fund Name_Police Special Services', 'Fund Name_Project Cost Recovery', 'Fund Name_Property & Casualty Fund', 'Fund Name_Special Waste Transportation & Inspect', 'Fund Name_State Cable TV Franchise Fee', 'Fund Name_Stormwater Fund', 'Fund Name_Supplemental Environmental Proj', 'Fund Name_Swimming Pool Safety', 'Fund Name_Tourisim Promotion', 'Fund Name_Workers Compensation Admin Fund', 'Fund Type Descr_Enterprise Funds', 'Fund Type Descr_General Funds', 'Fund Type Descr_Internal Services Funds', 'Fund Type Descr_Special Revenue Funds', 'GL Account', 'GL Category', 'Original Budget', 'Rockets Playoff Rounds', 'Rockets Total Attendance', 'Texans Average Attendance', 'Texans Playoff Rounds', 'Yearly Avg High Temp', 'Yearly Avg Low Temp', 'Yearly Crime Index', 'Yearly Rain Fall']\nexpected Fund Name_Fleet/Equipment Special Revenue, Fund Name_Digital Automated Red Light Enforc Progr, Fund Name_Mobility Response Team, Business Area Name_Houston Police Department in input data\ntraining data did not have the following fields: Fund Name_Maintenance Renewal and Replacement Fund, Business Area Name_Houston Information Tech Svcs, Fund Name_Bayou Greenway 2020, Fund Name_Development related Services leb by P&DD, Business Area Name_Houston Police Department-HPD, Fund Name_Houston Civic Events Fund, Fund Name_Tourisim Promotion"
     ]
    }
   ],
   "source": [
    "xgb_test_predictions = model.predict(X_test)\n",
    "xgb_train_predictions = model.predict(X_train)"
   ]
  },
  {
   "cell_type": "code",
   "execution_count": null,
   "metadata": {},
   "outputs": [],
   "source": [
    "np.sqrt(np.mean((xgb_test_predictions-y_test)**2))\n"
   ]
  },
  {
   "cell_type": "code",
   "execution_count": null,
   "metadata": {},
   "outputs": [],
   "source": [
    "x = np.linspace(-100000000,100000000,100000000)\n",
    "plt.figure(figsize=(12,12))\n",
    "plt.scatter(y_train, xgb_train_predictions, c='red')\n",
    "plt.scatter(y_test, xgb_test_predictions, c='blue')\n",
    "#plt.scatter(train_df['voyage_duration'], train_df['eta_diff'], c='green')\n",
    "plt.plot(x,x,c='black')\n",
    "plt.xlim([-5,100000000])\n",
    "plt.ylim([-5,100000000])\n",
    "plt.xlabel('observations')\n",
    "plt.ylabel('predictions')"
   ]
  },
  {
   "cell_type": "code",
   "execution_count": null,
   "metadata": {},
   "outputs": [],
   "source": []
  },
  {
   "cell_type": "code",
   "execution_count": null,
   "metadata": {},
   "outputs": [],
   "source": [
    "fy_name_list = ['fy_10', 'fy_11', 'fy_12', 'fy_13', 'fy_14', 'fy_15', 'fy_16']\n",
    "\n",
    "for index, year in enmerate(fy_list):\n",
    "    pd.to_csv(year, (fy_name_list[index] + fy_name_list[index]))"
   ]
  },
  {
   "cell_type": "code",
   "execution_count": null,
   "metadata": {},
   "outputs": [],
   "source": []
  },
  {
   "cell_type": "code",
   "execution_count": null,
   "metadata": {},
   "outputs": [],
   "source": []
  },
  {
   "cell_type": "code",
   "execution_count": null,
   "metadata": {},
   "outputs": [],
   "source": []
  },
  {
   "cell_type": "code",
   "execution_count": 22,
   "metadata": {},
   "outputs": [
    {
     "name": "stdout",
     "output_type": "stream",
     "text": [
      "Parse progress: |█████████████████████████████████████████████████████████| 100%\n"
     ]
    }
   ],
   "source": [
    "# create h2o frame for training data\n",
    "training_frame = pd.concat([X_train,y_train], axis=1)\n",
    "training_frame.columns = list(training_frame.columns[:-1]) + ['OA_Difference']\n",
    "training_frame = h2o.H2OFrame(training_frame)"
   ]
  },
  {
   "cell_type": "code",
   "execution_count": 23,
   "metadata": {},
   "outputs": [
    {
     "name": "stdout",
     "output_type": "stream",
     "text": [
      "Parse progress: |█████████████████████████████████████████████████████████| 100%\n"
     ]
    }
   ],
   "source": [
    "# create h2o frame for testing data\n",
    "testing_frame = pd.concat([X_test,y_test], axis=1)\n",
    "testing_frame.columns = list(testing_frame.columns[:-1]) + ['OA_Difference']\n",
    "testing_frame = h2o.H2OFrame(testing_frame)"
   ]
  },
  {
   "cell_type": "code",
   "execution_count": null,
   "metadata": {},
   "outputs": [],
   "source": []
  },
  {
   "cell_type": "code",
   "execution_count": null,
   "metadata": {},
   "outputs": [],
   "source": []
  },
  {
   "cell_type": "code",
   "execution_count": null,
   "metadata": {},
   "outputs": [],
   "source": []
  },
  {
   "cell_type": "code",
   "execution_count": 24,
   "metadata": {},
   "outputs": [
    {
     "name": "stdout",
     "output_type": "stream",
     "text": [
      "AutoML progress: |████████████████████████████████████████████████████████| 100%\n"
     ]
    }
   ],
   "source": [
    "aml = H2OAutoML(max_models=20, seed=1)\n",
    "aml.train(None, 'OA_Difference', training_frame)"
   ]
  },
  {
   "cell_type": "code",
   "execution_count": null,
   "metadata": {},
   "outputs": [],
   "source": []
  },
  {
   "cell_type": "code",
   "execution_count": 25,
   "metadata": {},
   "outputs": [
    {
     "name": "stdout",
     "output_type": "stream",
     "text": [
      "Parse progress: |█████████████████████████████████████████████████████████| 100%\n",
      "drf prediction progress: | (failed)\n"
     ]
    },
    {
     "ename": "OSError",
     "evalue": "Job with key $03017f00000132d4ffffffff$_b427504258532b016e5e996da211410f failed with an exception: java.lang.IllegalArgumentException: Test/Validation dataset has a non-categorical column 'Business Area Name_Dept of Neighborhoods (DON)' which is categorical in the training data\nstacktrace: \njava.lang.IllegalArgumentException: Test/Validation dataset has a non-categorical column 'Business Area Name_Dept of Neighborhoods (DON)' which is categorical in the training data\n\tat hex.Model.adaptTestForTrain(Model.java:1306)\n\tat hex.Model.adaptTestForTrain(Model.java:1164)\n\tat hex.Model.score(Model.java:1442)\n\tat water.api.ModelMetricsHandler$1.compute2(ModelMetricsHandler.java:381)\n\tat water.H2O$H2OCountedCompleter.compute(H2O.java:1417)\n\tat jsr166y.CountedCompleter.exec(CountedCompleter.java:468)\n\tat jsr166y.ForkJoinTask.doExec(ForkJoinTask.java:263)\n\tat jsr166y.ForkJoinPool$WorkQueue.runTask(ForkJoinPool.java:974)\n\tat jsr166y.ForkJoinPool.runWorker(ForkJoinPool.java:1477)\n\tat jsr166y.ForkJoinWorkerThread.run(ForkJoinWorkerThread.java:104)\n",
     "output_type": "error",
     "traceback": [
      "\u001b[0;31m---------------------------------------------------------------------------\u001b[0m",
      "\u001b[0;31mOSError\u001b[0m                                   Traceback (most recent call last)",
      "\u001b[0;32m<ipython-input-25-a0767d47139f>\u001b[0m in \u001b[0;36m<module>\u001b[0;34m\u001b[0m\n\u001b[0;32m----> 1\u001b[0;31m \u001b[0mpredicted_actuals\u001b[0m \u001b[0;34m=\u001b[0m \u001b[0maml\u001b[0m\u001b[0;34m.\u001b[0m\u001b[0mpredict\u001b[0m\u001b[0;34m(\u001b[0m\u001b[0mh2o\u001b[0m\u001b[0;34m.\u001b[0m\u001b[0mH2OFrame\u001b[0m\u001b[0;34m(\u001b[0m\u001b[0mpd\u001b[0m\u001b[0;34m.\u001b[0m\u001b[0mconcat\u001b[0m\u001b[0;34m(\u001b[0m\u001b[0;34m[\u001b[0m\u001b[0mX_test\u001b[0m\u001b[0;34m,\u001b[0m \u001b[0my_test\u001b[0m\u001b[0;34m]\u001b[0m\u001b[0;34m,\u001b[0m \u001b[0maxis\u001b[0m\u001b[0;34m=\u001b[0m\u001b[0;36m1\u001b[0m\u001b[0;34m)\u001b[0m\u001b[0;34m)\u001b[0m\u001b[0;34m)\u001b[0m\u001b[0;34m\u001b[0m\u001b[0;34m\u001b[0m\u001b[0m\n\u001b[0m\u001b[1;32m      2\u001b[0m \u001b[0mnp\u001b[0m\u001b[0;34m.\u001b[0m\u001b[0msqrt\u001b[0m\u001b[0;34m(\u001b[0m\u001b[0mnp\u001b[0m\u001b[0;34m.\u001b[0m\u001b[0mmean\u001b[0m\u001b[0;34m(\u001b[0m\u001b[0;34m(\u001b[0m\u001b[0mpredicted_actuals\u001b[0m\u001b[0;34m[\u001b[0m\u001b[0;34m'predict'\u001b[0m\u001b[0;34m]\u001b[0m\u001b[0;34m.\u001b[0m\u001b[0mas_data_frame\u001b[0m\u001b[0;34m(\u001b[0m\u001b[0;34m)\u001b[0m\u001b[0;34m[\u001b[0m\u001b[0;34m'predict'\u001b[0m\u001b[0;34m]\u001b[0m\u001b[0;34m.\u001b[0m\u001b[0mvalues\u001b[0m\u001b[0;34m-\u001b[0m\u001b[0my_test\u001b[0m\u001b[0;34m)\u001b[0m\u001b[0;34m**\u001b[0m\u001b[0;36m2\u001b[0m\u001b[0;34m)\u001b[0m\u001b[0;34m)\u001b[0m\u001b[0;34m\u001b[0m\u001b[0;34m\u001b[0m\u001b[0m\n",
      "\u001b[0;32m/anaconda3/lib/python3.6/site-packages/h2o/automl/autoh2o.py\u001b[0m in \u001b[0;36mpredict\u001b[0;34m(self, test_data)\u001b[0m\n\u001b[1;32m    474\u001b[0m             \u001b[0mleader\u001b[0m \u001b[0;34m=\u001b[0m \u001b[0mself\u001b[0m\u001b[0;34m.\u001b[0m\u001b[0mleader\u001b[0m\u001b[0;34m\u001b[0m\u001b[0;34m\u001b[0m\u001b[0m\n\u001b[1;32m    475\u001b[0m         \u001b[0;32mif\u001b[0m \u001b[0mleader\u001b[0m \u001b[0;32mis\u001b[0m \u001b[0;32mnot\u001b[0m \u001b[0;32mNone\u001b[0m\u001b[0;34m:\u001b[0m\u001b[0;34m\u001b[0m\u001b[0;34m\u001b[0m\u001b[0m\n\u001b[0;32m--> 476\u001b[0;31m             \u001b[0;32mreturn\u001b[0m \u001b[0mleader\u001b[0m\u001b[0;34m.\u001b[0m\u001b[0mpredict\u001b[0m\u001b[0;34m(\u001b[0m\u001b[0mtest_data\u001b[0m\u001b[0;34m)\u001b[0m\u001b[0;34m\u001b[0m\u001b[0;34m\u001b[0m\u001b[0m\n\u001b[0m\u001b[1;32m    477\u001b[0m         \u001b[0mprint\u001b[0m\u001b[0;34m(\u001b[0m\u001b[0;34m\"No model built yet...\"\u001b[0m\u001b[0;34m)\u001b[0m\u001b[0;34m\u001b[0m\u001b[0;34m\u001b[0m\u001b[0m\n\u001b[1;32m    478\u001b[0m \u001b[0;34m\u001b[0m\u001b[0m\n",
      "\u001b[0;32m/anaconda3/lib/python3.6/site-packages/h2o/model/model_base.py\u001b[0m in \u001b[0;36mpredict\u001b[0;34m(self, test_data, custom_metric, custom_metric_func)\u001b[0m\n\u001b[1;32m    229\u001b[0m         j = H2OJob(h2o.api(\"POST /4/Predictions/models/%s/frames/%s\" % (self.model_id, test_data.frame_id), data = {'custom_metric_func': custom_metric_func}),\n\u001b[1;32m    230\u001b[0m                    self._model_json[\"algo\"] + \" prediction\")\n\u001b[0;32m--> 231\u001b[0;31m         \u001b[0mj\u001b[0m\u001b[0;34m.\u001b[0m\u001b[0mpoll\u001b[0m\u001b[0;34m(\u001b[0m\u001b[0;34m)\u001b[0m\u001b[0;34m\u001b[0m\u001b[0;34m\u001b[0m\u001b[0m\n\u001b[0m\u001b[1;32m    232\u001b[0m         \u001b[0;32mreturn\u001b[0m \u001b[0mh2o\u001b[0m\u001b[0;34m.\u001b[0m\u001b[0mget_frame\u001b[0m\u001b[0;34m(\u001b[0m\u001b[0mj\u001b[0m\u001b[0;34m.\u001b[0m\u001b[0mdest_key\u001b[0m\u001b[0;34m)\u001b[0m\u001b[0;34m\u001b[0m\u001b[0;34m\u001b[0m\u001b[0m\n\u001b[1;32m    233\u001b[0m \u001b[0;34m\u001b[0m\u001b[0m\n",
      "\u001b[0;32m/anaconda3/lib/python3.6/site-packages/h2o/job.py\u001b[0m in \u001b[0;36mpoll\u001b[0;34m(self, poll_updates)\u001b[0m\n\u001b[1;32m     76\u001b[0m             \u001b[0;32mif\u001b[0m \u001b[0;34m(\u001b[0m\u001b[0misinstance\u001b[0m\u001b[0;34m(\u001b[0m\u001b[0mself\u001b[0m\u001b[0;34m.\u001b[0m\u001b[0mjob\u001b[0m\u001b[0;34m,\u001b[0m \u001b[0mdict\u001b[0m\u001b[0;34m)\u001b[0m\u001b[0;34m)\u001b[0m \u001b[0;32mand\u001b[0m \u001b[0;34m(\u001b[0m\u001b[0;34m\"stacktrace\"\u001b[0m \u001b[0;32min\u001b[0m \u001b[0mlist\u001b[0m\u001b[0;34m(\u001b[0m\u001b[0mself\u001b[0m\u001b[0;34m.\u001b[0m\u001b[0mjob\u001b[0m\u001b[0;34m)\u001b[0m\u001b[0;34m)\u001b[0m\u001b[0;34m:\u001b[0m\u001b[0;34m\u001b[0m\u001b[0;34m\u001b[0m\u001b[0m\n\u001b[1;32m     77\u001b[0m                 raise EnvironmentError(\"Job with key {} failed with an exception: {}\\nstacktrace: \"\n\u001b[0;32m---> 78\u001b[0;31m                                        \"\\n{}\".format(self.job_key, self.exception, self.job[\"stacktrace\"]))\n\u001b[0m\u001b[1;32m     79\u001b[0m             \u001b[0;32melse\u001b[0m\u001b[0;34m:\u001b[0m\u001b[0;34m\u001b[0m\u001b[0;34m\u001b[0m\u001b[0m\n\u001b[1;32m     80\u001b[0m                 \u001b[0;32mraise\u001b[0m \u001b[0mEnvironmentError\u001b[0m\u001b[0;34m(\u001b[0m\u001b[0;34m\"Job with key %s failed with an exception: %s\"\u001b[0m \u001b[0;34m%\u001b[0m \u001b[0;34m(\u001b[0m\u001b[0mself\u001b[0m\u001b[0;34m.\u001b[0m\u001b[0mjob_key\u001b[0m\u001b[0;34m,\u001b[0m \u001b[0mself\u001b[0m\u001b[0;34m.\u001b[0m\u001b[0mexception\u001b[0m\u001b[0;34m)\u001b[0m\u001b[0;34m)\u001b[0m\u001b[0;34m\u001b[0m\u001b[0;34m\u001b[0m\u001b[0m\n",
      "\u001b[0;31mOSError\u001b[0m: Job with key $03017f00000132d4ffffffff$_b427504258532b016e5e996da211410f failed with an exception: java.lang.IllegalArgumentException: Test/Validation dataset has a non-categorical column 'Business Area Name_Dept of Neighborhoods (DON)' which is categorical in the training data\nstacktrace: \njava.lang.IllegalArgumentException: Test/Validation dataset has a non-categorical column 'Business Area Name_Dept of Neighborhoods (DON)' which is categorical in the training data\n\tat hex.Model.adaptTestForTrain(Model.java:1306)\n\tat hex.Model.adaptTestForTrain(Model.java:1164)\n\tat hex.Model.score(Model.java:1442)\n\tat water.api.ModelMetricsHandler$1.compute2(ModelMetricsHandler.java:381)\n\tat water.H2O$H2OCountedCompleter.compute(H2O.java:1417)\n\tat jsr166y.CountedCompleter.exec(CountedCompleter.java:468)\n\tat jsr166y.ForkJoinTask.doExec(ForkJoinTask.java:263)\n\tat jsr166y.ForkJoinPool$WorkQueue.runTask(ForkJoinPool.java:974)\n\tat jsr166y.ForkJoinPool.runWorker(ForkJoinPool.java:1477)\n\tat jsr166y.ForkJoinWorkerThread.run(ForkJoinWorkerThread.java:104)\n"
     ]
    }
   ],
   "source": [
    "predicted_actuals = aml.predict(h2o.H2OFrame(pd.concat([X_test, y_test], axis=1)))\n",
    "np.sqrt(np.mean((predicted_actuals['predict'].as_data_frame()['predict'].values-y_test)**2))\n"
   ]
  },
  {
   "cell_type": "code",
   "execution_count": null,
   "metadata": {},
   "outputs": [],
   "source": [
    "x = np.linspace(-100000000,100000000,100000000)\n",
    "plt.figure(figsize=(12,12))\n",
    "plt.scatter(y_train, aml.predict(training_frame).as_data_frame()['predict'].values, c='red')\n",
    "plt.scatter(y_test, aml.predict(testing_frame).as_data_frame()['predict'].values, c='blue')\n",
    "#plt.scatter(train_df['voyage_duration'], train_df['eta_diff'], c='green')\n",
    "plt.plot(x,x,c='black')\n",
    "plt.xlim([-5,100000000])\n",
    "plt.ylim([-5,100000000])\n",
    "plt.xlabel('observations')\n",
    "plt.ylabel('predictions')\n"
   ]
  },
  {
   "cell_type": "code",
   "execution_count": null,
   "metadata": {},
   "outputs": [],
   "source": [
    "aml.leader"
   ]
  },
  {
   "cell_type": "code",
   "execution_count": null,
   "metadata": {},
   "outputs": [],
   "source": [
    "#2:10pm 8/30"
   ]
  },
  {
   "cell_type": "code",
   "execution_count": null,
   "metadata": {},
   "outputs": [],
   "source": [
    "h2o.cluster().shutdown()"
   ]
  },
  {
   "cell_type": "code",
   "execution_count": null,
   "metadata": {},
   "outputs": [],
   "source": []
  },
  {
   "cell_type": "code",
   "execution_count": null,
   "metadata": {},
   "outputs": [],
   "source": []
  },
  {
   "cell_type": "code",
   "execution_count": null,
   "metadata": {},
   "outputs": [],
   "source": [
    "a = np.random.random(50)\n",
    "print(a)\n",
    "print(a[::3])"
   ]
  },
  {
   "cell_type": "code",
   "execution_count": null,
   "metadata": {},
   "outputs": [],
   "source": [
    "df['OA_Difference'].describe()"
   ]
  },
  {
   "cell_type": "code",
   "execution_count": null,
   "metadata": {},
   "outputs": [],
   "source": [
    "sns.distplot(a)"
   ]
  },
  {
   "cell_type": "code",
   "execution_count": null,
   "metadata": {},
   "outputs": [],
   "source": [
    "df['OA_Difference'].shape"
   ]
  },
  {
   "cell_type": "code",
   "execution_count": null,
   "metadata": {},
   "outputs": [],
   "source": [
    "len(df.loc[(df['OA_Difference']<=1.0) & (df['OA_Difference']>=-1.0)]['OA_Difference'])"
   ]
  },
  {
   "cell_type": "code",
   "execution_count": null,
   "metadata": {},
   "outputs": [],
   "source": [
    "df['OA_Difference'].value_counts()"
   ]
  },
  {
   "cell_type": "code",
   "execution_count": null,
   "metadata": {},
   "outputs": [],
   "source": [
    "OA_Diff = df['OA_Difference']"
   ]
  },
  {
   "cell_type": "code",
   "execution_count": null,
   "metadata": {},
   "outputs": [],
   "source": [
    "#Seaborn distplot of room 2170 Intro to Finance\n",
    "sns.set_style('darkgrid')\n",
    "sns.set(font_scale=2.5)\n",
    "\n",
    "fig, ax = plt.subplots(figsize=(20,15))\n",
    "sns.distplot(list(OA_Diff),bins=10, ax=ax)\n",
    "\n",
    "ax.set_xlim(-8e7,8e7)\n",
    "#ax.set(xticks=[-40000000, -20000000,0, 20000000, 40000000])\n",
    "\n",
    "# ax.set_title(\"32 Different Teachers - Intro to Financing \\n Grade Distriubtions Room 2170\")\n",
    "# ax.set_ylabel(\"Frequency\")\n",
    "# ax.set_xlabel(\"Percent A's Given\")"
   ]
  },
  {
   "cell_type": "code",
   "execution_count": null,
   "metadata": {},
   "outputs": [],
   "source": [
    "sns.distplot(list(OA_Diff))"
   ]
  },
  {
   "cell_type": "code",
   "execution_count": null,
   "metadata": {},
   "outputs": [],
   "source": [
    "df['OA_Difference'].max()"
   ]
  },
  {
   "cell_type": "code",
   "execution_count": null,
   "metadata": {},
   "outputs": [],
   "source": [
    "df['OA_Difference'].std()"
   ]
  },
  {
   "cell_type": "code",
   "execution_count": null,
   "metadata": {},
   "outputs": [],
   "source": [
    "df['OA_Difference'].min()"
   ]
  },
  {
   "cell_type": "code",
   "execution_count": null,
   "metadata": {},
   "outputs": [],
   "source": [
    "df['Original Budget'].std()"
   ]
  },
  {
   "cell_type": "code",
   "execution_count": null,
   "metadata": {},
   "outputs": [],
   "source": [
    "df['Original Budget'].min()"
   ]
  },
  {
   "cell_type": "code",
   "execution_count": null,
   "metadata": {},
   "outputs": [],
   "source": [
    "df.loc[df['Original Budget']==df['Original Budget'].min()]"
   ]
  },
  {
   "cell_type": "code",
   "execution_count": null,
   "metadata": {},
   "outputs": [],
   "source": [
    "(df.loc[df['Original Budget']>0]['OA_Difference'].values).std()"
   ]
  },
  {
   "cell_type": "code",
   "execution_count": null,
   "metadata": {},
   "outputs": [],
   "source": [
    "original_df = df.copy(deep=True)"
   ]
  },
  {
   "cell_type": "code",
   "execution_count": null,
   "metadata": {},
   "outputs": [],
   "source": [
    "df = df.loc[df['Original Budget']>0]"
   ]
  },
  {
   "cell_type": "code",
   "execution_count": null,
   "metadata": {},
   "outputs": [],
   "source": [
    "#plt.hist(df['OA_Difference'].values)"
   ]
  },
  {
   "cell_type": "code",
   "execution_count": null,
   "metadata": {},
   "outputs": [],
   "source": [
    "%%capture --no-display\n",
    "pandas_profiling.ProfileReport(df)"
   ]
  },
  {
   "cell_type": "code",
   "execution_count": null,
   "metadata": {},
   "outputs": [],
   "source": [
    "plt.hist(df['OA_Difference'].values)"
   ]
  },
  {
   "cell_type": "code",
   "execution_count": null,
   "metadata": {},
   "outputs": [],
   "source": []
  }
 ],
 "metadata": {
  "kernelspec": {
   "display_name": "Python 3",
   "language": "python",
   "name": "python3"
  },
  "language_info": {
   "codemirror_mode": {
    "name": "ipython",
    "version": 3
   },
   "file_extension": ".py",
   "mimetype": "text/x-python",
   "name": "python",
   "nbconvert_exporter": "python",
   "pygments_lexer": "ipython3",
   "version": "3.6.8"
  }
 },
 "nbformat": 4,
 "nbformat_minor": 2
}

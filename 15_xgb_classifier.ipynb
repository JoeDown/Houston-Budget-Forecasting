{
 "cells": [
  {
   "cell_type": "code",
   "execution_count": 16,
   "metadata": {},
   "outputs": [
    {
     "name": "stdout",
     "output_type": "stream",
     "text": [
      "The autoreload extension is already loaded. To reload it, use:\n",
      "  %reload_ext autoreload\n"
     ]
    }
   ],
   "source": [
    "import pandas as pd\n",
    "import numpy as np\n",
    "import matplotlib.pyplot as plt\n",
    "import seaborn as sns\n",
    "import pandas_profiling\n",
    "import datetime\n",
    "from IPython.display import clear_output\n",
    "from datetime import timedelta\n",
    "from scipy.stats import skewnorm\n",
    "import inspect, re\n",
    "import h2o\n",
    "from h2o.automl import H2OAutoML\n",
    "import xgboost as xgb\n",
    "import random\n",
    "import gc\n",
    "from sklearn.model_selection import train_test_split\n",
    "from sklearn import  metrics\n",
    "               \n",
    "%load_ext autoreload\n",
    "%autoreload 2\n",
    "%matplotlib inline\n",
    "plt.style.use('ggplot')\n",
    "\n",
    "pd.set_option('display.max_rows', None)\n",
    "pd.set_option('display.max_columns', None)\n",
    "\n"
   ]
  },
  {
   "cell_type": "code",
   "execution_count": 18,
   "metadata": {},
   "outputs": [],
   "source": [
    "fy_10 = pd.read_csv('fy_10_augmented.csv')\n",
    "fy_11 = pd.read_csv('fy_11_augmented.csv')\n",
    "fy_12 = pd.read_csv('fy_12_augmented.csv')\n",
    "fy_13 = pd.read_csv('fy_13_augmented.csv')\n",
    "fy_14 = pd.read_csv('fy_14_augmented.csv')\n",
    "fy_15 = pd.read_csv('fy_15_augmented.csv')\n",
    "fy_16 = pd.read_csv('fy_16_augmented.csv')\n",
    "\n",
    "fy_list = [fy_10, fy_11, fy_12, fy_13, fy_14, fy_15, fy_16]\n",
    "\n",
    "del fy_10\n",
    "del fy_11\n",
    "del fy_12\n",
    "del fy_13\n",
    "del fy_14\n",
    "del fy_15\n",
    "del fy_16\n",
    "gc.collect()\n",
    "\n",
    "essentials = ['Unnamed: 0',\n",
    " 'Fund Id',\n",
    " 'Business Area',\n",
    " 'Fund Center Id',\n",
    " 'GL Account',\n",
    " 'GL Description',\n",
    " 'GL Category',\n",
    " 'GL Category Description',\n",
    " 'Revenue or Expenditure',\n",
    " 'Fiscal Year',\n",
    " 'Fund Name',\n",
    " 'Fund Type Descr',\n",
    " 'Business Area Name',\n",
    " 'Fund Center Name',\n",
    " 'Commitment Set Description',\n",
    " 'Original Budget',\n",
    " 'Current Budget',\n",
    " 'Actuals',\n",
    " '3Y_Past_Actuals',\n",
    " '2Y_Past_Actuals',\n",
    " '1Y_Past_Actuals',\n",
    " '2Y_1Y_Actuals_Mean',\n",
    " '3Y_2Y_1Y_Actuals_Mean',\n",
    " '3Y_Past_Original_Budget',\n",
    " '2Y_Past_Original_Budget',\n",
    " '1Y_Past_Original_Budget',\n",
    " '2Y_1Y_Original_Budget_Mean',\n",
    " '3Y_2Y_1Y_Original_Budget_Mean',\n",
    " '3Y_Past_OA_Difference',\n",
    " '2Y_Past_OA_Difference',\n",
    " '1Y_Past_OA_Difference',\n",
    " '2Y_1Y_OA_Difference_Mean',\n",
    " '3Y_2Y_1Y_OA_Difference_Mean',\n",
    " 'OA_Difference',\n",
    " 'Yearly Crime Index',\n",
    " 'Yearly Avg High Temp',\n",
    " 'Yearly Avg Low Temp',\n",
    " 'Yearly Rain Fall',\n",
    " 'Astros Playoff Rounds',\n",
    " 'Astros Yearly Attendance',\n",
    " 'Rockets Playoff Rounds',\n",
    " 'Texans Playoff Rounds',\n",
    " 'Texans Average Attendance',\n",
    " 'Rockets Total Attendance']\n",
    "\n",
    "dummies = ['Fund Name_Asset Forfeiture Fund - Justice',\n",
    " 'Fund Name_Asset Forfeiture Fund - State',\n",
    " 'Fund Name_Auto Dealers Fund',\n",
    " 'Fund Name_Building Inspection Fund',\n",
    " 'Fund Name_C&E-Civic Center Facility Revenue Fund',\n",
    " 'Fund Name_Cable Television Fund',\n",
    " 'Fund Name_Child Safety Fund',\n",
    " 'Fund Name_Digital Houston Special Revenue',\n",
    " 'Fund Name_Expansion of Recycling Program',\n",
    " 'Fund Name_Fleet Management Fund',\n",
    " 'Fund Name_GSD - In-House Renovation Revolving Fund',\n",
    " 'Fund Name_General Fund',\n",
    " 'Fund Name_Greater Houston Trans & Emer Center',\n",
    " 'Fund Name_HAS-Revenue Fund',\n",
    " 'Fund Name_Health Benefits Fund',\n",
    " 'Fund Name_Historic Preservation Fund',\n",
    " 'Fund Name_Houston Emergeny Center',\n",
    " 'Fund Name_Long-Term Disablility Plan Fund',\n",
    " 'Fund Name_Municipal Court Technology Fund',\n",
    " 'Fund Name_PWE-Combined Utility System Gen Pur Fund',\n",
    " 'Fund Name_PWE-Combined Utility System Oper Fund',\n",
    " 'Fund Name_PWE-W & S System Operating Fund',\n",
    " 'Fund Name_Park Special Revenue Fund',\n",
    " 'Fund Name_Parking Mangement Operating Fund',\n",
    " 'Fund Name_Police Special Services',\n",
    " 'Fund Name_Project Cost Recovery',\n",
    " 'Fund Name_Property & Casualty Fund',\n",
    " 'Fund Name_Stormwater Fund',\n",
    " 'Fund Name_Supplemental Environmental Proj',\n",
    " 'Fund Name_Workers Compensation Admin Fund',\n",
    " 'Fund Type Descr_Enterprise Funds',\n",
    " 'Fund Type Descr_General Funds',\n",
    " 'Fund Type Descr_Internal Services Funds',\n",
    " 'Fund Type Descr_Special Revenue Funds',\n",
    " 'Business Area Name_Admn. & Regulatory Affairs',\n",
    " 'Business Area Name_Business Opportunity',\n",
    " \"Business Area Name_City Controller's Office\",\n",
    " 'Business Area Name_City Council',\n",
    " 'Business Area Name_City Secretary',\n",
    " 'Business Area Name_Citywide General Government',\n",
    " 'Business Area Name_Convention and Entertainment',\n",
    " 'Business Area Name_Finance',\n",
    " 'Business Area Name_General Debt Services',\n",
    " 'Business Area Name_General Services Department',\n",
    " 'Business Area Name_Health & Human Services',\n",
    " 'Business Area Name_Housing and Community Devp.',\n",
    " 'Business Area Name_Houston Airport System (HAS)',\n",
    " 'Business Area Name_Houston Emergency Center (HEC)',\n",
    " 'Business Area Name_Houston Fire Department (HFD)',\n",
    " 'Business Area Name_Houston Police Department',\n",
    " 'Business Area Name_Human Resources Dept.',\n",
    " 'Business Area Name_Information Technology (IT)',\n",
    " 'Business Area Name_Legal Department',\n",
    " 'Business Area Name_Library',\n",
    " \"Business Area Name_Mayor's Office\",\n",
    " 'Business Area Name_Municipal Court Judicial',\n",
    " 'Business Area Name_Municipal Courts Department',\n",
    " 'Business Area Name_Parks & Recreation',\n",
    " 'Business Area Name_Planning & Development',\n",
    " 'Business Area Name_Public Works & Engineering-PWE',\n",
    " 'Business Area Name_Solid Waste Management',\n",
    " 'Commitment Set Description_50 - Total Expenditures',\n",
    " 'Business Area Name_Houston Police Department-HPD',\n",
    " 'Business Area Name_Houston Information Tech Svcs'\n",
    "]\n",
    "\n",
    "drop_list = [\n",
    "    \n",
    "    'Fund Name', \n",
    "    'Fund Type Descr', \n",
    "    'Business Area Name',\n",
    "    'Commitment Set Description',\n",
    "    'GL Description',\n",
    "    'GL Category Description',\n",
    "    'Revenue or Expenditure',\n",
    "    'Fund Type Descr',\n",
    "    'Fund Center Name'\n",
    "]\n",
    "\n",
    "\n",
    "for i, y in enumerate(fy_list):\n",
    "    fy_list[i] = pd.concat([y[essentials], y[dummies]], axis=1)\n",
    "    fy_list[i]['Over_Budget'] = fy_list[i]['OA_Difference']>0\n",
    "    \n",
    "for i, y in enumerate(fy_list):\n",
    "    if i==0:\n",
    "        fy_list[i][\"1YP_OA_Diff_Over_80K\"]=999999999999999\n",
    "    else:\n",
    "        fy_list[i][\"1YP_OA_Diff_Over_80K\"]=0\n",
    "        over80k_index = fy_list[i].loc[(fy_list[i]['1Y_Past_OA_Difference'].apply(lambda x: abs(x))>80000.0)].index\n",
    "        fy_list[i].loc[over80k_index, '1YP_OA_Diff_Over_80K'] = 1\n",
    "        \n",
    "\n",
    "        \n",
    "        \n",
    "splits_to_try = [\n",
    "                 [(0,3),(3,4),'10-12 to predict 13'],\n",
    "                 [(0,3),(3,5),'10-12 to predict 13 and 14'],\n",
    "                 [(1,4),(4,5),'11-13 to predict 14'], \n",
    "                 [(1,4),(4,6),'11-13 to predict 14 and 15'],\n",
    "                 [(2,5),(5,6),'12-14 to predict 15'],\n",
    "                 [(2,5),(5,7),'12-14 to predict 15 and 16'],\n",
    "                 [(3,6),(6,7),'13-15 to predict 16'], \n",
    "                 [(0,4),(5,6),'10-13 to predict 14'],\n",
    "                 [(0,4),(4,6),'10-13 to predict 14 and 15'],\n",
    "                 [(0,4),(4,7),'10-13 to predict 14 and 15 and 16'],\n",
    "                 [(1,5),(5,6),'11-14 to predict 15'],\n",
    "                 [(1,5),(5,7),'11-14 to predict 15 and 16'],\n",
    "                 [(2,6),(6,7),'12-15 to predict 16']\n",
    "                ]\n",
    "        \n",
    "        "
   ]
  },
  {
   "cell_type": "code",
   "execution_count": null,
   "metadata": {},
   "outputs": [],
   "source": [
    "hold_list = []\n",
    "for split in splits_to_try:\n",
    "    \n",
    "    hold_dict = {}\n",
    "    \n",
    "    X_train = pd.concat([x for x in fy_list[split[0][0]:split[0][1]]])\n",
    "    y_train = X_train['Actuals']\n",
    "    X_train.drop(['OA_Difference','Actuals','Current Budget'] + drop_list, axis=1, inplace=True)\n",
    "    X_test = pd.concat([x for x in fy_list[split[1][0]:split[1][1]]])\n",
    "    y_test = X_test['Actuals']\n",
    "    y_original_budget = X_test['Original Budget']\n",
    "    X_test.drop(['OA_Difference','Actuals','Current Budget'] + drop_list, axis=1, inplace=True)\n",
    "\n",
    "    model = xgb.XGBRFClassifier(subsample= 0.8, min_child_weight= 1, max_depth= 4, gamma= 1, colsample_bytree= 1.0)\n",
    "    model.fit(X_train,y_train)\n",
    "\n",
    "    xgb_test_predictions = model.predict(X_test)\n",
    "    xgb_train_predictions = model.predict(X_train)\n",
    "\n",
    "    model_test_auc = metrics.roc(y_test, xgb_test_predictions)\n",
    "    model_train_auc = metrics.roc(y_train, xgb_train_predictions)\n",
    "    original_budget_auc = metrics.roc(y_test, y_original_budget)\n",
    "    \n",
    "    hold_dict.update({'split': split[2]})\n",
    "    hold_dict.update({'model_test_auc': model_test_auc})\n",
    "    hold_dict.update({'model_train_auc': model_train_auc})\n",
    "    hold_dict.update({'original_budget_auc': original_budget_auc})\n",
    "    \n",
    "    \n",
    "    hold_list.append(hold_dict)\n",
    "    \n",
    "   \n",
    "\n",
    "\n"
   ]
  },
  {
   "cell_type": "code",
   "execution_count": null,
   "metadata": {},
   "outputs": [],
   "source": [
    "results_df = pd.DataFrame(hold_list)\n",
    "results_df['Model Improvement'] = results_df['model_test_auc']-results_df['original_budget_auc']\n",
    "results_df\n"
   ]
  },
  {
   "cell_type": "code",
   "execution_count": null,
   "metadata": {},
   "outputs": [],
   "source": [
    "results_df.loc[[0,2,4,6,7,10]]['Model Improvement']"
   ]
  },
  {
   "cell_type": "code",
   "execution_count": null,
   "metadata": {},
   "outputs": [],
   "source": []
  },
  {
   "cell_type": "code",
   "execution_count": null,
   "metadata": {},
   "outputs": [],
   "source": [
    "hold_list = []\n",
    "for split in splits_to_try:\n",
    "    \n",
    "    hold_dict = {}\n",
    "    \n",
    "    X_train = pd.concat([x for x in fy_list[split[0][0]:split[0][1]]])\n",
    "    y_train = X_train['Actuals']\n",
    "    X_train.drop(['OA_Difference','Actuals','Current Budget'] + drop_list, axis=1, inplace=True)\n",
    "    X_test = pd.concat([x for x in fy_list[split[1][0]:split[1][1]]])\n",
    "    y_test = X_test['Actuals']\n",
    "    y_original_budget = X_test['Original Budget']\n",
    "    X_test.drop(['OA_Difference','Actuals','Current Budget'] + drop_list, axis=1, inplace=True)\n",
    "\n",
    "    model = xgb.XGBClassifier(subsample= 0.8, min_child_weight= 1, max_depth= 4, gamma= 1, colsample_bytree= 1.0)\n",
    "    model.fit(X_train,y_train)\n",
    "\n",
    "    xgb_test_predictions = model.predict(X_test)\n",
    "    xgb_train_predictions = model.predict(X_train)\n",
    "\n",
    "    model_test_auc = metrics.roc(y_test, xgb_test_predictions)\n",
    "    model_train_auc = metrics.roc(y_train, xgb_train_predictions)\n",
    "    original_budget_auc = metrics.roc(y_test, y_original_budget)\n",
    "    \n",
    "    hold_dict.update({'split': split[2]})\n",
    "    hold_dict.update({'model_test_auc': model_test_auc})\n",
    "    hold_dict.update({'model_train_auc': model_train_auc})\n",
    "    hold_dict.update({'original_budget_auc': original_budget_auc})\n",
    "    \n",
    "    \n",
    "    hold_list.append(hold_dict)\n",
    "    \n",
    "   \n",
    "\n",
    "\n"
   ]
  },
  {
   "cell_type": "code",
   "execution_count": null,
   "metadata": {},
   "outputs": [],
   "source": [
    "results_df = pd.DataFrame(hold_list)\n",
    "results_df['Model Improvement'] = results_df['model_test_auc']-results_df['original_budget_auc']\n",
    "results_df\n"
   ]
  },
  {
   "cell_type": "code",
   "execution_count": null,
   "metadata": {},
   "outputs": [],
   "source": [
    "results_df.loc[[0,2,4,6,7,10]]['Model Improvement']\n"
   ]
  },
  {
   "cell_type": "code",
   "execution_count": null,
   "metadata": {},
   "outputs": [],
   "source": []
  },
  {
   "cell_type": "code",
   "execution_count": null,
   "metadata": {},
   "outputs": [],
   "source": []
  },
  {
   "cell_type": "code",
   "execution_count": null,
   "metadata": {},
   "outputs": [],
   "source": []
  },
  {
   "cell_type": "code",
   "execution_count": 129,
   "metadata": {},
   "outputs": [
    {
     "data": {
      "text/html": [
       "<div>\n",
       "<style scoped>\n",
       "    .dataframe tbody tr th:only-of-type {\n",
       "        vertical-align: middle;\n",
       "    }\n",
       "\n",
       "    .dataframe tbody tr th {\n",
       "        vertical-align: top;\n",
       "    }\n",
       "\n",
       "    .dataframe thead th {\n",
       "        text-align: right;\n",
       "    }\n",
       "</style>\n",
       "<table border=\"1\" class=\"dataframe\">\n",
       "  <thead>\n",
       "    <tr style=\"text-align: right;\">\n",
       "      <th></th>\n",
       "      <th>model_test_RMSE</th>\n",
       "      <th>model_train_RMSE</th>\n",
       "      <th>original_budget_RMSE</th>\n",
       "    </tr>\n",
       "  </thead>\n",
       "  <tbody>\n",
       "    <tr>\n",
       "      <th>0</th>\n",
       "      <td>439127.123743</td>\n",
       "      <td>251443.840946</td>\n",
       "      <td>573679.154344</td>\n",
       "    </tr>\n",
       "    <tr>\n",
       "      <th>1</th>\n",
       "      <td>548996.930085</td>\n",
       "      <td>293378.015533</td>\n",
       "      <td>808664.924708</td>\n",
       "    </tr>\n",
       "    <tr>\n",
       "      <th>2</th>\n",
       "      <td>391419.495231</td>\n",
       "      <td>289915.446537</td>\n",
       "      <td>549885.577426</td>\n",
       "    </tr>\n",
       "  </tbody>\n",
       "</table>\n",
       "</div>"
      ],
      "text/plain": [
       "   model_test_RMSE  model_train_RMSE  original_budget_RMSE\n",
       "0    439127.123743     251443.840946         573679.154344\n",
       "1    548996.930085     293378.015533         808664.924708\n",
       "2    391419.495231     289915.446537         549885.577426"
      ]
     },
     "execution_count": 129,
     "metadata": {},
     "output_type": "execute_result"
    }
   ],
   "source": [
    "results_df = pd.DataFrame(hold_list)\n",
    "results_df"
   ]
  },
  {
   "cell_type": "code",
   "execution_count": 101,
   "metadata": {},
   "outputs": [
    {
     "data": {
      "text/plain": [
       "dict_keys(['model', 'xgb_test_predictions', 'xgb_train_predictions', 'model_RMSE', 'original_budget_RMSE'])"
      ]
     },
     "execution_count": 101,
     "metadata": {},
     "output_type": "execute_result"
    }
   ],
   "source": [
    "hold_dict.keys()"
   ]
  },
  {
   "cell_type": "code",
   "execution_count": 86,
   "metadata": {},
   "outputs": [
    {
     "data": {
      "text/plain": [
       "502290.7952341024"
      ]
     },
     "execution_count": 86,
     "metadata": {},
     "output_type": "execute_result"
    }
   ],
   "source": [
    "len(res)"
   ]
  },
  {
   "cell_type": "code",
   "execution_count": 87,
   "metadata": {},
   "outputs": [
    {
     "data": {
      "text/plain": [
       "1337609774.0442579"
      ]
     },
     "execution_count": 87,
     "metadata": {},
     "output_type": "execute_result"
    }
   ],
   "source": [
    "model_sum_error = np.sum(abs(xgb_test_predictions-y_test))\n",
    "model_sum_error"
   ]
  },
  {
   "cell_type": "code",
   "execution_count": 88,
   "metadata": {},
   "outputs": [
    {
     "data": {
      "text/plain": [
       "1154587673.21"
      ]
     },
     "execution_count": 88,
     "metadata": {},
     "output_type": "execute_result"
    }
   ],
   "source": [
    "budget_sum_error = np.sum(abs(y_original_budget-y_test))\n",
    "budget_sum_error"
   ]
  },
  {
   "cell_type": "markdown",
   "metadata": {},
   "source": [
    "### Model precision over budget"
   ]
  },
  {
   "cell_type": "code",
   "execution_count": 89,
   "metadata": {},
   "outputs": [
    {
     "name": "stdout",
     "output_type": "stream",
     "text": [
      "$ -183022100.83\n"
     ]
    }
   ],
   "source": [
    "print('$',round(budget_sum_error-model_sum_error,2))"
   ]
  },
  {
   "cell_type": "code",
   "execution_count": 90,
   "metadata": {},
   "outputs": [
    {
     "data": {
      "text/plain": [
       "592194.454153469"
      ]
     },
     "execution_count": 90,
     "metadata": {},
     "output_type": "execute_result"
    }
   ],
   "source": []
  },
  {
   "cell_type": "code",
   "execution_count": 91,
   "metadata": {},
   "outputs": [
    {
     "data": {
      "text/plain": [
       "6244039.420088603"
      ]
     },
     "execution_count": 91,
     "metadata": {},
     "output_type": "execute_result"
    }
   ],
   "source": [
    "y_test.std()"
   ]
  },
  {
   "cell_type": "code",
   "execution_count": null,
   "metadata": {},
   "outputs": [],
   "source": []
  },
  {
   "cell_type": "code",
   "execution_count": null,
   "metadata": {},
   "outputs": [],
   "source": [
    "sns.set_style('whitegrid')\n",
    "\n",
    "x = np.linspace(-1000000000,1000000000,1000000000)\n",
    "plt.figure(figsize=(12,12))\n",
    "plt.scatter(y_train, xgb_train_predictions, c='red', alpha=.95)\n",
    "plt.scatter(y_test, xgb_test_predictions, c='blue', alpha=.95)\n",
    "plt.scatter(y_test, y_original_budget, c='green', alpha=.95)\n",
    "plt.plot(x,x,c='black')\n",
    "plt.xlim([-5,1000000000])\n",
    "plt.ylim([-5,1000000000])\n",
    "plt.xlabel('observations')\n",
    "plt.ylabel('predictions')\n"
   ]
  },
  {
   "cell_type": "code",
   "execution_count": 130,
   "metadata": {},
   "outputs": [
    {
     "data": {
      "text/plain": [
       "Original Budget                                    263\n",
       "1Y_Past_Actuals                                     56\n",
       "1Y_Past_OA_Difference                               41\n",
       "Fiscal Year                                         32\n",
       "3Y_Past_OA_Difference                               28\n",
       "2Y_Past_Actuals                                     28\n",
       "Unnamed: 0                                          28\n",
       "GL Account                                          12\n",
       "3Y_Past_Actuals                                     11\n",
       "3Y_2Y_1Y_OA_Difference_Mean                          8\n",
       "2Y_Past_OA_Difference                                7\n",
       "Fund Name_PWE-Combined Utility System Oper Fund      5\n",
       "2Y_1Y_Original_Budget_Mean                           5\n",
       "2Y_1Y_OA_Difference_Mean                             4\n",
       "1Y_Past_Original_Budget                              4\n",
       "Fund Name_Property & Casualty Fund                   4\n",
       "3Y_2Y_1Y_Actuals_Mean                                3\n",
       "Rockets Total Attendance                             1\n",
       "Yearly Avg Low Temp                                  1\n",
       "2Y_1Y_Actuals_Mean                                   1\n",
       "Fund Id                                              1\n",
       "Yearly Avg High Temp                                 1\n",
       "Name: 0, dtype: int64"
      ]
     },
     "execution_count": 130,
     "metadata": {},
     "output_type": "execute_result"
    }
   ],
   "source": [
    "weight_dict = model.get_booster().get_score(importance_type=\"weight\")\n",
    "weight_df = pd.DataFrame(weight_dict, index=range(len(weight_dict)))\n",
    "weight_df.T[0].sort_values(ascending=False)"
   ]
  },
  {
   "cell_type": "code",
   "execution_count": null,
   "metadata": {},
   "outputs": [],
   "source": [
    "from sklearn.metrics import r2_score\n",
    "r2_score(y_test , xgb_test_predictions)"
   ]
  },
  {
   "cell_type": "code",
   "execution_count": null,
   "metadata": {},
   "outputs": [],
   "source": [
    "\n",
    "sns.set_style('darkgrid')\n",
    "sns.set(font_scale=2.5)\n",
    "bins = np.arange(0,90000,90000/50)\n",
    " \n",
    "fig, ax = plt.subplots(figsize=(20,15))\n",
    "\n",
    "sns.distplot(y_test, label='2015 Actuals',color='green', norm_hist=True, bins=bins, kde=False,  ax = ax)\n",
    "sns.distplot(xgb_test_predictions, label='XGB_test_predictions 2015',color='black', norm_hist=True, bins=bins, kde=True,  ax = ax)\n",
    "sns.distplot(y_original_budget, label='2015_original_budget',color='blue',norm_hist=True, bins=bins, kde=True,  ax = ax)\n",
    "    \n",
    "ax.set_title(\" \")\n",
    "ax.set_ylabel(\" \")\n",
    "ax.set_xlabel(\" \")\n",
    "ax.set_xlim(0,90000)\n",
    "ax.legend()"
   ]
  },
  {
   "cell_type": "code",
   "execution_count": null,
   "metadata": {},
   "outputs": [],
   "source": [
    "original_budget_residuals = fy_15['Original Budget']-fy_15['Actuals']\n",
    "model_residuals = xgb_test_predictions-y_test\n",
    "hold_df = pd.DataFrame()\n",
    "hold_df['Original Budget Residuals'] = original_budget_residuals\n",
    "hold_df['Model Residuals'] = model_residuals\n"
   ]
  },
  {
   "cell_type": "code",
   "execution_count": null,
   "metadata": {},
   "outputs": [],
   "source": [
    "np.sqrt(np.mean(model_residuals**2))"
   ]
  },
  {
   "cell_type": "code",
   "execution_count": null,
   "metadata": {},
   "outputs": [],
   "source": [
    "np.sqrt(np.mean(original_budget_residuals**2))"
   ]
  },
  {
   "cell_type": "code",
   "execution_count": null,
   "metadata": {},
   "outputs": [],
   "source": [
    "model_residuals_series = pd.Series(model_residuals)"
   ]
  },
  {
   "cell_type": "code",
   "execution_count": null,
   "metadata": {},
   "outputs": [],
   "source": [
    "original_budget_residuals_series =pd.Series(original_budget_residuals)"
   ]
  },
  {
   "cell_type": "code",
   "execution_count": null,
   "metadata": {},
   "outputs": [],
   "source": [
    "residuals_df = pd.DataFrame()\n",
    "residuals_df['Model_Residuals'] = model_residuals_series\n",
    "residuals_df['Original_Budget_Residuals'] = original_budget_residuals_series\n",
    "\n",
    "extreme_residuals = residuals_df.loc[(residuals_df['Model_Residuals']>=80000) | (residuals_df['Model_Residuals']<=-80000) | (residuals_df['Original_Budget_Residuals']>=80000) | (residuals_df['Original_Budget_Residuals']<=-80000) ] \n",
    "residuals_under_80K = residuals_df.loc[(residuals_df['Model_Residuals']<80000) & (residuals_df['Model_Residuals']>-80000) & (residuals_df['Original_Budget_Residuals']<=80000) & (residuals_df['Original_Budget_Residuals']>=-80000) ] \n"
   ]
  },
  {
   "cell_type": "code",
   "execution_count": null,
   "metadata": {},
   "outputs": [],
   "source": [
    "print('Model Extreme Resisduals:           ',int(np.sqrt(np.mean(extreme_residuals['Model_Residuals']**2))), '\\nOriginal Budget Extreme Resisduals: ',  int(np.sqrt(np.mean(extreme_residuals['Original_Budget_Residuals']**2))))\n",
    "print(' ')\n",
    "print('Model Under 80K Resisduals:           ',int(np.sqrt(np.mean(residuals_under_80K['Model_Residuals']**2))), '\\nOriginal Budget Under 80K Resisduals: ',  int(np.sqrt(np.mean(residuals_under_80K['Original_Budget_Residuals']**2))))\n"
   ]
  },
  {
   "cell_type": "code",
   "execution_count": null,
   "metadata": {},
   "outputs": [],
   "source": []
  },
  {
   "cell_type": "code",
   "execution_count": null,
   "metadata": {},
   "outputs": [],
   "source": [
    "sns.set_style('darkgrid')\n",
    "sns.set(font_scale=2.5)\n",
    " \n",
    "fig, ax = plt.subplots(figsize=(20,15))\n",
    "bins_ = np.arange(-80000,80000,80000/50)\n",
    "\n",
    "sns.distplot(model_residuals, label='Model Residuals', norm_hist=True, bins = bins_, color='green',   ax = ax)\n",
    "sns.distplot(original_budget_residuals, label='Original Budget Residuals',bins=bins_, color='black',  ax = ax)\n",
    "    \n",
    "ax.set_title(\" \")\n",
    "ax.set_ylabel(\" \")\n",
    "ax.set_xlabel(\" \")\n",
    "ax.set_xlim(-80000,80000)\n",
    "ax.legend()"
   ]
  },
  {
   "cell_type": "code",
   "execution_count": 131,
   "metadata": {},
   "outputs": [],
   "source": [
    "#reference: https://www.kaggle.com/tilii7/hyperparameter-grid-search-with-xgboost\n",
    "\n",
    "import warnings\n",
    "warnings.filterwarnings('ignore')\n",
    "import numpy as np\n",
    "import pandas as pd\n",
    "from datetime import datetime\n",
    "from sklearn.model_selection import RandomizedSearchCV, GridSearchCV\n",
    "from sklearn.metrics import roc_auc_score\n",
    "from sklearn.model_selection import StratifiedKFold\n",
    "from xgboost import XGBClassifier"
   ]
  },
  {
   "cell_type": "code",
   "execution_count": 150,
   "metadata": {},
   "outputs": [],
   "source": [
    "def timer(start_time=None):\n",
    "    if not start_time:\n",
    "        start_time = datetime.now()\n",
    "        return start_time\n",
    "    elif start_time:\n",
    "        thour, temp_sec = divmod((datetime.now() - start_time).total_seconds(), 3600)\n",
    "        tmin, tsec = divmod(temp_sec, 60)\n",
    "        print('\\n Time taken: %i hours %i minutes and %s seconds.' % (thour, tmin, round(tsec, 2)))\n",
    "\n",
    "\n",
    "train_df = pd.concat([fy_list[0], fy_list[1], fy_list[2], fy_list[3], fy_list[4]])\n",
    "Y = train_df['Actuals'].values\n",
    "X = train_df.drop(['OA_Difference','Actuals','Current Budget'] + drop_list, axis=1)\n",
    "test_df = pd.concat([fy_list[5], fy_list[6]])\n",
    "test = test_df.drop(['OA_Difference','Actuals','Current Budget'] + drop_list, axis=1)\n",
    "y_test = test_df['Actuals']\n",
    "original_budget = test_df['Original Budget']"
   ]
  },
  {
   "cell_type": "code",
   "execution_count": 136,
   "metadata": {},
   "outputs": [],
   "source": [
    "# A parameter grid for XGBoost\n",
    "params = {\n",
    "        'min_child_weight': [1, 5, 10],\n",
    "        'gamma': [0.5, 1, 1.5, 2, 5],\n",
    "        'subsample': [0.6, 0.8, 1.0],\n",
    "        'colsample_bytree': [0.6, 0.8, 1.0],\n",
    "        'max_depth': [3, 4, 5]\n",
    "        }"
   ]
  },
  {
   "cell_type": "code",
   "execution_count": 137,
   "metadata": {},
   "outputs": [],
   "source": [
    "model = xgb.XGBRegressor(learning_rate=.02, n_estimators=600, silent=True, nthread=1)\n",
    "\n",
    "#xgb = XGBClassifier(learning_rate=0.02, n_estimators=600, objective='binary:logistic',\n",
    "  #                  silent=True, nthread=1)"
   ]
  },
  {
   "cell_type": "code",
   "execution_count": 139,
   "metadata": {},
   "outputs": [
    {
     "name": "stdout",
     "output_type": "stream",
     "text": [
      "Fitting 3 folds for each of 5 candidates, totalling 15 fits\n"
     ]
    },
    {
     "name": "stderr",
     "output_type": "stream",
     "text": [
      "[Parallel(n_jobs=4)]: Using backend LokyBackend with 4 concurrent workers.\n",
      "[Parallel(n_jobs=4)]: Done  15 out of  15 | elapsed:  8.2min finished\n"
     ]
    },
    {
     "name": "stdout",
     "output_type": "stream",
     "text": [
      "\n",
      " Time taken: 0 hours 10 minutes and 51.47 seconds.\n"
     ]
    }
   ],
   "source": [
    "folds = 3\n",
    "param_comb = 5\n",
    "\n",
    "#skf = StratifiedKFold(n_splits=folds, shuffle = True, random_state = 1001)\n",
    "\n",
    "random_search = RandomizedSearchCV(model, param_distributions=params, n_iter=param_comb, n_jobs=4, verbose=3, random_state=1001 )\n",
    "\n",
    "#cv=skf.split(X,Y)\n",
    "# Here we go\n",
    "start_time = timer(None) # timing starts from this point for \"start_time\" variable\n",
    "random_search.fit(X, Y)\n",
    "timer(start_time) # timing ends here for \"start_time\" variable"
   ]
  },
  {
   "cell_type": "code",
   "execution_count": 140,
   "metadata": {},
   "outputs": [
    {
     "name": "stdout",
     "output_type": "stream",
     "text": [
      "\n",
      " All results:\n",
      "{'mean_fit_time': array([ 91.14354022, 139.68440715, 137.26617638, 110.86528158,\n",
      "       119.09287612]), 'std_fit_time': array([2.81644458, 5.72055445, 1.28532953, 2.43847861, 4.22122272]), 'mean_score_time': array([0.33134842, 0.52923695, 0.52825665, 0.53919148, 0.35074592]), 'std_score_time': array([0.04293319, 0.05562085, 0.07539545, 0.14604426, 0.02436338]), 'param_subsample': masked_array(data=[1.0, 0.6, 0.8, 1.0, 0.8],\n",
      "             mask=[False, False, False, False, False],\n",
      "       fill_value='?',\n",
      "            dtype=object), 'param_min_child_weight': masked_array(data=[5, 1, 5, 5, 1],\n",
      "             mask=[False, False, False, False, False],\n",
      "       fill_value='?',\n",
      "            dtype=object), 'param_max_depth': masked_array(data=[3, 5, 5, 5, 4],\n",
      "             mask=[False, False, False, False, False],\n",
      "       fill_value='?',\n",
      "            dtype=object), 'param_gamma': masked_array(data=[5, 1.5, 1, 5, 1],\n",
      "             mask=[False, False, False, False, False],\n",
      "       fill_value='?',\n",
      "            dtype=object), 'param_colsample_bytree': masked_array(data=[1.0, 0.8, 0.8, 0.6, 1.0],\n",
      "             mask=[False, False, False, False, False],\n",
      "       fill_value='?',\n",
      "            dtype=object), 'params': [{'subsample': 1.0, 'min_child_weight': 5, 'max_depth': 3, 'gamma': 5, 'colsample_bytree': 1.0}, {'subsample': 0.6, 'min_child_weight': 1, 'max_depth': 5, 'gamma': 1.5, 'colsample_bytree': 0.8}, {'subsample': 0.8, 'min_child_weight': 5, 'max_depth': 5, 'gamma': 1, 'colsample_bytree': 0.8}, {'subsample': 1.0, 'min_child_weight': 5, 'max_depth': 5, 'gamma': 5, 'colsample_bytree': 0.6}, {'subsample': 0.8, 'min_child_weight': 1, 'max_depth': 4, 'gamma': 1, 'colsample_bytree': 1.0}], 'split0_test_score': array([ -17.01014113, -280.99302359, -214.59097277, -287.99988532,\n",
      "        -13.5325608 ]), 'split1_test_score': array([0.98498025, 0.99253057, 0.98669546, 0.98571914, 0.99024421]), 'split2_test_score': array([0.97657135, 0.97354025, 0.97435423, 0.96365544, 0.97075116]), 'mean_test_score': array([ -5.01619651, -93.00898426, -70.87664102, -95.35017025,\n",
      "        -3.85718848]), 'std_test_score': array([  8.48100027, 132.92478919, 101.62137865, 136.22392022,\n",
      "         6.84152601]), 'rank_test_score': array([2, 4, 3, 5, 1], dtype=int32), 'split0_train_score': array([0.9976058 , 0.99949168, 0.99727031, 0.99817018, 0.99937074]), 'split1_train_score': array([0.99440645, 0.99796341, 0.99441426, 0.9956636 , 0.99771618]), 'split2_train_score': array([0.99594903, 0.99824739, 0.99680367, 0.99595613, 0.99773282]), 'mean_train_score': array([0.9959871 , 0.99856749, 0.99616275, 0.99659664, 0.99827325]), 'std_train_score': array([0.0013064 , 0.0006637 , 0.00125095, 0.00111905, 0.00077607])}\n",
      "\n",
      " Best estimator:\n",
      "XGBRegressor(base_score=0.5, booster='gbtree', colsample_bylevel=1,\n",
      "       colsample_bynode=1, colsample_bytree=1.0, gamma=1,\n",
      "       importance_type='gain', learning_rate=0.02, max_delta_step=0,\n",
      "       max_depth=4, min_child_weight=1, missing=None, n_estimators=600,\n",
      "       n_jobs=1, nthread=1, objective='reg:linear', random_state=0,\n",
      "       reg_alpha=0, reg_lambda=1, scale_pos_weight=1, seed=None,\n",
      "       silent=True, subsample=0.8, verbosity=1)\n",
      "\n",
      " Best normalized gini score for 3-fold search with 5 parameter combinations:\n",
      "-8.714376952141691\n",
      "\n",
      " Best hyperparameters:\n",
      "{'subsample': 0.8, 'min_child_weight': 1, 'max_depth': 4, 'gamma': 1, 'colsample_bytree': 1.0}\n"
     ]
    }
   ],
   "source": [
    "print('\\n All results:')\n",
    "print(random_search.cv_results_)\n",
    "print('\\n Best estimator:')\n",
    "print(random_search.best_estimator_)\n",
    "print('\\n Best normalized gini score for %d-fold search with %d parameter combinations:' % (folds, param_comb))\n",
    "print(random_search.best_score_ * 2 - 1)\n",
    "print('\\n Best hyperparameters:')\n",
    "print(random_search.best_params_)\n",
    "results = pd.DataFrame(random_search.cv_results_)\n",
    "results.to_csv('xgb-random-grid-search-results-01.csv', index=False)"
   ]
  },
  {
   "cell_type": "code",
   "execution_count": 146,
   "metadata": {},
   "outputs": [],
   "source": [
    "xgb_test_predictions = random_search.predict(test)\n",
    "#results_df = pd.DataFrame(data={'Actuals':y_test[:,1]})\n",
    "#results_df.to_csv('submission-random-grid-search-xgb-porto-01.csv', index=False)\n"
   ]
  },
  {
   "cell_type": "code",
   "execution_count": 199,
   "metadata": {},
   "outputs": [],
   "source": [
    "model_test_RMSE = np.sqrt(np.mean((xgb_test_predictions-y_test)**2))\n",
    "#model_train_RMSE = np.sqrt(np.mean((xgb_train_predictions-y_train)**2))\n",
    "original_budget_RMSE = np.sqrt(np.mean((original_budget-y_test)**2))\n"
   ]
  },
  {
   "cell_type": "code",
   "execution_count": 200,
   "metadata": {},
   "outputs": [
    {
     "data": {
      "text/plain": [
       "(22998,)"
      ]
     },
     "execution_count": 200,
     "metadata": {},
     "output_type": "execute_result"
    }
   ],
   "source": [
    "y_test.shape\n"
   ]
  },
  {
   "cell_type": "code",
   "execution_count": 201,
   "metadata": {},
   "outputs": [
    {
     "data": {
      "text/plain": [
       "26563"
      ]
     },
     "execution_count": 201,
     "metadata": {},
     "output_type": "execute_result"
    }
   ],
   "source": [
    "len(y_original_budget)\n"
   ]
  },
  {
   "cell_type": "code",
   "execution_count": 196,
   "metadata": {},
   "outputs": [
    {
     "data": {
      "text/plain": [
       "0     239999\n",
       "1      50000\n",
       "2        140\n",
       "3     107802\n",
       "4     418375\n",
       "5       5076\n",
       "6       4000\n",
       "7     107875\n",
       "8       3500\n",
       "9    1628293\n",
       "Name: Original Budget, dtype: int64"
      ]
     },
     "execution_count": 196,
     "metadata": {},
     "output_type": "execute_result"
    }
   ],
   "source": [
    "a =pd.Series([7,8,9,10])\n",
    "b=pd.Series([1,2,1])\n",
    "np.mean([36,36,64])\n",
    "np.mean((a-b)**2)\n",
    "original_budget[:10]\n"
   ]
  },
  {
   "cell_type": "code",
   "execution_count": 197,
   "metadata": {},
   "outputs": [
    {
     "data": {
      "text/plain": [
       "0     217011.80\n",
       "1      38227.23\n",
       "2        129.30\n",
       "3      99487.79\n",
       "4     345056.07\n",
       "5       4494.92\n",
       "6       2594.24\n",
       "7      87066.07\n",
       "8          0.00\n",
       "9    1458631.47\n",
       "Name: Actuals, dtype: float64"
      ]
     },
     "execution_count": 197,
     "metadata": {},
     "output_type": "execute_result"
    }
   ],
   "source": [
    "y_test[:10]"
   ]
  },
  {
   "cell_type": "code",
   "execution_count": 167,
   "metadata": {},
   "outputs": [
    {
     "data": {
      "text/plain": [
       "array([ 6.000000e+03,  1.532743e+06,  9.144000e+03,  2.102400e+04,\n",
       "        1.440000e+02,  0.000000e+00,  0.000000e+00,  4.443000e+03,\n",
       "        1.250000e+03,  0.000000e+00,  7.000000e+04,  1.000000e+04,\n",
       "        3.230000e+03,  0.000000e+00,  1.009000e+03,  6.692000e+03,\n",
       "        8.708280e+05,  1.060000e+04,  1.886000e+05,  4.630000e+02,\n",
       "        1.000000e+03,  4.246900e+04,  2.393000e+04,  8.500000e+02,\n",
       "        2.457460e+05,  4.800000e+04,  0.000000e+00,  1.000000e+03,\n",
       "        3.000000e+03,  0.000000e+00,  3.158400e+04,  0.000000e+00,\n",
       "        2.800000e+01,  7.500000e+03,  1.137480e+05,  0.000000e+00,\n",
       "        1.133100e+05,  7.384000e+04,  5.037000e+03,  2.500000e+04,\n",
       "        4.121600e+04,  1.357000e+03,  1.000000e+02,  8.500000e+02,\n",
       "        4.500000e+04,  0.000000e+00,  1.000000e+03,  2.000000e+04,\n",
       "        1.569100e+04,  1.643000e+03,  2.000000e+03,  1.600000e+02,\n",
       "        1.164000e+04,  9.100000e+03,  2.550000e+02,  2.791690e+05,\n",
       "        1.700000e+02,  1.000000e+02,  2.400000e+03,  0.000000e+00,\n",
       "        5.538430e+05,  8.550000e+03,  1.008000e+03,  3.266000e+03,\n",
       "        0.000000e+00,  8.034400e+04,  2.000000e+03,  2.740050e+05,\n",
       "        9.000000e+03,  8.200000e+03,  2.100000e+03,  1.900000e+06,\n",
       "        4.990000e+02,  1.297740e+05,  3.000000e+02,  7.529600e+04,\n",
       "        6.875700e+04,  1.784000e+03,  8.500000e+01,  8.554000e+04,\n",
       "        2.436200e+04,  7.760000e+02,  4.380000e+02,  9.837300e+04,\n",
       "        3.076040e+05,  1.100000e+03,  3.230000e+02,  1.672000e+03,\n",
       "        1.585000e+06,  2.486300e+04,  2.000000e+03,  1.491940e+05,\n",
       "        6.330000e+02,  5.000000e+02,  0.000000e+00,  2.732680e+05,\n",
       "        4.000000e+04,  0.000000e+00,  3.400000e+03,  4.600000e+03,\n",
       "        1.500000e+04,  6.548700e+04,  5.000000e+02,  8.000000e+03,\n",
       "        1.940000e+04,  0.000000e+00,  3.000000e+02,  5.127384e+06,\n",
       "        1.242374e+06,  1.430000e+02,  1.048000e+03,  1.000000e+02,\n",
       "        3.000000e+03,  1.489300e+04,  2.000000e+03,  2.685800e+04,\n",
       "        1.500000e+04,  4.000000e+03,  2.084180e+05,  1.000000e+03,\n",
       "        1.500000e+03,  1.000000e+03,  7.600000e+03,  1.020000e+03,\n",
       "        3.620000e+04,  4.000000e+02,  3.000000e+02,  4.500000e+05,\n",
       "        5.000000e+02,  0.000000e+00,  9.300000e+03,  8.200000e+05,\n",
       "        1.800000e+03,  1.100000e+03,  2.285000e+03,  3.000000e+02,\n",
       "        1.020000e+03,  0.000000e+00,  9.895240e+05,  6.181750e+05,\n",
       "        3.300000e+03,  5.151000e+03,  5.000000e+03,  2.400000e+03,\n",
       "        6.300000e+03,  9.040000e+02,  5.000000e+03,  2.488000e+03,\n",
       "        9.000000e+02,  6.000000e+02,  3.000000e+03,  6.000000e+02,\n",
       "        9.220000e+02,  1.821360e+05,  1.100000e+04,  1.700000e+04,\n",
       "        3.302500e+04,  2.820000e+03,  0.000000e+00,  6.504000e+03,\n",
       "        1.598000e+03,  7.500000e+03,  2.000000e+03,  9.874000e+04,\n",
       "        9.674100e+04,  1.695600e+05,  2.581030e+05,  2.300200e+04,\n",
       "        5.939000e+03,  2.496000e+03,  2.310000e+02,  5.715000e+03,\n",
       "        3.541030e+05,  5.100000e+02,  5.250000e+02,  7.000000e+02,\n",
       "        3.300000e+02,  3.090000e+02,  8.600000e+01,  1.511400e+04,\n",
       "        7.170000e+02,  3.180700e+05,  2.290000e+02,  5.500000e+03,\n",
       "        1.530000e+03,  4.300000e+03,  1.225000e+05,  1.800000e+03,\n",
       "        1.042065e+06,  2.045000e+05,  7.080000e+02,  8.409040e+05,\n",
       "        0.000000e+00,  1.785940e+06,  0.000000e+00,  3.090000e+03,\n",
       "        5.860000e+02,  8.000000e+03,  1.688000e+03,  0.000000e+00,\n",
       "        1.483645e+06,  7.919000e+03,  6.364300e+04,  5.351340e+05,\n",
       "        5.000000e+03,  2.000000e+05,  1.441600e+04,  2.664182e+06,\n",
       "        2.500000e+03,  5.019000e+03,  4.000000e+02,  9.460100e+04,\n",
       "        2.655000e+03,  4.000000e+02,  2.375939e+06,  2.650000e+02,\n",
       "        3.049000e+05,  2.836400e+04,  3.017900e+04,  4.326000e+03,\n",
       "        1.515000e+05,  0.000000e+00,  2.478000e+03,  4.100000e+02,\n",
       "        6.000000e+03,  5.000000e+03,  0.000000e+00,  1.000000e+04,\n",
       "        2.000000e+03,  2.430000e+04,  1.807000e+03,  4.253000e+03,\n",
       "        5.172000e+03,  1.878470e+05,  7.093900e+04,  0.000000e+00,\n",
       "        0.000000e+00,  4.000000e+02,  1.845000e+03,  5.000000e+03,\n",
       "        4.000000e+03,  5.512590e+05,  4.500000e+03,  1.000000e+03,\n",
       "        0.000000e+00,  8.299500e+04,  3.000000e+04,  2.130000e+04,\n",
       "        7.906100e+04,  0.000000e+00,  3.213000e+03,  1.000000e+02,\n",
       "        3.400000e+03,  3.542400e+04,  4.013000e+03,  0.000000e+00,\n",
       "        3.066003e+06,  1.500000e+04,  3.301000e+06,  0.000000e+00,\n",
       "        3.624780e+05,  2.285000e+03,  1.192000e+03,  1.470000e+04,\n",
       "        0.000000e+00,  2.500000e+04,  2.064000e+04,  1.901800e+04,\n",
       "        1.124500e+04,  1.000000e+04,  1.048000e+03,  6.000000e+02,\n",
       "        2.950000e+02,  4.600000e+03,  5.000000e+02,  4.434712e+06,\n",
       "        1.195000e+03,  2.733730e+05,  1.000000e+03,  1.800000e+03,\n",
       "        5.000000e+03,  1.412200e+04,  3.400000e+02,  2.923000e+04,\n",
       "        2.690000e+03,  5.250000e+03,  3.017100e+04,  2.500000e+03,\n",
       "        8.132000e+03,  9.700000e+03,  2.400000e+02,  4.995000e+03,\n",
       "        1.652900e+04,  4.000000e+04,  1.500000e+04,  3.115570e+05,\n",
       "        1.600000e+05,  9.994140e+05,  2.866400e+04,  1.000000e+03,\n",
       "        6.119000e+03,  1.700000e+03,  1.000000e+02,  5.000000e+03,\n",
       "        5.080000e+04,  2.177590e+05,  8.000000e+02,  3.106800e+04,\n",
       "        1.944320e+05,  5.860000e+02,  2.361692e+06,  1.517970e+05,\n",
       "        1.280000e+02,  0.000000e+00,  2.000000e+02,  1.171000e+03,\n",
       "        2.500000e+04,  1.064540e+05,  9.434600e+04,  0.000000e+00,\n",
       "        2.507500e+04,  7.850000e+05,  1.403070e+05,  0.000000e+00,\n",
       "        1.100000e+02,  2.501000e+05,  1.326580e+05,  5.193000e+03,\n",
       "        2.100000e+03,  7.685500e+04,  1.064000e+03,  7.529180e+05,\n",
       "        2.040000e+03,  1.762440e+05,  5.000000e+03,  1.000000e+03,\n",
       "        4.105000e+03,  3.378000e+04,  2.000000e+02,  5.400000e+03,\n",
       "        2.310000e+03,  1.000000e+03,  8.000000e+02,  5.000000e+02,\n",
       "        5.000000e+02,  1.158300e+04,  1.978000e+03,  5.198700e+04,\n",
       "        2.000000e+03,  1.500000e+04,  2.400000e+03,  2.000000e+03,\n",
       "        1.396340e+05,  5.000000e+02,  5.730000e+04,  1.500000e+03,\n",
       "        2.280000e+02,  2.977000e+05,  5.375000e+03,  0.000000e+00,\n",
       "        1.598000e+03,  1.132950e+05,  2.100000e+04,  5.013300e+04,\n",
       "        0.000000e+00,  8.100000e+02,  1.000000e+03,  1.000000e+02,\n",
       "        5.000000e+02,  1.510000e+02,  1.462900e+04,  5.755600e+04,\n",
       "        1.447500e+04,  5.000000e+03,  1.180233e+06,  2.752000e+04,\n",
       "        1.409100e+04,  2.500000e+03,  6.000000e+03,  2.000000e+03,\n",
       "        1.057670e+05,  9.000000e+02,  3.428080e+05,  9.000000e+02,\n",
       "        5.818300e+04,  3.000000e+02,  1.500000e+04,  1.275000e+03,\n",
       "        1.000000e+02,  1.800000e+04,  2.000000e+03,  1.530000e+03,\n",
       "        8.500000e+01,  5.048450e+05,  3.000000e+03,  6.800000e+02,\n",
       "        1.000000e+04,  1.440000e+04,  5.000000e+02,  0.000000e+00,\n",
       "        2.500000e+03,  8.700000e+03,  7.950000e+02,  2.000000e+03,\n",
       "        5.000000e+03,  2.000000e+03,  4.576000e+03,  4.000000e+02,\n",
       "        1.100000e+04,  7.280200e+04,  1.071200e+04,  1.865580e+05,\n",
       "        3.090000e+02,  1.000000e+02,  8.099880e+05,  0.000000e+00,\n",
       "        0.000000e+00,  1.902050e+05,  6.300000e+03,  6.490000e+03,\n",
       "        3.500000e+04,  9.778000e+03,  1.490000e+02,  3.815180e+05,\n",
       "        1.000000e+02,  2.060500e+04,  1.500000e+03,  5.000000e+02,\n",
       "        0.000000e+00,  9.435000e+03,  5.000000e+02,  3.015000e+05,\n",
       "        1.008000e+04,  6.100000e+03,  8.417600e+04,  8.628000e+03,\n",
       "        2.500000e+03, -4.807640e+05,  1.100000e+03,  8.500000e+01,\n",
       "        0.000000e+00,  5.600000e+03,  3.000000e+03,  8.677550e+05,\n",
       "        7.000000e+03,  2.000000e+03,  8.000000e+02,  3.817770e+05,\n",
       "        6.000000e+02,  4.000000e+03,  1.000000e+03,  2.300000e+03,\n",
       "        6.639800e+04,  3.000000e+03,  0.000000e+00,  1.800000e+02,\n",
       "        4.620000e+03,  9.040000e+02,  1.900000e+02,  2.706402e+06,\n",
       "        2.200000e+04,  6.820800e+04,  6.800000e+03,  0.000000e+00,\n",
       "        4.000000e+03,  4.171900e+05,  5.000000e+02,  3.871000e+03,\n",
       "        7.690000e+02,  3.703000e+03,  8.582690e+05,  6.700000e+03,\n",
       "        4.500000e+03,  6.000000e+02,  2.650263e+06,  2.000000e+02,\n",
       "        6.975000e+04,  1.000000e+04,  3.139000e+04,  9.254000e+04,\n",
       "        2.078000e+03,  4.642420e+05,  3.346000e+03,  1.569040e+05,\n",
       "        3.942670e+05,  1.650000e+05,  1.631900e+04,  0.000000e+00,\n",
       "        5.000000e+02,  8.440000e+03,  1.000000e+01,  2.000000e+02,\n",
       "        8.340000e+03,  0.000000e+00,  2.400000e+03,  3.020170e+05,\n",
       "        0.000000e+00,  2.957000e+03,  4.690000e+02,  7.022000e+04,\n",
       "        1.420000e+02,  8.516000e+03,  2.000000e+02,  0.000000e+00,\n",
       "        9.943300e+04,  1.662932e+06,  2.700000e+04,  1.170000e+03,\n",
       "        2.867630e+05,  4.000000e+03,  6.300000e+02,  1.159500e+06,\n",
       "        7.197000e+03,  3.500000e+03,  5.000000e+04,  3.000000e+02,\n",
       "        1.273860e+05,  8.824240e+05,  1.000000e+03,  1.122000e+03,\n",
       "        4.523050e+05,  0.000000e+00,  1.491604e+06,  1.756140e+05,\n",
       "        0.000000e+00,  4.000000e+03,  0.000000e+00,  6.000000e+02,\n",
       "        3.400000e+02,  1.260000e+03,  1.564917e+06,  0.000000e+00,\n",
       "        1.850000e+02,  3.000000e+03,  3.075000e+03,  1.514300e+04,\n",
       "        1.500000e+03,  2.612000e+04,  2.049000e+03,  2.300000e+03,\n",
       "        6.500000e+03,  2.454000e+04,  8.064000e+03,  8.000000e+04,\n",
       "        5.240000e+02,  5.000000e+02,  1.367702e+06,  4.706000e+03,\n",
       "        9.040000e+02,  2.000000e+05,  1.864000e+03,  5.000000e+02,\n",
       "        7.500000e+02,  1.664710e+05,  8.059200e+04,  3.100000e+03,\n",
       "        6.020000e+04,  1.000000e+03,  6.376200e+04,  2.732100e+04,\n",
       "        5.000000e+02,  0.000000e+00,  5.600000e+03,  0.000000e+00,\n",
       "        9.000000e+01,  9.228000e+03,  8.144000e+03,  2.000000e+03,\n",
       "        1.620000e+02,  1.382010e+05,  2.300100e+04,  3.892000e+03,\n",
       "        0.000000e+00,  7.200000e+04,  1.632700e+04,  1.111000e+03,\n",
       "        5.914200e+04,  8.000000e+02,  1.800300e+04,  1.000000e+01,\n",
       "        1.364670e+05,  1.480000e+03,  5.000000e+02,  2.525000e+03,\n",
       "        0.000000e+00,  3.200000e+03,  0.000000e+00,  2.836000e+03,\n",
       "        3.000000e+02,  8.700000e+03,  1.516980e+05,  9.000000e+02,\n",
       "        0.000000e+00,  1.270510e+05,  5.266000e+03,  1.000000e+03,\n",
       "        2.178500e+04,  1.200000e+03,  1.000000e+04,  4.200000e+03,\n",
       "        1.630000e+05,  1.394698e+06,  1.000000e+02,  3.825000e+03,\n",
       "        9.698000e+03,  2.000000e+02,  3.800000e+03,  1.000000e+02,\n",
       "        1.950000e+02,  0.000000e+00,  2.935000e+03,  2.260000e+02,\n",
       "        5.000000e+03,  2.500000e+02,  3.943000e+03,  5.030000e+02,\n",
       "        1.806000e+04,  1.590300e+04,  7.600000e+02,  1.700000e+02,\n",
       "        0.000000e+00,  2.496000e+03,  3.628060e+05,  1.010000e+02,\n",
       "        1.569320e+06,  1.100000e+03,  1.500000e+02,  9.100000e+03,\n",
       "        2.100000e+02,  2.080000e+03,  2.540000e+04,  4.750000e+03,\n",
       "        7.360000e+04,  4.228000e+03,  4.344810e+05,  6.785000e+03,\n",
       "        6.000000e+02,  1.370000e+04,  5.730600e+04,  7.400000e+03,\n",
       "        0.000000e+00,  0.000000e+00,  2.000000e+02,  2.049000e+03,\n",
       "        6.000000e+02,  3.310000e+04,  5.000000e+03,  4.056856e+06,\n",
       "        3.500000e+01,  8.000000e+03,  1.970000e+02,  3.570000e+03,\n",
       "        5.945000e+03,  1.500000e+03,  1.100000e+03,  1.750000e+04,\n",
       "        0.000000e+00,  7.088000e+03,  1.750000e+02,  4.000000e+02,\n",
       "        5.000000e+03,  1.000000e+02,  2.365470e+05,  4.000000e+05,\n",
       "        2.865510e+05,  3.460000e+02,  9.000000e+02,  5.950000e+02,\n",
       "        0.000000e+00,  1.229790e+06,  2.640000e+02,  1.600000e+04,\n",
       "        2.490000e+02,  3.535000e+04,  2.050000e+02,  1.900000e+03,\n",
       "        3.600000e+02,  2.463850e+05,  0.000000e+00,  3.000000e+04,\n",
       "        1.300000e+04,  0.000000e+00,  7.531100e+04,  2.097620e+05,\n",
       "        3.029000e+03,  5.000000e+03,  1.473560e+05,  2.300000e+03,\n",
       "        1.500000e+03,  1.535440e+05,  1.750000e+05,  3.000000e+03,\n",
       "        5.000000e+02,  1.000000e+01,  8.851300e+04,  1.000000e+03,\n",
       "        2.930200e+04,  8.000000e+03,  4.051990e+05,  1.500000e+03,\n",
       "        3.600000e+01,  7.918000e+04,  1.850000e+02,  1.340000e+02,\n",
       "        1.000000e+02,  2.423000e+03, -5.110000e+02,  1.660700e+04,\n",
       "        9.000000e+03,  4.000000e+03,  9.939000e+03,  0.000000e+00,\n",
       "        7.444800e+04,  1.300000e+04,  8.000000e+02,  1.400000e+03,\n",
       "        0.000000e+00,  1.188600e+04,  0.000000e+00,  6.500000e+02,\n",
       "        5.000000e+02,  3.248540e+05,  1.500000e+03,  8.500000e+04,\n",
       "        0.000000e+00,  8.000000e+02,  3.000000e+02,  1.425400e+04,\n",
       "        1.070570e+05,  1.036000e+03,  2.490000e+03,  1.500000e+04,\n",
       "        2.072900e+04,  4.650000e+06,  3.421300e+04,  8.000000e+02,\n",
       "        1.510722e+06,  2.000000e+03,  4.260000e+02,  1.724119e+06,\n",
       "        8.075000e+03,  1.500000e+04,  7.821000e+03,  2.000000e+05,\n",
       "        3.050700e+05,  4.250000e+02,  2.698000e+04,  2.060000e+04,\n",
       "        2.540000e+03,  2.190000e+04,  4.606500e+04,  8.760000e+02,\n",
       "        1.470000e+04,  8.000000e+02,  3.000000e+03,  3.100000e+04,\n",
       "        2.359600e+04,  1.212290e+05,  6.922700e+04,  2.550600e+04,\n",
       "        8.755900e+04,  5.000000e+02,  1.200000e+05,  1.031000e+04,\n",
       "        2.500000e+03,  3.500000e+01,  2.000000e+03,  3.252500e+04,\n",
       "        3.235000e+03,  3.000000e+04,  0.000000e+00,  4.833000e+03,\n",
       "        5.000000e+02,  9.950000e+03,  2.950000e+04,  8.580000e+02,\n",
       "        2.620000e+04,  8.013300e+04,  7.000000e+02,  1.000000e+03,\n",
       "        1.500000e+02,  7.600000e+03,  3.000000e+01,  1.628920e+05,\n",
       "        5.000000e+03,  3.000000e+03,  6.010000e+02,  3.079000e+03,\n",
       "        2.900000e+03,  1.455400e+04,  7.540000e+03,  2.000000e+02,\n",
       "        2.500000e+02,  9.040000e+02,  3.850000e+02,  5.945210e+05,\n",
       "        8.400300e+04,  1.149050e+05,  1.700000e+04,  9.686000e+03,\n",
       "        3.000000e+03,  1.400000e+03,  6.419000e+03,  5.000000e+02,\n",
       "        5.000000e+02,  0.000000e+00,  3.547819e+06,  2.030000e+02,\n",
       "        2.735940e+05,  2.549450e+05,  2.000000e+02,  6.795590e+05,\n",
       "        0.000000e+00,  1.500000e+03,  1.086700e+04,  0.000000e+00,\n",
       "        1.647920e+05,  4.150000e+03,  1.300000e+03,  8.633000e+03,\n",
       "        1.000000e+03,  3.000000e+03,  1.100000e+03,  3.893100e+04,\n",
       "        1.898470e+05,  1.959000e+03,  1.700000e+03,  1.000000e+05,\n",
       "        4.170000e+02,  6.744800e+04,  5.000000e+02,  2.142400e+04,\n",
       "        6.000000e+02,  3.430160e+05,  2.703710e+05,  5.000000e+02,\n",
       "        0.000000e+00,  2.100000e+03,  0.000000e+00,  4.401000e+03,\n",
       "        1.374620e+05,  1.000000e+03,  5.000000e+03,  2.500000e+03,\n",
       "        4.889600e+04,  3.000000e+03,  1.000000e+04,  6.600000e+02,\n",
       "        0.000000e+00,  7.940000e+03,  2.000000e+03,  3.000000e+03,\n",
       "        2.000000e+03,  2.718000e+03,  1.000000e+03,  1.000000e+03,\n",
       "        4.000000e+03,  2.233920e+05,  1.010118e+06,  5.000000e+02,\n",
       "        1.000000e+02,  2.000000e+03,  9.980000e+02,  1.320100e+05,\n",
       "        1.190000e+03,  5.000000e+02,  0.000000e+00,  3.507000e+03,\n",
       "        0.000000e+00,  2.530000e+05,  1.000000e+02,  2.000000e+04,\n",
       "        5.000000e+03,  1.218867e+06,  1.869210e+05,  9.366700e+04,\n",
       "        1.000000e+02,  2.000000e+02,  4.550000e+04,  3.300000e+03,\n",
       "        0.000000e+00,  4.000000e+05,  0.000000e+00,  2.655000e+03,\n",
       "        0.000000e+00,  2.465000e+03,  1.808000e+03,  2.800000e+03,\n",
       "        2.662990e+05,  9.040000e+02,  0.000000e+00,  7.767040e+06,\n",
       "        2.465000e+03,  2.000000e+03,  5.565000e+03,  4.116000e+03,\n",
       "        1.050000e+02,  1.320112e+06,  4.000000e+02,  7.760000e+04,\n",
       "        1.000000e+02,  3.626000e+03,  8.720000e+02,  1.000000e+03,\n",
       "        6.400000e+01,  7.927000e+03,  3.996000e+04,  5.000000e+04,\n",
       "        8.130000e+02,  1.312410e+05,  2.785600e+04,  1.000000e+02,\n",
       "        7.800000e+04,  1.440000e+02,  5.000000e+02,  1.572600e+05,\n",
       "        7.700000e+03,  2.161000e+04,  1.142000e+05,  3.000000e+04,\n",
       "        0.000000e+00,  1.200000e+03,  6.210500e+04,  9.934000e+03,\n",
       "        1.970590e+05,  2.500000e+03,  8.500000e+01,  1.068000e+03,\n",
       "        3.000000e+03,  2.863000e+03,  0.000000e+00,  5.100000e+02,\n",
       "        0.000000e+00,  1.170000e+04,  2.296852e+06,  1.650600e+04,\n",
       "        1.790000e+03,  0.000000e+00,  2.500000e+03,  2.315900e+04,\n",
       "        6.100000e+03,  1.280000e+04,  2.400000e+03,  3.000000e+02,\n",
       "        6.310100e+04,  1.326590e+05,  1.081400e+04,  3.840000e+03,\n",
       "        4.460000e+03,  1.996000e+05,  1.949230e+05,  8.000000e+04,\n",
       "        6.090700e+04,  3.000000e+03,  2.257370e+05,  0.000000e+00,\n",
       "        5.081400e+04,  3.567090e+05,  1.300000e+03,  7.000000e+04,\n",
       "        1.300000e+03,  5.068000e+03,  4.000000e+03,  0.000000e+00,\n",
       "        5.300000e+03,  3.350500e+04,  2.200000e+04,  1.200000e+03,\n",
       "        4.000000e+02,  0.000000e+00,  2.000000e+02,  1.590000e+04,\n",
       "        0.000000e+00,  1.570000e+04,  2.000000e+05,  2.430160e+05,\n",
       "        5.000000e+01,  4.818300e+04,  1.000000e+02,  4.427600e+04,\n",
       "        1.600000e+03,  1.724680e+05,  3.736211e+06,  1.668000e+04,\n",
       "        2.631190e+05,  8.400000e+02,  1.074138e+06,  1.200000e+03,\n",
       "        7.965000e+03,  5.000000e+02,  8.000000e+03,  1.200000e+05,\n",
       "        2.000000e+04,  6.370000e+03,  1.200000e+03,  7.860900e+04,\n",
       "        1.242000e+04,  2.988000e+03,  1.224000e+03,  0.000000e+00])"
      ]
     },
     "execution_count": 167,
     "metadata": {},
     "output_type": "execute_result"
    }
   ],
   "source": [
    "pd.DataFramey_original_budget[:1000].values\n",
    "\n"
   ]
  },
  {
   "cell_type": "code",
   "execution_count": 202,
   "metadata": {},
   "outputs": [
    {
     "data": {
      "text/plain": [
       "6257843.454195455"
      ]
     },
     "execution_count": 202,
     "metadata": {},
     "output_type": "execute_result"
    }
   ],
   "source": [
    "y_test.std()\n"
   ]
  },
  {
   "cell_type": "code",
   "execution_count": 203,
   "metadata": {},
   "outputs": [
    {
     "data": {
      "text/plain": [
       "684182.9834646059"
      ]
     },
     "execution_count": 203,
     "metadata": {},
     "output_type": "execute_result"
    }
   ],
   "source": [
    "model_test_RMSE\n"
   ]
  },
  {
   "cell_type": "code",
   "execution_count": 204,
   "metadata": {},
   "outputs": [
    {
     "data": {
      "text/plain": [
       "519179.9135619907"
      ]
     },
     "execution_count": 204,
     "metadata": {},
     "output_type": "execute_result"
    }
   ],
   "source": [
    "original_budget_RMSE\n"
   ]
  },
  {
   "cell_type": "code",
   "execution_count": null,
   "metadata": {},
   "outputs": [],
   "source": []
  },
  {
   "cell_type": "code",
   "execution_count": 158,
   "metadata": {},
   "outputs": [
    {
     "data": {
      "text/plain": [
       "Original Budget                                       1988\n",
       "1Y_Past_Actuals                                        542\n",
       "1Y_Past_OA_Difference                                  432\n",
       "Unnamed: 0                                             382\n",
       "GL Account                                             214\n",
       "Fiscal Year                                            210\n",
       "3Y_Past_Actuals                                        150\n",
       "2Y_Past_OA_Difference                                  140\n",
       "2Y_Past_Actuals                                        113\n",
       "Fund Id                                                105\n",
       "2Y_1Y_OA_Difference_Mean                               102\n",
       "1Y_Past_Original_Budget                                 68\n",
       "3Y_Past_OA_Difference                                   59\n",
       "3Y_2Y_1Y_OA_Difference_Mean                             57\n",
       "2Y_Past_Original_Budget                                 49\n",
       "Business Area                                           49\n",
       "3Y_2Y_1Y_Actuals_Mean                                   36\n",
       "Fund Name_PWE-W & S System Operating Fund               34\n",
       "Fund Name_PWE-Combined Utility System Oper Fund         32\n",
       "Yearly Avg High Temp                                    25\n",
       "Fund Name_Property & Casualty Fund                      23\n",
       "1YP_OA_Diff_Over_80K                                    23\n",
       "2Y_1Y_Actuals_Mean                                      22\n",
       "Fund Center Id                                          18\n",
       "Rockets Total Attendance                                12\n",
       "Business Area Name_Legal Department                     11\n",
       "3Y_Past_Original_Budget                                 10\n",
       "2Y_1Y_Original_Budget_Mean                              10\n",
       "Fund Name_C&E-Civic Center Facility Revenue Fund         7\n",
       "Yearly Avg Low Temp                                      5\n",
       "Fund Name_HAS-Revenue Fund                               5\n",
       "Yearly Crime Index                                       3\n",
       "Fund Name_PWE-Combined Utility System Gen Pur Fund       2\n",
       "Fund Name_Workers Compensation Admin Fund                2\n",
       "Business Area Name_Library                               2\n",
       "Business Area Name_Solid Waste Management                1\n",
       "Texans Playoff Rounds                                    1\n",
       "Business Area Name_Convention and Entertainment          1\n",
       "Business Area Name_Public Works & Engineering-PWE        1\n",
       "Name: 0, dtype: int64"
      ]
     },
     "execution_count": 158,
     "metadata": {},
     "output_type": "execute_result"
    }
   ],
   "source": [
    "weight_dict = random_search.best_estimator_.get_booster().get_score(importance_type=\"weight\")\n",
    "weight_df = pd.DataFrame(weight_dict, index=range(len(weight_dict)))\n",
    "weight_df.T[0].sort_values(ascending=False)\n"
   ]
  },
  {
   "cell_type": "code",
   "execution_count": 160,
   "metadata": {},
   "outputs": [
    {
     "data": {
      "text/plain": [
       "26563"
      ]
     },
     "execution_count": 160,
     "metadata": {},
     "output_type": "execute_result"
    }
   ],
   "source": [
    "len(y_original_budget)"
   ]
  },
  {
   "cell_type": "code",
   "execution_count": 159,
   "metadata": {},
   "outputs": [
    {
     "data": {
      "text/plain": [
       "22998"
      ]
     },
     "execution_count": 159,
     "metadata": {},
     "output_type": "execute_result"
    }
   ],
   "source": [
    "len(xgb_test_predictions)"
   ]
  },
  {
   "cell_type": "code",
   "execution_count": 161,
   "metadata": {},
   "outputs": [
    {
     "data": {
      "text/plain": [
       "22998"
      ]
     },
     "execution_count": 161,
     "metadata": {},
     "output_type": "execute_result"
    }
   ],
   "source": [
    "len(y_test)"
   ]
  },
  {
   "cell_type": "code",
   "execution_count": null,
   "metadata": {},
   "outputs": [],
   "source": [
    "sns.set_style('whitegrid')\n",
    "\n",
    "x = np.linspace(-1000000000,1000000000,1000000000)\n",
    "plt.figure(figsize=(12,12))\n",
    "#plt.scatter(y_train, xgb_train_predictions, c='red', alpha=.95)\n",
    "plt.scatter(y_test, xgb_test_predictions, c='blue', alpha=.95)\n",
    "plt.scatter(y_test, y_original_budget, c='green', alpha=.95)\n",
    "plt.plot(x,x,c='black')\n",
    "plt.xlim([-5,1000000000])\n",
    "plt.ylim([-5,1000000000])\n",
    "plt.xlabel('observations')\n",
    "plt.ylabel('predictions')\n"
   ]
  },
  {
   "cell_type": "code",
   "execution_count": null,
   "metadata": {},
   "outputs": [],
   "source": []
  },
  {
   "cell_type": "code",
   "execution_count": null,
   "metadata": {},
   "outputs": [],
   "source": []
  },
  {
   "cell_type": "code",
   "execution_count": null,
   "metadata": {},
   "outputs": [],
   "source": []
  },
  {
   "cell_type": "code",
   "execution_count": null,
   "metadata": {},
   "outputs": [],
   "source": []
  },
  {
   "cell_type": "code",
   "execution_count": null,
   "metadata": {},
   "outputs": [],
   "source": []
  },
  {
   "cell_type": "code",
   "execution_count": null,
   "metadata": {},
   "outputs": [],
   "source": []
  },
  {
   "cell_type": "code",
   "execution_count": null,
   "metadata": {},
   "outputs": [],
   "source": []
  },
  {
   "cell_type": "code",
   "execution_count": null,
   "metadata": {},
   "outputs": [],
   "source": []
  },
  {
   "cell_type": "code",
   "execution_count": null,
   "metadata": {},
   "outputs": [],
   "source": []
  },
  {
   "cell_type": "code",
   "execution_count": null,
   "metadata": {},
   "outputs": [],
   "source": []
  },
  {
   "cell_type": "markdown",
   "metadata": {},
   "source": [
    "# H2o"
   ]
  },
  {
   "cell_type": "code",
   "execution_count": 12,
   "metadata": {},
   "outputs": [
    {
     "name": "stdout",
     "output_type": "stream",
     "text": [
      "Checking whether there is an H2O instance running at http://localhost:54321 ..... not found.\n",
      "Attempting to start a local H2O server...\n",
      "  Java Version: Picked up _JAVA_OPTIONS: -Xverify:none; java version \"12.0.1\" 2019-04-16; Java(TM) SE Runtime Environment (build 12.0.1+12); Java HotSpot(TM) 64-Bit Server VM (build 12.0.1+12, mixed mode, sharing)\n",
      "  Starting server from /anaconda3/lib/python3.6/site-packages/h2o/backend/bin/h2o.jar\n",
      "  Ice root: /var/folders/0y/vcjmh6651517f16c4qtnxyg00000gq/T/tmppisi9qtu\n",
      "  JVM stdout: /var/folders/0y/vcjmh6651517f16c4qtnxyg00000gq/T/tmppisi9qtu/h2o_josephdown_started_from_python.out\n",
      "  JVM stderr: /var/folders/0y/vcjmh6651517f16c4qtnxyg00000gq/T/tmppisi9qtu/h2o_josephdown_started_from_python.err\n",
      "  Server is running at http://127.0.0.1:54321\n",
      "Connecting to H2O server at http://127.0.0.1:54321 ... successful.\n"
     ]
    },
    {
     "data": {
      "text/html": [
       "<div style=\"overflow:auto\"><table style=\"width:50%\"><tr><td>H2O cluster uptime:</td>\n",
       "<td>02 secs</td></tr>\n",
       "<tr><td>H2O cluster timezone:</td>\n",
       "<td>America/Chicago</td></tr>\n",
       "<tr><td>H2O data parsing timezone:</td>\n",
       "<td>UTC</td></tr>\n",
       "<tr><td>H2O cluster version:</td>\n",
       "<td>3.26.0.2</td></tr>\n",
       "<tr><td>H2O cluster version age:</td>\n",
       "<td>1 month and 10 days </td></tr>\n",
       "<tr><td>H2O cluster name:</td>\n",
       "<td>H2O_from_python_josephdown_97mll2</td></tr>\n",
       "<tr><td>H2O cluster total nodes:</td>\n",
       "<td>1</td></tr>\n",
       "<tr><td>H2O cluster free memory:</td>\n",
       "<td>4 Gb</td></tr>\n",
       "<tr><td>H2O cluster total cores:</td>\n",
       "<td>8</td></tr>\n",
       "<tr><td>H2O cluster allowed cores:</td>\n",
       "<td>8</td></tr>\n",
       "<tr><td>H2O cluster status:</td>\n",
       "<td>accepting new members, healthy</td></tr>\n",
       "<tr><td>H2O connection url:</td>\n",
       "<td>http://127.0.0.1:54321</td></tr>\n",
       "<tr><td>H2O connection proxy:</td>\n",
       "<td>None</td></tr>\n",
       "<tr><td>H2O internal security:</td>\n",
       "<td>False</td></tr>\n",
       "<tr><td>H2O API Extensions:</td>\n",
       "<td>Amazon S3, XGBoost, Algos, AutoML, Core V3, Core V4</td></tr>\n",
       "<tr><td>Python version:</td>\n",
       "<td>3.6.8 final</td></tr></table></div>"
      ],
      "text/plain": [
       "--------------------------  ---------------------------------------------------\n",
       "H2O cluster uptime:         02 secs\n",
       "H2O cluster timezone:       America/Chicago\n",
       "H2O data parsing timezone:  UTC\n",
       "H2O cluster version:        3.26.0.2\n",
       "H2O cluster version age:    1 month and 10 days\n",
       "H2O cluster name:           H2O_from_python_josephdown_97mll2\n",
       "H2O cluster total nodes:    1\n",
       "H2O cluster free memory:    4 Gb\n",
       "H2O cluster total cores:    8\n",
       "H2O cluster allowed cores:  8\n",
       "H2O cluster status:         accepting new members, healthy\n",
       "H2O connection url:         http://127.0.0.1:54321\n",
       "H2O connection proxy:\n",
       "H2O internal security:      False\n",
       "H2O API Extensions:         Amazon S3, XGBoost, Algos, AutoML, Core V3, Core V4\n",
       "Python version:             3.6.8 final\n",
       "--------------------------  ---------------------------------------------------"
      ]
     },
     "metadata": {},
     "output_type": "display_data"
    }
   ],
   "source": [
    "h2o.init()"
   ]
  },
  {
   "cell_type": "code",
   "execution_count": 13,
   "metadata": {},
   "outputs": [
    {
     "name": "stdout",
     "output_type": "stream",
     "text": [
      "Parse progress: |█████████████████████████████████████████████████████████| 100%\n"
     ]
    }
   ],
   "source": [
    "# create h2o frame for training data\n",
    "training_frame = pd.concat([X_train,y_train], axis=1)\n",
    "training_frame.columns = list(training_frame.columns[:-1]) + ['Actuals']\n",
    "training_frame = h2o.H2OFrame(training_frame)"
   ]
  },
  {
   "cell_type": "code",
   "execution_count": 14,
   "metadata": {},
   "outputs": [
    {
     "name": "stdout",
     "output_type": "stream",
     "text": [
      "Parse progress: |█████████████████████████████████████████████████████████| 100%\n"
     ]
    }
   ],
   "source": [
    "# create h2o frame for testing data\n",
    "testing_frame = pd.concat([X_test,y_test], axis=1)\n",
    "testing_frame.columns = list(testing_frame.columns[:-1]) + ['Actuals']\n",
    "testing_frame = h2o.H2OFrame(testing_frame)"
   ]
  },
  {
   "cell_type": "code",
   "execution_count": null,
   "metadata": {},
   "outputs": [
    {
     "name": "stdout",
     "output_type": "stream",
     "text": [
      "AutoML progress: |██████████████████████████████████████"
     ]
    }
   ],
   "source": [
    "aml = H2OAutoML(max_models=20, seed=1)\n",
    "aml.train(None, 'Actuals', training_frame)"
   ]
  },
  {
   "cell_type": "code",
   "execution_count": null,
   "metadata": {},
   "outputs": [],
   "source": [
    "y_test.std()"
   ]
  },
  {
   "cell_type": "code",
   "execution_count": null,
   "metadata": {},
   "outputs": [],
   "source": [
    "predicted_actuals = aml.predict(h2o.H2OFrame(pd.concat([X_test, y_test], axis=1)))\n",
    "np.sqrt(np.mean((predicted_actuals['predict'].as_data_frame()['predict'].values-y_test)**2))"
   ]
  },
  {
   "cell_type": "code",
   "execution_count": null,
   "metadata": {},
   "outputs": [],
   "source": [
    "aml.leader"
   ]
  },
  {
   "cell_type": "code",
   "execution_count": null,
   "metadata": {},
   "outputs": [],
   "source": [
    "#3:55 pm"
   ]
  },
  {
   "cell_type": "code",
   "execution_count": null,
   "metadata": {},
   "outputs": [],
   "source": []
  },
  {
   "cell_type": "code",
   "execution_count": null,
   "metadata": {},
   "outputs": [],
   "source": [
    "plt.figure(figsize=(12,12))\n",
    "plt.scatter(y_train, aml.predict(training_frame).as_data_frame()['predict'].values, c='red')\n",
    "plt.scatter(y_test, aml.predict(testing_frame).as_data_frame()['predict'].values, c='blue')\n",
    "#plt.scatter(train_df['voyage_duration'], train_df['eta_diff'], c='green')\n",
    "plt.plot(x,x,c='black')\n",
    "plt.xlim([-5,100000000])\n",
    "plt.ylim([-5,100000000])\n",
    "plt.xlabel('observations')\n",
    "plt.ylabel('predictions')"
   ]
  },
  {
   "cell_type": "code",
   "execution_count": null,
   "metadata": {},
   "outputs": [],
   "source": [
    "#9/4 4:42pm"
   ]
  },
  {
   "cell_type": "code",
   "execution_count": null,
   "metadata": {},
   "outputs": [],
   "source": []
  },
  {
   "cell_type": "code",
   "execution_count": null,
   "metadata": {},
   "outputs": [],
   "source": []
  },
  {
   "cell_type": "code",
   "execution_count": null,
   "metadata": {},
   "outputs": [],
   "source": []
  },
  {
   "cell_type": "code",
   "execution_count": null,
   "metadata": {},
   "outputs": [],
   "source": []
  }
 ],
 "metadata": {
  "kernelspec": {
   "display_name": "Python 3",
   "language": "python",
   "name": "python3"
  },
  "language_info": {
   "codemirror_mode": {
    "name": "ipython",
    "version": 3
   },
   "file_extension": ".py",
   "mimetype": "text/x-python",
   "name": "python",
   "nbconvert_exporter": "python",
   "pygments_lexer": "ipython3",
   "version": "3.6.8"
  }
 },
 "nbformat": 4,
 "nbformat_minor": 2
}
